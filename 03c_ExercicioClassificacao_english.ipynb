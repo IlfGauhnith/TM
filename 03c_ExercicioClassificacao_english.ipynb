{
  "cells": [
    {
      "cell_type": "markdown",
      "metadata": {
        "id": "view-in-github",
        "colab_type": "text"
      },
      "source": [
        "<a href=\"https://colab.research.google.com/github/IlfGauhnith/TM/blob/main/03c_ExercicioClassificacao_english.ipynb\" target=\"_parent\"><img src=\"https://colab.research.google.com/assets/colab-badge.svg\" alt=\"Open In Colab\"/></a>"
      ]
    },
    {
      "cell_type": "markdown",
      "metadata": {
        "id": "YGfG7BHb-W-r"
      },
      "source": [
        "# Exercise: Sentiment Analysis in Forums"
      ]
    },
    {
      "cell_type": "code",
      "execution_count": null,
      "metadata": {
        "colab": {
          "base_uri": "https://localhost:8080/",
          "height": 354
        },
        "id": "-3IMacGw8BP6",
        "outputId": "ff1d10d5-7572-4982-8dd6-4c666d5600a7"
      },
      "outputs": [
        {
          "output_type": "execute_result",
          "data": {
            "text/plain": [
              "                Disciplina      Autor  \\\n",
              "0  Estatística Descritiva  professor   \n",
              "1  Estatística Descritiva  professor   \n",
              "2  Estatística Descritiva     aluno1   \n",
              "3  Estatística Descritiva     aluno2   \n",
              "4  Estatística Descritiva  professor   \n",
              "\n",
              "                                            Postagem  \\\n",
              "0  Mais uma vez sejam bem vindos a disciplina de ...   \n",
              "1  Como estão os estudos? Já começaram a ver o ma...   \n",
              "2  Bom dia. Sim. Pra ser mais preciso comecei a a...   \n",
              "3  Iniciei hoje meus estudos nessa matéria !!! A ...   \n",
              "4  Expliquem com suas palavras os conceitos: 1 - ...   \n",
              "\n",
              "  Sentimento (0 - negativo; 5 - neutro; 10 - positivo)  \\\n",
              "0                                                  5     \n",
              "1                                                  5     \n",
              "2                                                  5     \n",
              "3                                                  8     \n",
              "4                                                  5     \n",
              "\n",
              "  Classe (pergunta, resposta, neutro)                  Assunto da postagem  \\\n",
              "0                              Neutro                                  NaN   \n",
              "1                            Pergunta                                  NaN   \n",
              "2                              Neutro                                  NaN   \n",
              "3                            resposta  Introdução à Estatística descritiva   \n",
              "4                            Pergunta  Introdução à Estatística descritiva   \n",
              "\n",
              "                     Unnamed: 6          Unnamed: 7            Unnamed: 8  \n",
              "0                           NaN                 NaN                   NaN  \n",
              "1                           NaN                 NaN                   NaN  \n",
              "2                           NaN                 NaN                   NaN  \n",
              "3                           NaN                 NaN                   NaN  \n",
              "4  Medidas de tendência central  Medidas de Posição  Medidas de dispersão  "
            ],
            "text/html": [
              "\n",
              "  <div id=\"df-4f928efe-1a8e-469e-94b6-daf03a162250\">\n",
              "    <div class=\"colab-df-container\">\n",
              "      <div>\n",
              "<style scoped>\n",
              "    .dataframe tbody tr th:only-of-type {\n",
              "        vertical-align: middle;\n",
              "    }\n",
              "\n",
              "    .dataframe tbody tr th {\n",
              "        vertical-align: top;\n",
              "    }\n",
              "\n",
              "    .dataframe thead th {\n",
              "        text-align: right;\n",
              "    }\n",
              "</style>\n",
              "<table border=\"1\" class=\"dataframe\">\n",
              "  <thead>\n",
              "    <tr style=\"text-align: right;\">\n",
              "      <th></th>\n",
              "      <th>Disciplina</th>\n",
              "      <th>Autor</th>\n",
              "      <th>Postagem</th>\n",
              "      <th>Sentimento (0 - negativo; 5 - neutro; 10 - positivo)</th>\n",
              "      <th>Classe (pergunta, resposta, neutro)</th>\n",
              "      <th>Assunto da postagem</th>\n",
              "      <th>Unnamed: 6</th>\n",
              "      <th>Unnamed: 7</th>\n",
              "      <th>Unnamed: 8</th>\n",
              "    </tr>\n",
              "  </thead>\n",
              "  <tbody>\n",
              "    <tr>\n",
              "      <th>0</th>\n",
              "      <td>Estatística Descritiva</td>\n",
              "      <td>professor</td>\n",
              "      <td>Mais uma vez sejam bem vindos a disciplina de ...</td>\n",
              "      <td>5</td>\n",
              "      <td>Neutro</td>\n",
              "      <td>NaN</td>\n",
              "      <td>NaN</td>\n",
              "      <td>NaN</td>\n",
              "      <td>NaN</td>\n",
              "    </tr>\n",
              "    <tr>\n",
              "      <th>1</th>\n",
              "      <td>Estatística Descritiva</td>\n",
              "      <td>professor</td>\n",
              "      <td>Como estão os estudos? Já começaram a ver o ma...</td>\n",
              "      <td>5</td>\n",
              "      <td>Pergunta</td>\n",
              "      <td>NaN</td>\n",
              "      <td>NaN</td>\n",
              "      <td>NaN</td>\n",
              "      <td>NaN</td>\n",
              "    </tr>\n",
              "    <tr>\n",
              "      <th>2</th>\n",
              "      <td>Estatística Descritiva</td>\n",
              "      <td>aluno1</td>\n",
              "      <td>Bom dia. Sim. Pra ser mais preciso comecei a a...</td>\n",
              "      <td>5</td>\n",
              "      <td>Neutro</td>\n",
              "      <td>NaN</td>\n",
              "      <td>NaN</td>\n",
              "      <td>NaN</td>\n",
              "      <td>NaN</td>\n",
              "    </tr>\n",
              "    <tr>\n",
              "      <th>3</th>\n",
              "      <td>Estatística Descritiva</td>\n",
              "      <td>aluno2</td>\n",
              "      <td>Iniciei hoje meus estudos nessa matéria !!! A ...</td>\n",
              "      <td>8</td>\n",
              "      <td>resposta</td>\n",
              "      <td>Introdução à Estatística descritiva</td>\n",
              "      <td>NaN</td>\n",
              "      <td>NaN</td>\n",
              "      <td>NaN</td>\n",
              "    </tr>\n",
              "    <tr>\n",
              "      <th>4</th>\n",
              "      <td>Estatística Descritiva</td>\n",
              "      <td>professor</td>\n",
              "      <td>Expliquem com suas palavras os conceitos: 1 - ...</td>\n",
              "      <td>5</td>\n",
              "      <td>Pergunta</td>\n",
              "      <td>Introdução à Estatística descritiva</td>\n",
              "      <td>Medidas de tendência central</td>\n",
              "      <td>Medidas de Posição</td>\n",
              "      <td>Medidas de dispersão</td>\n",
              "    </tr>\n",
              "  </tbody>\n",
              "</table>\n",
              "</div>\n",
              "      <button class=\"colab-df-convert\" onclick=\"convertToInteractive('df-4f928efe-1a8e-469e-94b6-daf03a162250')\"\n",
              "              title=\"Convert this dataframe to an interactive table.\"\n",
              "              style=\"display:none;\">\n",
              "        \n",
              "  <svg xmlns=\"http://www.w3.org/2000/svg\" height=\"24px\"viewBox=\"0 0 24 24\"\n",
              "       width=\"24px\">\n",
              "    <path d=\"M0 0h24v24H0V0z\" fill=\"none\"/>\n",
              "    <path d=\"M18.56 5.44l.94 2.06.94-2.06 2.06-.94-2.06-.94-.94-2.06-.94 2.06-2.06.94zm-11 1L8.5 8.5l.94-2.06 2.06-.94-2.06-.94L8.5 2.5l-.94 2.06-2.06.94zm10 10l.94 2.06.94-2.06 2.06-.94-2.06-.94-.94-2.06-.94 2.06-2.06.94z\"/><path d=\"M17.41 7.96l-1.37-1.37c-.4-.4-.92-.59-1.43-.59-.52 0-1.04.2-1.43.59L10.3 9.45l-7.72 7.72c-.78.78-.78 2.05 0 2.83L4 21.41c.39.39.9.59 1.41.59.51 0 1.02-.2 1.41-.59l7.78-7.78 2.81-2.81c.8-.78.8-2.07 0-2.86zM5.41 20L4 18.59l7.72-7.72 1.47 1.35L5.41 20z\"/>\n",
              "  </svg>\n",
              "      </button>\n",
              "      \n",
              "  <style>\n",
              "    .colab-df-container {\n",
              "      display:flex;\n",
              "      flex-wrap:wrap;\n",
              "      gap: 12px;\n",
              "    }\n",
              "\n",
              "    .colab-df-convert {\n",
              "      background-color: #E8F0FE;\n",
              "      border: none;\n",
              "      border-radius: 50%;\n",
              "      cursor: pointer;\n",
              "      display: none;\n",
              "      fill: #1967D2;\n",
              "      height: 32px;\n",
              "      padding: 0 0 0 0;\n",
              "      width: 32px;\n",
              "    }\n",
              "\n",
              "    .colab-df-convert:hover {\n",
              "      background-color: #E2EBFA;\n",
              "      box-shadow: 0px 1px 2px rgba(60, 64, 67, 0.3), 0px 1px 3px 1px rgba(60, 64, 67, 0.15);\n",
              "      fill: #174EA6;\n",
              "    }\n",
              "\n",
              "    [theme=dark] .colab-df-convert {\n",
              "      background-color: #3B4455;\n",
              "      fill: #D2E3FC;\n",
              "    }\n",
              "\n",
              "    [theme=dark] .colab-df-convert:hover {\n",
              "      background-color: #434B5C;\n",
              "      box-shadow: 0px 1px 3px 1px rgba(0, 0, 0, 0.15);\n",
              "      filter: drop-shadow(0px 1px 2px rgba(0, 0, 0, 0.3));\n",
              "      fill: #FFFFFF;\n",
              "    }\n",
              "  </style>\n",
              "\n",
              "      <script>\n",
              "        const buttonEl =\n",
              "          document.querySelector('#df-4f928efe-1a8e-469e-94b6-daf03a162250 button.colab-df-convert');\n",
              "        buttonEl.style.display =\n",
              "          google.colab.kernel.accessAllowed ? 'block' : 'none';\n",
              "\n",
              "        async function convertToInteractive(key) {\n",
              "          const element = document.querySelector('#df-4f928efe-1a8e-469e-94b6-daf03a162250');\n",
              "          const dataTable =\n",
              "            await google.colab.kernel.invokeFunction('convertToInteractive',\n",
              "                                                     [key], {});\n",
              "          if (!dataTable) return;\n",
              "\n",
              "          const docLinkHtml = 'Like what you see? Visit the ' +\n",
              "            '<a target=\"_blank\" href=https://colab.research.google.com/notebooks/data_table.ipynb>data table notebook</a>'\n",
              "            + ' to learn more about interactive tables.';\n",
              "          element.innerHTML = '';\n",
              "          dataTable['output_type'] = 'display_data';\n",
              "          await google.colab.output.renderOutput(dataTable, element);\n",
              "          const docLink = document.createElement('div');\n",
              "          docLink.innerHTML = docLinkHtml;\n",
              "          element.appendChild(docLink);\n",
              "        }\n",
              "      </script>\n",
              "    </div>\n",
              "  </div>\n",
              "  "
            ]
          },
          "metadata": {},
          "execution_count": 21
        }
      ],
      "source": [
        "import pandas as pd\n",
        "\n",
        "df = pd.read_csv(\"forum.csv\")\n",
        "df.head()"
      ]
    },
    {
      "cell_type": "markdown",
      "metadata": {
        "id": "mIcfqQGH-G_F"
      },
      "source": [
        "Analyze the distribution of classes, indicated in the `Classe (pergunta, resposta, neutro)` column"
      ]
    },
    {
      "cell_type": "code",
      "execution_count": null,
      "metadata": {
        "colab": {
          "base_uri": "https://localhost:8080/",
          "height": 534
        },
        "id": "I_NLk1Ev-qqF",
        "outputId": "d59695aa-6bee-4cec-a5a7-e9eb2e4d51d0"
      },
      "outputs": [
        {
          "output_type": "stream",
          "name": "stdout",
          "text": [
            "neutro's probability: 0.22556390977443608\n",
            "pergunta's probability: 0.06015037593984962\n",
            "resposta's probability: 0.7142857142857143\n"
          ]
        },
        {
          "output_type": "display_data",
          "data": {
            "text/plain": [
              "<Figure size 640x480 with 1 Axes>"
            ],
            "image/png": "[encoded data removed]"
          },
          "metadata": {}
        }
      ],
      "source": [
        "df['Classe (pergunta, resposta, neutro)'] = df['Classe (pergunta, resposta, neutro)'].apply(str.lower)\n",
        "df['Classe (pergunta, resposta, neutro)'].value_counts().plot(kind='bar')\n",
        "\n",
        "for unq_value in df['Classe (pergunta, resposta, neutro)'].unique():\n",
        "  probability = len(df[ df['Classe (pergunta, resposta, neutro)'] == unq_value]) / len(df['Classe (pergunta, resposta, neutro)'])\n",
        "  print(f\"{unq_value}'s probability: {probability}\")"
      ]
    },
    {
      "cell_type": "markdown",
      "metadata": {
        "id": "uPzg6Wcs-1rl"
      },
      "source": [
        "Analyze the distribution of review sizes, plot a histogram (`DataFrame.plot.hist()`)"
      ]
    },
    {
      "cell_type": "code",
      "execution_count": null,
      "metadata": {
        "colab": {
          "base_uri": "https://localhost:8080/",
          "height": 467
        },
        "id": "UAiZekzx-0-N",
        "outputId": "d690d8d9-ee75-4af8-b8e8-c09d880b3c11"
      },
      "outputs": [
        {
          "output_type": "stream",
          "name": "stdout",
          "text": [
            "Characters histogram before preprocessing\n"
          ]
        },
        {
          "output_type": "execute_result",
          "data": {
            "text/plain": [
              "<Axes: ylabel='Frequency'>"
            ]
          },
          "metadata": {},
          "execution_count": 23
        },
        {
          "output_type": "display_data",
          "data": {
            "text/plain": [
              "<Figure size 640x480 with 1 Axes>"
            ],
            "image/png": "[encoded data removed]"
          },
          "metadata": {}
        }
      ],
      "source": [
        "print(\"Characters histogram before preprocessing\")\n",
        "df['Postagem'].apply(lambda x: len(x)).plot.hist()"
      ]
    },
    {
      "cell_type": "code",
      "execution_count": null,
      "metadata": {
        "colab": {
          "base_uri": "https://localhost:8080/",
          "height": 467
        },
        "id": "rmAwe4mmdKh1",
        "outputId": "e9db1968-a07a-45dd-9c9b-8ddd463dda51"
      },
      "outputs": [
        {
          "output_type": "stream",
          "name": "stdout",
          "text": [
            "Characters histogram after preprocessing\n"
          ]
        },
        {
          "output_type": "execute_result",
          "data": {
            "text/plain": [
              "<Axes: ylabel='Frequency'>"
            ]
          },
          "metadata": {},
          "execution_count": 24
        },
        {
          "output_type": "display_data",
          "data": {
            "text/plain": [
              "<Figure size 640x480 with 1 Axes>"
            ],
            "image/png": "[encoded data removed]"
          },
          "metadata": {}
        }
      ],
      "source": [
        "print(\"Characters histogram after preprocessing\")\n",
        "df['Postagem'].apply(lambda text: ' '.join([token.text for token in nlp(text) if not token.is_stop]).lower()).apply(lambda x: len(x)).plot.hist()"
      ]
    },
    {
      "cell_type": "code",
      "execution_count": null,
      "metadata": {
        "colab": {
          "base_uri": "https://localhost:8080/",
          "height": 467
        },
        "id": "-1YLBNlaeHg5",
        "outputId": "d7c09e1f-e280-426e-f2a6-597d99d8a46b"
      },
      "outputs": [
        {
          "output_type": "stream",
          "name": "stdout",
          "text": [
            "Tokens histogram after preprocessing\n"
          ]
        },
        {
          "output_type": "execute_result",
          "data": {
            "text/plain": [
              "<Axes: ylabel='Frequency'>"
            ]
          },
          "metadata": {},
          "execution_count": 25
        },
        {
          "output_type": "display_data",
          "data": {
            "text/plain": [
              "<Figure size 640x480 with 1 Axes>"
            ],
            "image/png": "[encoded data removed]"
          },
          "metadata": {}
        }
      ],
      "source": [
        "print(\"Tokens histogram after preprocessing\")\n",
        "df['Postagem'].apply(lambda text: ' '.join([token.text for token in nlp(text) if not token.is_stop]).lower()).apply(lambda x: len(x.split(' '))).plot.hist()"
      ]
    },
    {
      "cell_type": "markdown",
      "metadata": {
        "id": "Yfm1MeotAh4Z"
      },
      "source": [
        "Apply Sklearn's categorical label encoding function ([LabelEncoder](https://scikit-learn.org/stable/modules/generated/sklearn.preprocessing.LabelEncoder.html)) to convert class labels to numbers. Save in an additional column in the dataframe."
      ]
    },
    {
      "cell_type": "code",
      "execution_count": null,
      "metadata": {
        "colab": {
          "base_uri": "https://localhost:8080/",
          "height": 442
        },
        "id": "WkVpxbybA9fm",
        "outputId": "98c389b9-5063-41af-9939-2a1b1b36f6ea"
      },
      "outputs": [
        {
          "output_type": "stream",
          "name": "stdout",
          "text": [
            "Column 'Classe (pergunta, resposta, neutro)' classes: ['neutro', 'pergunta', 'resposta']\n"
          ]
        },
        {
          "output_type": "execute_result",
          "data": {
            "text/plain": [
              "    Classe (pergunta, resposta, neutro)  \\\n",
              "0                                neutro   \n",
              "1                              pergunta   \n",
              "2                                neutro   \n",
              "3                              resposta   \n",
              "4                              pergunta   \n",
              "..                                  ...   \n",
              "128                            resposta   \n",
              "129                            resposta   \n",
              "130                            resposta   \n",
              "131                            resposta   \n",
              "132                            resposta   \n",
              "\n",
              "     Classe (pergunta, resposta, neutro) - ENCODED  \n",
              "0                                                0  \n",
              "1                                                1  \n",
              "2                                                0  \n",
              "3                                                2  \n",
              "4                                                1  \n",
              "..                                             ...  \n",
              "128                                              2  \n",
              "129                                              2  \n",
              "130                                              2  \n",
              "131                                              2  \n",
              "132                                              2  \n",
              "\n",
              "[133 rows x 2 columns]"
            ],
            "text/html": [
              "\n",
              "  <div id=\"df-47728486-8a63-48e0-8edc-cb7f9f7f6f2c\">\n",
              "    <div class=\"colab-df-container\">\n",
              "      <div>\n",
              "<style scoped>\n",
              "    .dataframe tbody tr th:only-of-type {\n",
              "        vertical-align: middle;\n",
              "    }\n",
              "\n",
              "    .dataframe tbody tr th {\n",
              "        vertical-align: top;\n",
              "    }\n",
              "\n",
              "    .dataframe thead th {\n",
              "        text-align: right;\n",
              "    }\n",
              "</style>\n",
              "<table border=\"1\" class=\"dataframe\">\n",
              "  <thead>\n",
              "    <tr style=\"text-align: right;\">\n",
              "      <th></th>\n",
              "      <th>Classe (pergunta, resposta, neutro)</th>\n",
              "      <th>Classe (pergunta, resposta, neutro) - ENCODED</th>\n",
              "    </tr>\n",
              "  </thead>\n",
              "  <tbody>\n",
              "    <tr>\n",
              "      <th>0</th>\n",
              "      <td>neutro</td>\n",
              "      <td>0</td>\n",
              "    </tr>\n",
              "    <tr>\n",
              "      <th>1</th>\n",
              "      <td>pergunta</td>\n",
              "      <td>1</td>\n",
              "    </tr>\n",
              "    <tr>\n",
              "      <th>2</th>\n",
              "      <td>neutro</td>\n",
              "      <td>0</td>\n",
              "    </tr>\n",
              "    <tr>\n",
              "      <th>3</th>\n",
              "      <td>resposta</td>\n",
              "      <td>2</td>\n",
              "    </tr>\n",
              "    <tr>\n",
              "      <th>4</th>\n",
              "      <td>pergunta</td>\n",
              "      <td>1</td>\n",
              "    </tr>\n",
              "    <tr>\n",
              "      <th>...</th>\n",
              "      <td>...</td>\n",
              "      <td>...</td>\n",
              "    </tr>\n",
              "    <tr>\n",
              "      <th>128</th>\n",
              "      <td>resposta</td>\n",
              "      <td>2</td>\n",
              "    </tr>\n",
              "    <tr>\n",
              "      <th>129</th>\n",
              "      <td>resposta</td>\n",
              "      <td>2</td>\n",
              "    </tr>\n",
              "    <tr>\n",
              "      <th>130</th>\n",
              "      <td>resposta</td>\n",
              "      <td>2</td>\n",
              "    </tr>\n",
              "    <tr>\n",
              "      <th>131</th>\n",
              "      <td>resposta</td>\n",
              "      <td>2</td>\n",
              "    </tr>\n",
              "    <tr>\n",
              "      <th>132</th>\n",
              "      <td>resposta</td>\n",
              "      <td>2</td>\n",
              "    </tr>\n",
              "  </tbody>\n",
              "</table>\n",
              "<p>133 rows × 2 columns</p>\n",
              "</div>\n",
              "      <button class=\"colab-df-convert\" onclick=\"convertToInteractive('df-47728486-8a63-48e0-8edc-cb7f9f7f6f2c')\"\n",
              "              title=\"Convert this dataframe to an interactive table.\"\n",
              "              style=\"display:none;\">\n",
              "        \n",
              "  <svg xmlns=\"http://www.w3.org/2000/svg\" height=\"24px\"viewBox=\"0 0 24 24\"\n",
              "       width=\"24px\">\n",
              "    <path d=\"M0 0h24v24H0V0z\" fill=\"none\"/>\n",
              "    <path d=\"M18.56 5.44l.94 2.06.94-2.06 2.06-.94-2.06-.94-.94-2.06-.94 2.06-2.06.94zm-11 1L8.5 8.5l.94-2.06 2.06-.94-2.06-.94L8.5 2.5l-.94 2.06-2.06.94zm10 10l.94 2.06.94-2.06 2.06-.94-2.06-.94-.94-2.06-.94 2.06-2.06.94z\"/><path d=\"M17.41 7.96l-1.37-1.37c-.4-.4-.92-.59-1.43-.59-.52 0-1.04.2-1.43.59L10.3 9.45l-7.72 7.72c-.78.78-.78 2.05 0 2.83L4 21.41c.39.39.9.59 1.41.59.51 0 1.02-.2 1.41-.59l7.78-7.78 2.81-2.81c.8-.78.8-2.07 0-2.86zM5.41 20L4 18.59l7.72-7.72 1.47 1.35L5.41 20z\"/>\n",
              "  </svg>\n",
              "      </button>\n",
              "      \n",
              "  <style>\n",
              "    .colab-df-container {\n",
              "      display:flex;\n",
              "      flex-wrap:wrap;\n",
              "      gap: 12px;\n",
              "    }\n",
              "\n",
              "    .colab-df-convert {\n",
              "      background-color: #E8F0FE;\n",
              "      border: none;\n",
              "      border-radius: 50%;\n",
              "      cursor: pointer;\n",
              "      display: none;\n",
              "      fill: #1967D2;\n",
              "      height: 32px;\n",
              "      padding: 0 0 0 0;\n",
              "      width: 32px;\n",
              "    }\n",
              "\n",
              "    .colab-df-convert:hover {\n",
              "      background-color: #E2EBFA;\n",
              "      box-shadow: 0px 1px 2px rgba(60, 64, 67, 0.3), 0px 1px 3px 1px rgba(60, 64, 67, 0.15);\n",
              "      fill: #174EA6;\n",
              "    }\n",
              "\n",
              "    [theme=dark] .colab-df-convert {\n",
              "      background-color: #3B4455;\n",
              "      fill: #D2E3FC;\n",
              "    }\n",
              "\n",
              "    [theme=dark] .colab-df-convert:hover {\n",
              "      background-color: #434B5C;\n",
              "      box-shadow: 0px 1px 3px 1px rgba(0, 0, 0, 0.15);\n",
              "      filter: drop-shadow(0px 1px 2px rgba(0, 0, 0, 0.3));\n",
              "      fill: #FFFFFF;\n",
              "    }\n",
              "  </style>\n",
              "\n",
              "      <script>\n",
              "        const buttonEl =\n",
              "          document.querySelector('#df-47728486-8a63-48e0-8edc-cb7f9f7f6f2c button.colab-df-convert');\n",
              "        buttonEl.style.display =\n",
              "          google.colab.kernel.accessAllowed ? 'block' : 'none';\n",
              "\n",
              "        async function convertToInteractive(key) {\n",
              "          const element = document.querySelector('#df-47728486-8a63-48e0-8edc-cb7f9f7f6f2c');\n",
              "          const dataTable =\n",
              "            await google.colab.kernel.invokeFunction('convertToInteractive',\n",
              "                                                     [key], {});\n",
              "          if (!dataTable) return;\n",
              "\n",
              "          const docLinkHtml = 'Like what you see? Visit the ' +\n",
              "            '<a target=\"_blank\" href=https://colab.research.google.com/notebooks/data_table.ipynb>data table notebook</a>'\n",
              "            + ' to learn more about interactive tables.';\n",
              "          element.innerHTML = '';\n",
              "          dataTable['output_type'] = 'display_data';\n",
              "          await google.colab.output.renderOutput(dataTable, element);\n",
              "          const docLink = document.createElement('div');\n",
              "          docLink.innerHTML = docLinkHtml;\n",
              "          element.appendChild(docLink);\n",
              "        }\n",
              "      </script>\n",
              "    </div>\n",
              "  </div>\n",
              "  "
            ]
          },
          "metadata": {},
          "execution_count": 26
        }
      ],
      "source": [
        "from sklearn import preprocessing\n",
        "\n",
        "label_encoder = preprocessing.LabelEncoder()\n",
        "label_encoder.fit(df['Classe (pergunta, resposta, neutro)'].unique())\n",
        "print(f\"Column 'Classe (pergunta, resposta, neutro)' classes: {list(label_encoder.classes_)}\")\n",
        "\n",
        "df['Classe (pergunta, resposta, neutro) - ENCODED'] = df['Classe (pergunta, resposta, neutro)'].apply(lambda x: label_encoder.transform([x])[0])\n",
        "df[['Classe (pergunta, resposta, neutro)', 'Classe (pergunta, resposta, neutro) - ENCODED']]"
      ]
    },
    {
      "cell_type": "markdown",
      "metadata": {
        "id": "w3oDZj-l8o-7"
      },
      "source": [
        "Apply the pre-processing pipeline using NLTK or SpaCy (tokenization and stopword removal), and then use the Scikit-Learn transformation functions for texts, using the n-gram attributes to classify the texts:\n",
        "```\n",
        "from sklearn.feature_extraction.text import TfidfVectorizer\n",
        "vectorizer = TfidfVectorizer(use_idf=True)\n",
        "```\n",
        "In which you can pass the values of n-gram ranges:\n",
        "- an ngram range of (1, 1) means unigrams only\n",
        "- (1, 2) means unigrams and bigrams\n",
        "- (2, 2) means only bigrams"
      ]
    },
    {
      "cell_type": "code",
      "execution_count": null,
      "metadata": {
        "colab": {
          "base_uri": "https://localhost:8080/"
        },
        "id": "4jWJ-CsH_2KV",
        "outputId": "0e3d8295-bc3f-4010-8bc2-d20481d71025"
      },
      "outputs": [
        {
          "output_type": "stream",
          "name": "stdout",
          "text": [
            "2023-06-26 01:23:33.247744: W tensorflow/compiler/tf2tensorrt/utils/py_utils.cc:38] TF-TRT Warning: Could not find TensorRT\n",
            "Looking in indexes: https://pypi.org/simple, https://us-python.pkg.dev/colab-wheels/public/simple/\n",
            "Collecting pt-core-news-lg==3.5.0\n",
            "  Downloading https://github.com/explosion/spacy-models/releases/download/pt_core_news_lg-3.5.0/pt_core_news_lg-3.5.0-py3-none-any.whl (568.2 MB)\n",
            "\u001b[2K     \u001b[90m━━━━━━━━━━━━━━━━━━━━━━━━━━━━━━━━━━━━━━━\u001b[0m \u001b[32m568.2/568.2 MB\u001b[0m \u001b[31m1.5 MB/s\u001b[0m eta \u001b[36m0:00:00\u001b[0m\n",
            "\u001b[?25hRequirement already satisfied: spacy<3.6.0,>=3.5.0 in /usr/local/lib/python3.10/dist-packages (from pt-core-news-lg==3.5.0) (3.5.3)\n",
            "Requirement already satisfied: spacy-legacy<3.1.0,>=3.0.11 in /usr/local/lib/python3.10/dist-packages (from spacy<3.6.0,>=3.5.0->pt-core-news-lg==3.5.0) (3.0.12)\n",
            "Requirement already satisfied: spacy-loggers<2.0.0,>=1.0.0 in /usr/local/lib/python3.10/dist-packages (from spacy<3.6.0,>=3.5.0->pt-core-news-lg==3.5.0) (1.0.4)\n",
            "Requirement already satisfied: murmurhash<1.1.0,>=0.28.0 in /usr/local/lib/python3.10/dist-packages (from spacy<3.6.0,>=3.5.0->pt-core-news-lg==3.5.0) (1.0.9)\n",
            "Requirement already satisfied: cymem<2.1.0,>=2.0.2 in /usr/local/lib/python3.10/dist-packages (from spacy<3.6.0,>=3.5.0->pt-core-news-lg==3.5.0) (2.0.7)\n",
            "Requirement already satisfied: preshed<3.1.0,>=3.0.2 in /usr/local/lib/python3.10/dist-packages (from spacy<3.6.0,>=3.5.0->pt-core-news-lg==3.5.0) (3.0.8)\n",
            "Requirement already satisfied: thinc<8.2.0,>=8.1.8 in /usr/local/lib/python3.10/dist-packages (from spacy<3.6.0,>=3.5.0->pt-core-news-lg==3.5.0) (8.1.10)\n",
            "Requirement already satisfied: wasabi<1.2.0,>=0.9.1 in /usr/local/lib/python3.10/dist-packages (from spacy<3.6.0,>=3.5.0->pt-core-news-lg==3.5.0) (1.1.2)\n",
            "Requirement already satisfied: srsly<3.0.0,>=2.4.3 in /usr/local/lib/python3.10/dist-packages (from spacy<3.6.0,>=3.5.0->pt-core-news-lg==3.5.0) (2.4.6)\n",
            "Requirement already satisfied: catalogue<2.1.0,>=2.0.6 in /usr/local/lib/python3.10/dist-packages (from spacy<3.6.0,>=3.5.0->pt-core-news-lg==3.5.0) (2.0.8)\n",
            "Requirement already satisfied: typer<0.8.0,>=0.3.0 in /usr/local/lib/python3.10/dist-packages (from spacy<3.6.0,>=3.5.0->pt-core-news-lg==3.5.0) (0.7.0)\n",
            "Requirement already satisfied: pathy>=0.10.0 in /usr/local/lib/python3.10/dist-packages (from spacy<3.6.0,>=3.5.0->pt-core-news-lg==3.5.0) (0.10.2)\n",
            "Requirement already satisfied: smart-open<7.0.0,>=5.2.1 in /usr/local/lib/python3.10/dist-packages (from spacy<3.6.0,>=3.5.0->pt-core-news-lg==3.5.0) (6.3.0)\n",
            "Requirement already satisfied: tqdm<5.0.0,>=4.38.0 in /usr/local/lib/python3.10/dist-packages (from spacy<3.6.0,>=3.5.0->pt-core-news-lg==3.5.0) (4.65.0)\n",
            "Requirement already satisfied: numpy>=1.15.0 in /usr/local/lib/python3.10/dist-packages (from spacy<3.6.0,>=3.5.0->pt-core-news-lg==3.5.0) (1.22.4)\n",
            "Requirement already satisfied: requests<3.0.0,>=2.13.0 in /usr/local/lib/python3.10/dist-packages (from spacy<3.6.0,>=3.5.0->pt-core-news-lg==3.5.0) (2.27.1)\n",
            "Requirement already satisfied: pydantic!=1.8,!=1.8.1,<1.11.0,>=1.7.4 in /usr/local/lib/python3.10/dist-packages (from spacy<3.6.0,>=3.5.0->pt-core-news-lg==3.5.0) (1.10.9)\n",
            "Requirement already satisfied: jinja2 in /usr/local/lib/python3.10/dist-packages (from spacy<3.6.0,>=3.5.0->pt-core-news-lg==3.5.0) (3.1.2)\n",
            "Requirement already satisfied: setuptools in /usr/local/lib/python3.10/dist-packages (from spacy<3.6.0,>=3.5.0->pt-core-news-lg==3.5.0) (67.7.2)\n",
            "Requirement already satisfied: packaging>=20.0 in /usr/local/lib/python3.10/dist-packages (from spacy<3.6.0,>=3.5.0->pt-core-news-lg==3.5.0) (23.1)\n",
            "Requirement already satisfied: langcodes<4.0.0,>=3.2.0 in /usr/local/lib/python3.10/dist-packages (from spacy<3.6.0,>=3.5.0->pt-core-news-lg==3.5.0) (3.3.0)\n",
            "Requirement already satisfied: typing-extensions>=4.2.0 in /usr/local/lib/python3.10/dist-packages (from pydantic!=1.8,!=1.8.1,<1.11.0,>=1.7.4->spacy<3.6.0,>=3.5.0->pt-core-news-lg==3.5.0) (4.6.3)\n",
            "Requirement already satisfied: urllib3<1.27,>=1.21.1 in /usr/local/lib/python3.10/dist-packages (from requests<3.0.0,>=2.13.0->spacy<3.6.0,>=3.5.0->pt-core-news-lg==3.5.0) (1.26.16)\n",
            "Requirement already satisfied: certifi>=2017.4.17 in /usr/local/lib/python3.10/dist-packages (from requests<3.0.0,>=2.13.0->spacy<3.6.0,>=3.5.0->pt-core-news-lg==3.5.0) (2023.5.7)\n",
            "Requirement already satisfied: charset-normalizer~=2.0.0 in /usr/local/lib/python3.10/dist-packages (from requests<3.0.0,>=2.13.0->spacy<3.6.0,>=3.5.0->pt-core-news-lg==3.5.0) (2.0.12)\n",
            "Requirement already satisfied: idna<4,>=2.5 in /usr/local/lib/python3.10/dist-packages (from requests<3.0.0,>=2.13.0->spacy<3.6.0,>=3.5.0->pt-core-news-lg==3.5.0) (3.4)\n",
            "Requirement already satisfied: blis<0.8.0,>=0.7.8 in /usr/local/lib/python3.10/dist-packages (from thinc<8.2.0,>=8.1.8->spacy<3.6.0,>=3.5.0->pt-core-news-lg==3.5.0) (0.7.9)\n",
            "Requirement already satisfied: confection<1.0.0,>=0.0.1 in /usr/local/lib/python3.10/dist-packages (from thinc<8.2.0,>=8.1.8->spacy<3.6.0,>=3.5.0->pt-core-news-lg==3.5.0) (0.0.4)\n",
            "Requirement already satisfied: click<9.0.0,>=7.1.1 in /usr/local/lib/python3.10/dist-packages (from typer<0.8.0,>=0.3.0->spacy<3.6.0,>=3.5.0->pt-core-news-lg==3.5.0) (8.1.3)\n",
            "Requirement already satisfied: MarkupSafe>=2.0 in /usr/local/lib/python3.10/dist-packages (from jinja2->spacy<3.6.0,>=3.5.0->pt-core-news-lg==3.5.0) (2.1.3)\n",
            "\u001b[38;5;2m✔ Download and installation successful\u001b[0m\n",
            "You can now load the package via spacy.load('pt_core_news_lg')\n"
          ]
        }
      ],
      "source": [
        "!python -m spacy download pt_core_news_lg"
      ]
    },
    {
      "cell_type": "code",
      "execution_count": null,
      "metadata": {
        "id": "b3z0ExrxSmRM"
      },
      "outputs": [],
      "source": [
        "import pt_core_news_lg\n",
        "nlp = pt_core_news_lg.load()"
      ]
    },
    {
      "cell_type": "code",
      "execution_count": null,
      "metadata": {
        "colab": {
          "base_uri": "https://localhost:8080/"
        },
        "id": "ju1DJFt-Smy0",
        "outputId": "cd23a974-b24a-40d6-cc0e-40879335c8ae"
      },
      "outputs": [
        {
          "output_type": "execute_result",
          "data": {
            "text/plain": [
              "0      sejam vindos disciplina análise dados . vamos ...\n",
              "1                         estudos ? começaram material ?\n",
              "2      dia . . pra preciso comecei assistir vídeo aul...\n",
              "3      iniciei hoje estudos matéria ! ! ! estatística...\n",
              "4      expliquem palavras conceitos : 1 - distribuiçã...\n",
              "                             ...                        \n",
              "128    ai aluno , podemos método amostragem definido ...\n",
              "129    método amostragem conveniente permite selecion...\n",
              "130    população : conjunto indivíduos objetos aprese...\n",
              "131      teorema central limite   importante resultad...\n",
              "132    , pesquisa tendenciosa 400 representaria contr...\n",
              "Name: Postagem, Length: 133, dtype: object"
            ]
          },
          "metadata": {},
          "execution_count": 29
        }
      ],
      "source": [
        "df['Postagem'] = df['Postagem'].apply(lambda text: ' '.join([token.text for token in nlp(text) if not token.is_stop]))\n",
        "df['Postagem'] = df['Postagem'].apply(str.lower)\n",
        "df['Postagem']"
      ]
    },
    {
      "cell_type": "code",
      "execution_count": null,
      "metadata": {
        "colab": {
          "base_uri": "https://localhost:8080/"
        },
        "id": "ZZ2LUVGz6Z00",
        "outputId": "7fc84b14-e95f-436a-b74b-a8b58ed056d8"
      },
      "outputs": [
        {
          "output_type": "stream",
          "name": "stdout",
          "text": [
            "----------------------------------------------\n",
            "ngram (1, 1)\n",
            "some features: ['ajuste' 'aleatoria' 'aleatoriamente' 'aleatória' 'aleatórias'\n",
            " 'aleatórios' 'alfa' 'alguem' 'algum' 'alguma' 'alta']\n",
            "tf-idf values of the first text\n",
            "  (0, 1514)\t0.14472373471840255\n",
            "  (0, 1482)\t0.2751312363134221\n",
            "  (0, 1324)\t0.10691421792912542\n",
            "  (0, 1316)\t0.12677208423954112\n",
            "  (0, 1282)\t0.16695887565630663\n",
            "  (0, 1236)\t0.16695887565630663\n",
            "  (0, 1218)\t0.12248859378049842\n",
            "  (0, 1155)\t0.16695887565630663\n",
            "  (0, 1132)\t0.1539521520093829\n",
            "  (0, 1097)\t0.1539521520093829\n",
            "  (0, 881)\t0.1539521520093829\n",
            "  (0, 797)\t0.11871028742455506\n",
            "  (0, 646)\t0.14472373471840255\n",
            "  (0, 618)\t0.1002534528425943\n",
            "  (0, 571)\t0.1539521520093829\n",
            "  (0, 534)\t0.13756561815671106\n",
            "  (0, 498)\t0.12248859378049842\n",
            "  (0, 493)\t0.41269685447013316\n",
            "  (0, 479)\t0.16695887565630663\n",
            "  (0, 454)\t0.14472373471840255\n",
            "  (0, 408)\t0.07006809268937696\n",
            "  (0, 314)\t0.12248859378049842\n",
            "  (0, 290)\t0.33391775131261325\n",
            "  (0, 288)\t0.1539521520093829\n",
            "  (0, 201)\t0.1539521520093829\n",
            "  (0, 182)\t0.41269685447013316\n",
            "  (0, 144)\t0.10691421792912542\n",
            "  (0, 54)\t0.1539521520093829\n",
            "----------------------------------------------\n",
            "ngram (1, 2)\n",
            "some features: ['8200 9290' '86' '86 moda' '90' '90 66' '90 86' '90 zc' '9290'\n",
            " '9290 7030' '9420' '9420 8200']\n",
            "tf-idf values of the first text\n",
            "  (0, 4923)\t0.11298913921169132\n",
            "  (0, 4922)\t0.10621618467754096\n",
            "  (0, 4797)\t0.12253508247814658\n",
            "  (0, 4795)\t0.12253508247814658\n",
            "  (0, 4793)\t0.2019253459958608\n",
            "  (0, 4280)\t0.12253508247814658\n",
            "  (0, 4268)\t0.0784668827011058\n",
            "  (0, 4238)\t0.10621618467754096\n",
            "  (0, 4236)\t0.09304104221566697\n",
            "  (0, 4079)\t0.12253508247814658\n",
            "  (0, 4078)\t0.12253508247814658\n",
            "  (0, 3939)\t0.12253508247814658\n",
            "  (0, 3938)\t0.12253508247814658\n",
            "  (0, 3891)\t0.11298913921169132\n",
            "  (0, 3890)\t0.0898972868769353\n",
            "  (0, 3697)\t0.12253508247814658\n",
            "  (0, 3696)\t0.12253508247814658\n",
            "  (0, 3639)\t0.12253508247814658\n",
            "  (0, 3637)\t0.11298913921169132\n",
            "  (0, 3464)\t0.11298913921169132\n",
            "  (0, 3463)\t0.11298913921169132\n",
            "  (0, 2743)\t0.11298913921169132\n",
            "  (0, 2742)\t0.11298913921169132\n",
            "  (0, 2520)\t0.11298913921169132\n",
            "  (0, 2516)\t0.08712429814463044\n",
            "  :\t:\n",
            "  (0, 1571)\t0.12253508247814658\n",
            "  (0, 1569)\t0.11298913921169132\n",
            "  (0, 1568)\t0.3028880189937912\n",
            "  (0, 1533)\t0.12253508247814658\n",
            "  (0, 1532)\t0.12253508247814658\n",
            "  (0, 1461)\t0.12253508247814658\n",
            "  (0, 1459)\t0.10621618467754096\n",
            "  (0, 1337)\t0.12253508247814658\n",
            "  (0, 1281)\t0.05142463665395982\n",
            "  (0, 981)\t0.12253508247814658\n",
            "  (0, 978)\t0.0898972868769353\n",
            "  (0, 912)\t0.12253508247814658\n",
            "  (0, 911)\t0.12253508247814658\n",
            "  (0, 910)\t0.24507016495629316\n",
            "  (0, 906)\t0.12253508247814658\n",
            "  (0, 905)\t0.11298913921169132\n",
            "  (0, 632)\t0.12253508247814658\n",
            "  (0, 630)\t0.11298913921169132\n",
            "  (0, 584)\t0.12253508247814658\n",
            "  (0, 583)\t0.11298913921169132\n",
            "  (0, 582)\t0.3028880189937912\n",
            "  (0, 487)\t0.09667024141108568\n",
            "  (0, 484)\t0.0784668827011058\n",
            "  (0, 123)\t0.11298913921169132\n",
            "  (0, 122)\t0.11298913921169132\n",
            "----------------------------------------------\n",
            "ngram (2, 2)\n",
            "some features: ['acordo tabela' 'acredito erro' 'acredito erros' 'acredito seja'\n",
            " 'acumulada será' 'acumulada vi' 'acumular assunto'\n",
            " 'adequadamente denominação' 'admite esteja' 'admite finito'\n",
            " 'admite infinito']\n",
            "tf-idf values of the first text\n",
            "  (0, 3408)\t0.16634840461960895\n",
            "  (0, 3314)\t0.18040243179463694\n",
            "  (0, 3312)\t0.18040243179463694\n",
            "  (0, 2955)\t0.18040243179463694\n",
            "  (0, 2921)\t0.15637691364996645\n",
            "  (0, 2796)\t0.18040243179463694\n",
            "  (0, 2702)\t0.18040243179463694\n",
            "  (0, 2672)\t0.16634840461960895\n",
            "  (0, 2541)\t0.18040243179463694\n",
            "  (0, 2506)\t0.18040243179463694\n",
            "  (0, 2366)\t0.16634840461960895\n",
            "  (0, 1861)\t0.16634840461960895\n",
            "  (0, 1722)\t0.16634840461960895\n",
            "  (0, 1413)\t0.18040243179463694\n",
            "  (0, 1329)\t0.16634840461960895\n",
            "  (0, 1245)\t0.16634840461960895\n",
            "  (0, 1178)\t0.18040243179463694\n",
            "  (0, 1091)\t0.18040243179463694\n",
            "  (0, 1079)\t0.16634840461960895\n",
            "  (0, 1077)\t0.18040243179463694\n",
            "  (0, 1075)\t0.16634840461960895\n",
            "  (0, 1053)\t0.18040243179463694\n",
            "  (0, 1006)\t0.18040243179463694\n",
            "  (0, 928)\t0.18040243179463694\n",
            "  (0, 666)\t0.18040243179463694\n",
            "  (0, 621)\t0.18040243179463694\n",
            "  (0, 620)\t0.18040243179463694\n",
            "  (0, 617)\t0.18040243179463694\n",
            "  (0, 430)\t0.18040243179463694\n",
            "  (0, 401)\t0.18040243179463694\n",
            "  (0, 400)\t0.16634840461960895\n",
            "  (0, 342)\t0.1423228864749384\n",
            "  (0, 68)\t0.16634840461960895\n",
            "----------------------------------------------\n"
          ]
        }
      ],
      "source": [
        "from sklearn.feature_extraction.text import TfidfVectorizer\n",
        "\n",
        "vectorizers = {\n",
        "    'unigram_only': TfidfVectorizer(use_idf=True, ngram_range=(1, 1)),\n",
        "    'unigram_bigram': TfidfVectorizer(use_idf=True, ngram_range=(1, 2)),\n",
        "    'bigram_only': TfidfVectorizer(use_idf=True, ngram_range=(2, 2))\n",
        "}\n",
        "\n",
        "X = df.Postagem.values\n",
        "X_tfidf = {}\n",
        "tfidf_models = {}\n",
        "\n",
        "print('----------------------------------------------')\n",
        "for key, vectorizer in vectorizers.items():\n",
        "  tfidf_model = vectorizer.fit(X)\n",
        "\n",
        "  tfidf_models[key] = tfidf_model\n",
        "\n",
        "  print(f\"ngram {vectorizer.ngram_range}\")\n",
        "  print(f\"some features: {vectorizer.get_feature_names_out()[100:111]}\")\n",
        "\n",
        "  X_tfidf[key] = tfidf_model.transform(X)\n",
        "\n",
        "  print(\"tf-idf values of the first text\")\n",
        "  print(X_tfidf[key][0,:])\n",
        "  print('----------------------------------------------')"
      ]
    },
    {
      "cell_type": "markdown",
      "metadata": {
        "id": "rvhV-u3N_2Wo"
      },
      "source": [
        "Split the training and testing sets. Use the `sklearn.model_selection.train_test_split()` function"
      ]
    },
    {
      "cell_type": "code",
      "execution_count": null,
      "metadata": {
        "id": "rpg1zl1gAHlD"
      },
      "outputs": [],
      "source": [
        "from sklearn.model_selection import train_test_split\n",
        "\n",
        "Y = df['Classe (pergunta, resposta, neutro) - ENCODED'].values\n",
        "\n",
        "tfidf_sets = {}\n",
        "\n",
        "for key, value in X_tfidf.items():\n",
        "  tfidf_train, tfidf_test, class_train, class_test = train_test_split(value, Y, test_size=0.25)\n",
        "\n",
        "  tfidf_sets[key] = {'tfidf_train': tfidf_train,\n",
        "                     'tfidf_test': tfidf_test,\n",
        "                     'class_train': class_train,\n",
        "                     'class_test': class_test}\n"
      ]
    },
    {
      "cell_type": "markdown",
      "metadata": {
        "id": "Wuh4HvH9AH03"
      },
      "source": [
        "Train a model with the `NaiveBayes` algorithm, and save the predictions for the test set in the `preds` variable"
      ]
    },
    {
      "cell_type": "code",
      "execution_count": null,
      "metadata": {
        "id": "Sirb-mtbAR7H"
      },
      "outputs": [],
      "source": [
        "from sklearn.naive_bayes import MultinomialNB\n",
        "\n",
        "models = {\n",
        "    'unigram_only': MultinomialNB(),\n",
        "    'unigram_bigram': MultinomialNB(),\n",
        "    'bigram_only': MultinomialNB()\n",
        "}\n",
        "\n",
        "preds = {\n",
        "    'unigram_only': [],\n",
        "    'unigram_bigram': [],\n",
        "    'bigram_only': []\n",
        "}\n",
        "\n",
        "classifiers = {}\n",
        "\n",
        "for key, model in models.items():\n",
        "  clf = model.fit(tfidf_sets[key]['tfidf_train'], tfidf_sets[key]['class_train'])\n",
        "  classifiers[key] = clf\n",
        "  preds[key] = clf.predict(tfidf_sets[key]['tfidf_test'])"
      ]
    },
    {
      "cell_type": "markdown",
      "metadata": {
        "id": "AExPjo0p_vjJ"
      },
      "source": [
        "Analyze prediction results"
      ]
    },
    {
      "cell_type": "code",
      "execution_count": null,
      "metadata": {
        "colab": {
          "base_uri": "https://localhost:8080/"
        },
        "id": "hwO2v9gmAYuW",
        "outputId": "37255121-8326-4241-c708-4b7e448d0a0c"
      },
      "outputs": [
        {
          "output_type": "stream",
          "name": "stdout",
          "text": [
            "----------------------------------------------\n",
            "unigram_only\n",
            "              precision    recall  f1-score   support\n",
            "\n",
            "      neutro       0.00      0.00      0.00         9\n",
            "    pergunta       0.00      0.00      0.00         2\n",
            "    resposta       0.68      1.00      0.81        23\n",
            "\n",
            "    accuracy                           0.68        34\n",
            "   macro avg       0.23      0.33      0.27        34\n",
            "weighted avg       0.46      0.68      0.55        34\n",
            "\n",
            "----------------------------------------------\n",
            "unigram_bigram\n",
            "              precision    recall  f1-score   support\n",
            "\n",
            "      neutro       0.00      0.00      0.00         6\n",
            "    pergunta       0.00      0.00      0.00         3\n",
            "    resposta       0.74      1.00      0.85        25\n",
            "\n",
            "    accuracy                           0.74        34\n",
            "   macro avg       0.25      0.33      0.28        34\n",
            "weighted avg       0.54      0.74      0.62        34\n",
            "\n",
            "----------------------------------------------\n",
            "bigram_only\n",
            "              precision    recall  f1-score   support\n",
            "\n",
            "      neutro       0.00      0.00      0.00        11\n",
            "    pergunta       0.00      0.00      0.00         1\n",
            "    resposta       0.65      1.00      0.79        22\n",
            "\n",
            "    accuracy                           0.65        34\n",
            "   macro avg       0.22      0.33      0.26        34\n",
            "weighted avg       0.42      0.65      0.51        34\n",
            "\n",
            "----------------------------------------------\n",
            "['neutro' 'pergunta' 'resposta']\n"
          ]
        },
        {
          "output_type": "stream",
          "name": "stderr",
          "text": [
            "/usr/local/lib/python3.10/dist-packages/sklearn/metrics/_classification.py:1344: UndefinedMetricWarning: Precision and F-score are ill-defined and being set to 0.0 in labels with no predicted samples. Use `zero_division` parameter to control this behavior.\n",
            "  _warn_prf(average, modifier, msg_start, len(result))\n",
            "/usr/local/lib/python3.10/dist-packages/sklearn/metrics/_classification.py:1344: UndefinedMetricWarning: Precision and F-score are ill-defined and being set to 0.0 in labels with no predicted samples. Use `zero_division` parameter to control this behavior.\n",
            "  _warn_prf(average, modifier, msg_start, len(result))\n",
            "/usr/local/lib/python3.10/dist-packages/sklearn/metrics/_classification.py:1344: UndefinedMetricWarning: Precision and F-score are ill-defined and being set to 0.0 in labels with no predicted samples. Use `zero_division` parameter to control this behavior.\n",
            "  _warn_prf(average, modifier, msg_start, len(result))\n",
            "/usr/local/lib/python3.10/dist-packages/sklearn/metrics/_classification.py:1344: UndefinedMetricWarning: Precision and F-score are ill-defined and being set to 0.0 in labels with no predicted samples. Use `zero_division` parameter to control this behavior.\n",
            "  _warn_prf(average, modifier, msg_start, len(result))\n",
            "/usr/local/lib/python3.10/dist-packages/sklearn/metrics/_classification.py:1344: UndefinedMetricWarning: Precision and F-score are ill-defined and being set to 0.0 in labels with no predicted samples. Use `zero_division` parameter to control this behavior.\n",
            "  _warn_prf(average, modifier, msg_start, len(result))\n",
            "/usr/local/lib/python3.10/dist-packages/sklearn/metrics/_classification.py:1344: UndefinedMetricWarning: Precision and F-score are ill-defined and being set to 0.0 in labels with no predicted samples. Use `zero_division` parameter to control this behavior.\n",
            "  _warn_prf(average, modifier, msg_start, len(result))\n",
            "/usr/local/lib/python3.10/dist-packages/sklearn/metrics/_classification.py:1344: UndefinedMetricWarning: Precision and F-score are ill-defined and being set to 0.0 in labels with no predicted samples. Use `zero_division` parameter to control this behavior.\n",
            "  _warn_prf(average, modifier, msg_start, len(result))\n",
            "/usr/local/lib/python3.10/dist-packages/sklearn/metrics/_classification.py:1344: UndefinedMetricWarning: Precision and F-score are ill-defined and being set to 0.0 in labels with no predicted samples. Use `zero_division` parameter to control this behavior.\n",
            "  _warn_prf(average, modifier, msg_start, len(result))\n",
            "/usr/local/lib/python3.10/dist-packages/sklearn/metrics/_classification.py:1344: UndefinedMetricWarning: Precision and F-score are ill-defined and being set to 0.0 in labels with no predicted samples. Use `zero_division` parameter to control this behavior.\n",
            "  _warn_prf(average, modifier, msg_start, len(result))\n"
          ]
        }
      ],
      "source": [
        "from sklearn import metrics\n",
        "\n",
        "print('----------------------------------------------')\n",
        "for key, pred in preds.items():\n",
        "  print(key)\n",
        "  print(metrics.classification_report(tfidf_sets[key]['class_test'], preds[key], labels=label_encoder.transform(label_encoder.classes_), target_names=label_encoder.classes_))\n",
        "  print('----------------------------------------------')\n",
        "\n",
        "print(label_encoder.classes_)"
      ]
    },
    {
      "cell_type": "markdown",
      "metadata": {
        "id": "Fp25T82nBDgo"
      },
      "source": [
        "Discuss the results"
      ]
    },
    {
      "cell_type": "code",
      "execution_count": null,
      "metadata": {
        "colab": {
          "base_uri": "https://localhost:8080/"
        },
        "id": "FBCvPjGfW5kC",
        "outputId": "481979ef-d169-4700-efe9-c0ffd18bda51"
      },
      "outputs": [
        {
          "output_type": "stream",
          "name": "stdout",
          "text": [
            "Before preprocessing: Qual é o método de amostragem mais eficiente para esse problema?\n",
            "After preprocessing: método amostragem eficiente problema ?\n",
            "unigram_only tfidf: resposta\n",
            "unigram_bigram tfidf: resposta\n",
            "bigram_only tfidf: resposta\n"
          ]
        }
      ],
      "source": [
        "msg = 'Qual é o método de amostragem mais eficiente para esse problema?'\n",
        "\n",
        "\n",
        "preprocessed_msg = [token.text for token in nlp(msg) if not token.is_stop]\n",
        "preprocessed_msg = \" \".join(preprocessed_msg).lower()\n",
        "\n",
        "\n",
        "print(f\"Before preprocessing: {msg}\")\n",
        "print(f\"After preprocessing: {preprocessed_msg}\")\n",
        "\n",
        "for key, tfidf_model in tfidf_models.items():\n",
        "  prediction = classifiers[key].predict(tfidf_model.transform([preprocessed_msg]))\n",
        "  prediction = label_encoder.inverse_transform(prediction)[0]\n",
        "\n",
        "  print(f\"{key} tfidf: {prediction}\")"
      ]
    },
    {
      "cell_type": "markdown",
      "metadata": {
        "id": "mYw5czGvcasD"
      },
      "source": [
        "Me parece que o desbalanceamento da base é responsável pelo desempenho pobre do modelo.  \n",
        "Será que configurar o algoritmo para desconsiderar a prior probability das classes faria diferença?  \n",
        "Encontrei também o\n",
        "[ComplementNB](https://scikit-learn.org/stable/modules/generated/sklearn.naive_bayes.ComplementNB.html#:~:text=The%20Complement%20Naive%20Bayes%20classifier%20was%20designed%20to%20correct%20the,New%20in%20version%200.20.&text=Additive%20(Laplace%2FLidstone)%20smoothing,(0%20for%20no%20smoothing).).\n",
        "Ele é útil em problemas onde o dataset é desbalanceado pois foi desenvolvido de forma a lidar com as \"suposições ingênuas\" feitas pelo Naive Bayes.  \n",
        "Abaixo irei testar o ComplementNB com unigrams."
      ]
    },
    {
      "cell_type": "markdown",
      "metadata": {
        "id": "eDzYwRQWPbyI"
      },
      "source": [
        "#ComplementNB"
      ]
    },
    {
      "cell_type": "code",
      "execution_count": null,
      "metadata": {
        "colab": {
          "base_uri": "https://localhost:8080/"
        },
        "id": "na45eGF7PyaO",
        "outputId": "1ab0c9f0-769f-4d64-8230-2abe52df25a5"
      },
      "outputs": [
        {
          "output_type": "stream",
          "name": "stdout",
          "text": [
            "2023-06-26 01:24:14.556196: W tensorflow/compiler/tf2tensorrt/utils/py_utils.cc:38] TF-TRT Warning: Could not find TensorRT\n",
            "Looking in indexes: https://pypi.org/simple, https://us-python.pkg.dev/colab-wheels/public/simple/\n",
            "Collecting pt-core-news-lg==3.5.0\n",
            "  Using cached https://github.com/explosion/spacy-models/releases/download/pt_core_news_lg-3.5.0/pt_core_news_lg-3.5.0-py3-none-any.whl (568.2 MB)\n",
            "Requirement already satisfied: spacy<3.6.0,>=3.5.0 in /usr/local/lib/python3.10/dist-packages (from pt-core-news-lg==3.5.0) (3.5.3)\n",
            "Requirement already satisfied: spacy-legacy<3.1.0,>=3.0.11 in /usr/local/lib/python3.10/dist-packages (from spacy<3.6.0,>=3.5.0->pt-core-news-lg==3.5.0) (3.0.12)\n",
            "Requirement already satisfied: spacy-loggers<2.0.0,>=1.0.0 in /usr/local/lib/python3.10/dist-packages (from spacy<3.6.0,>=3.5.0->pt-core-news-lg==3.5.0) (1.0.4)\n",
            "Requirement already satisfied: murmurhash<1.1.0,>=0.28.0 in /usr/local/lib/python3.10/dist-packages (from spacy<3.6.0,>=3.5.0->pt-core-news-lg==3.5.0) (1.0.9)\n",
            "Requirement already satisfied: cymem<2.1.0,>=2.0.2 in /usr/local/lib/python3.10/dist-packages (from spacy<3.6.0,>=3.5.0->pt-core-news-lg==3.5.0) (2.0.7)\n",
            "Requirement already satisfied: preshed<3.1.0,>=3.0.2 in /usr/local/lib/python3.10/dist-packages (from spacy<3.6.0,>=3.5.0->pt-core-news-lg==3.5.0) (3.0.8)\n",
            "Requirement already satisfied: thinc<8.2.0,>=8.1.8 in /usr/local/lib/python3.10/dist-packages (from spacy<3.6.0,>=3.5.0->pt-core-news-lg==3.5.0) (8.1.10)\n",
            "Requirement already satisfied: wasabi<1.2.0,>=0.9.1 in /usr/local/lib/python3.10/dist-packages (from spacy<3.6.0,>=3.5.0->pt-core-news-lg==3.5.0) (1.1.2)\n",
            "Requirement already satisfied: srsly<3.0.0,>=2.4.3 in /usr/local/lib/python3.10/dist-packages (from spacy<3.6.0,>=3.5.0->pt-core-news-lg==3.5.0) (2.4.6)\n",
            "Requirement already satisfied: catalogue<2.1.0,>=2.0.6 in /usr/local/lib/python3.10/dist-packages (from spacy<3.6.0,>=3.5.0->pt-core-news-lg==3.5.0) (2.0.8)\n",
            "Requirement already satisfied: typer<0.8.0,>=0.3.0 in /usr/local/lib/python3.10/dist-packages (from spacy<3.6.0,>=3.5.0->pt-core-news-lg==3.5.0) (0.7.0)\n",
            "Requirement already satisfied: pathy>=0.10.0 in /usr/local/lib/python3.10/dist-packages (from spacy<3.6.0,>=3.5.0->pt-core-news-lg==3.5.0) (0.10.2)\n",
            "Requirement already satisfied: smart-open<7.0.0,>=5.2.1 in /usr/local/lib/python3.10/dist-packages (from spacy<3.6.0,>=3.5.0->pt-core-news-lg==3.5.0) (6.3.0)\n",
            "Requirement already satisfied: tqdm<5.0.0,>=4.38.0 in /usr/local/lib/python3.10/dist-packages (from spacy<3.6.0,>=3.5.0->pt-core-news-lg==3.5.0) (4.65.0)\n",
            "Requirement already satisfied: numpy>=1.15.0 in /usr/local/lib/python3.10/dist-packages (from spacy<3.6.0,>=3.5.0->pt-core-news-lg==3.5.0) (1.22.4)\n",
            "Requirement already satisfied: requests<3.0.0,>=2.13.0 in /usr/local/lib/python3.10/dist-packages (from spacy<3.6.0,>=3.5.0->pt-core-news-lg==3.5.0) (2.27.1)\n",
            "Requirement already satisfied: pydantic!=1.8,!=1.8.1,<1.11.0,>=1.7.4 in /usr/local/lib/python3.10/dist-packages (from spacy<3.6.0,>=3.5.0->pt-core-news-lg==3.5.0) (1.10.9)\n",
            "Requirement already satisfied: jinja2 in /usr/local/lib/python3.10/dist-packages (from spacy<3.6.0,>=3.5.0->pt-core-news-lg==3.5.0) (3.1.2)\n",
            "Requirement already satisfied: setuptools in /usr/local/lib/python3.10/dist-packages (from spacy<3.6.0,>=3.5.0->pt-core-news-lg==3.5.0) (67.7.2)\n",
            "Requirement already satisfied: packaging>=20.0 in /usr/local/lib/python3.10/dist-packages (from spacy<3.6.0,>=3.5.0->pt-core-news-lg==3.5.0) (23.1)\n",
            "Requirement already satisfied: langcodes<4.0.0,>=3.2.0 in /usr/local/lib/python3.10/dist-packages (from spacy<3.6.0,>=3.5.0->pt-core-news-lg==3.5.0) (3.3.0)\n",
            "Requirement already satisfied: typing-extensions>=4.2.0 in /usr/local/lib/python3.10/dist-packages (from pydantic!=1.8,!=1.8.1,<1.11.0,>=1.7.4->spacy<3.6.0,>=3.5.0->pt-core-news-lg==3.5.0) (4.6.3)\n",
            "Requirement already satisfied: urllib3<1.27,>=1.21.1 in /usr/local/lib/python3.10/dist-packages (from requests<3.0.0,>=2.13.0->spacy<3.6.0,>=3.5.0->pt-core-news-lg==3.5.0) (1.26.16)\n",
            "Requirement already satisfied: certifi>=2017.4.17 in /usr/local/lib/python3.10/dist-packages (from requests<3.0.0,>=2.13.0->spacy<3.6.0,>=3.5.0->pt-core-news-lg==3.5.0) (2023.5.7)\n",
            "Requirement already satisfied: charset-normalizer~=2.0.0 in /usr/local/lib/python3.10/dist-packages (from requests<3.0.0,>=2.13.0->spacy<3.6.0,>=3.5.0->pt-core-news-lg==3.5.0) (2.0.12)\n",
            "Requirement already satisfied: idna<4,>=2.5 in /usr/local/lib/python3.10/dist-packages (from requests<3.0.0,>=2.13.0->spacy<3.6.0,>=3.5.0->pt-core-news-lg==3.5.0) (3.4)\n",
            "Requirement already satisfied: blis<0.8.0,>=0.7.8 in /usr/local/lib/python3.10/dist-packages (from thinc<8.2.0,>=8.1.8->spacy<3.6.0,>=3.5.0->pt-core-news-lg==3.5.0) (0.7.9)\n",
            "Requirement already satisfied: confection<1.0.0,>=0.0.1 in /usr/local/lib/python3.10/dist-packages (from thinc<8.2.0,>=8.1.8->spacy<3.6.0,>=3.5.0->pt-core-news-lg==3.5.0) (0.0.4)\n",
            "Requirement already satisfied: click<9.0.0,>=7.1.1 in /usr/local/lib/python3.10/dist-packages (from typer<0.8.0,>=0.3.0->spacy<3.6.0,>=3.5.0->pt-core-news-lg==3.5.0) (8.1.3)\n",
            "Requirement already satisfied: MarkupSafe>=2.0 in /usr/local/lib/python3.10/dist-packages (from jinja2->spacy<3.6.0,>=3.5.0->pt-core-news-lg==3.5.0) (2.1.3)\n",
            "\u001b[38;5;2m✔ Download and installation successful\u001b[0m\n",
            "You can now load the package via spacy.load('pt_core_news_lg')\n"
          ]
        }
      ],
      "source": [
        "!python -m spacy download pt_core_news_lg"
      ]
    },
    {
      "cell_type": "code",
      "execution_count": null,
      "metadata": {
        "colab": {
          "base_uri": "https://localhost:8080/"
        },
        "id": "KHMl0MRlPdzI",
        "outputId": "e590598f-d108-4035-93df-f4a676a10189"
      },
      "outputs": [
        {
          "output_type": "stream",
          "name": "stdout",
          "text": [
            "              precision    recall  f1-score   support\n",
            "\n",
            "      neutro       0.83      0.50      0.62        10\n",
            "    pergunta       0.29      0.67      0.40         3\n",
            "    resposta       1.00      1.00      1.00        21\n",
            "\n",
            "    accuracy                           0.82        34\n",
            "   macro avg       0.71      0.72      0.67        34\n",
            "weighted avg       0.89      0.82      0.84        34\n",
            "\n"
          ]
        }
      ],
      "source": [
        "from sklearn import preprocessing\n",
        "import pandas as pd\n",
        "import pt_core_news_lg\n",
        "from sklearn.feature_extraction.text import TfidfVectorizer\n",
        "from sklearn.model_selection import train_test_split\n",
        "from sklearn.naive_bayes import ComplementNB\n",
        "from sklearn import metrics\n",
        "\n",
        "nlp = pt_core_news_lg.load()\n",
        "\n",
        "df = pd.read_csv(\"forum.csv\")\n",
        "df.head()\n",
        "\n",
        "df['Classe (pergunta, resposta, neutro)'] = df['Classe (pergunta, resposta, neutro)'].apply(str.lower)\n",
        "\n",
        "label_encoder = preprocessing.LabelEncoder()\n",
        "label_encoder.fit(df['Classe (pergunta, resposta, neutro)'].unique())\n",
        "df['Classe (pergunta, resposta, neutro) - ENCODED'] = df['Classe (pergunta, resposta, neutro)'].apply(lambda x: label_encoder.transform([x])[0])\n",
        "\n",
        "df['Postagem'] = df['Postagem'].apply(lambda text: ' '.join([token.text for token in nlp(text) if not token.is_stop]))\n",
        "df['Postagem'] = df['Postagem'].apply(str.lower)\n",
        "\n",
        "\n",
        "vectorizer = TfidfVectorizer(use_idf=True, ngram_range=(1, 1))\n",
        "\n",
        "X = df.Postagem.values\n",
        "tfidf_model = vectorizer.fit(X)\n",
        "X_tfidf = tfidf_model.transform(X)\n",
        "\n",
        "\n",
        "\n",
        "Y = df['Classe (pergunta, resposta, neutro) - ENCODED'].values\n",
        "tfidf_train, tfidf_test, class_train, class_test = train_test_split(X_tfidf, Y, test_size=0.25)\n",
        "\n",
        "\n",
        "\n",
        "model = ComplementNB()\n",
        "\n",
        "clf = model.fit(tfidf_train, class_train)\n",
        "pred = clf.predict(tfidf_test)\n",
        "\n",
        "\n",
        "print(metrics.classification_report(class_test, pred, labels=label_encoder.transform(label_encoder.classes_), target_names=label_encoder.classes_))"
      ]
    },
    {
      "cell_type": "markdown",
      "metadata": {
        "id": "TIhS8tJuSJAh"
      },
      "source": [
        "Houve uma melhora considerável!"
      ]
    }
  ],
  "metadata": {
    "colab": {
      "provenance": [],
      "include_colab_link": true
    },
    "kernelspec": {
      "display_name": "Python 3",
      "name": "python3"
    }
  },
  "nbformat": 4,
  "nbformat_minor": 0
}