{
  "nbformat": 4,
  "nbformat_minor": 0,
  "metadata": {
    "colab": {
      "provenance": [],
      "authorship_tag": "ABX9TyNQ7sewZJRKjyV7VD3Zc2cV",
      "include_colab_link": true
    },
    "kernelspec": {
      "name": "python3",
      "display_name": "Python 3"
    },
    "language_info": {
      "name": "python"
    }
  },
  "cells": [
    {
      "cell_type": "markdown",
      "metadata": {
        "id": "view-in-github",
        "colab_type": "text"
      },
      "source": [
        "<a href=\"https://colab.research.google.com/github/IlfGauhnith/TM/blob/main/Topic_Modeling.ipynb\" target=\"_parent\"><img src=\"https://colab.research.google.com/assets/colab-badge.svg\" alt=\"Open In Colab\"/></a>"
      ]
    },
    {
      "cell_type": "code",
      "source": [
        "!python -m spacy download pt_core_news_lg"
      ],
      "metadata": {
        "colab": {
          "base_uri": "https://localhost:8080/"
        },
        "id": "KZFPgiRwxbYN",
        "outputId": "4edffc7d-b2eb-411a-dd39-f467bd1cbd79"
      },
      "execution_count": 1,
      "outputs": [
        {
          "output_type": "stream",
          "name": "stdout",
          "text": [
            "2023-07-13 04:36:34.233618: I tensorflow/core/platform/cpu_feature_guard.cc:182] This TensorFlow binary is optimized to use available CPU instructions in performance-critical operations.\n",
            "To enable the following instructions: AVX2 FMA, in other operations, rebuild TensorFlow with the appropriate compiler flags.\n",
            "2023-07-13 04:36:35.232126: W tensorflow/compiler/tf2tensorrt/utils/py_utils.cc:38] TF-TRT Warning: Could not find TensorRT\n",
            "Collecting pt-core-news-lg==3.5.0\n",
            "  Downloading https://github.com/explosion/spacy-models/releases/download/pt_core_news_lg-3.5.0/pt_core_news_lg-3.5.0-py3-none-any.whl (568.2 MB)\n",
            "\u001b[2K     \u001b[90m━━━━━━━━━━━━━━━━━━━━━━━━━━━━━━━━━━━━━━━\u001b[0m \u001b[32m568.2/568.2 MB\u001b[0m \u001b[31m1.7 MB/s\u001b[0m eta \u001b[36m0:00:00\u001b[0m\n",
            "\u001b[?25hRequirement already satisfied: spacy<3.6.0,>=3.5.0 in /usr/local/lib/python3.10/dist-packages (from pt-core-news-lg==3.5.0) (3.5.4)\n",
            "Requirement already satisfied: spacy-legacy<3.1.0,>=3.0.11 in /usr/local/lib/python3.10/dist-packages (from spacy<3.6.0,>=3.5.0->pt-core-news-lg==3.5.0) (3.0.12)\n",
            "Requirement already satisfied: spacy-loggers<2.0.0,>=1.0.0 in /usr/local/lib/python3.10/dist-packages (from spacy<3.6.0,>=3.5.0->pt-core-news-lg==3.5.0) (1.0.4)\n",
            "Requirement already satisfied: murmurhash<1.1.0,>=0.28.0 in /usr/local/lib/python3.10/dist-packages (from spacy<3.6.0,>=3.5.0->pt-core-news-lg==3.5.0) (1.0.9)\n",
            "Requirement already satisfied: cymem<2.1.0,>=2.0.2 in /usr/local/lib/python3.10/dist-packages (from spacy<3.6.0,>=3.5.0->pt-core-news-lg==3.5.0) (2.0.7)\n",
            "Requirement already satisfied: preshed<3.1.0,>=3.0.2 in /usr/local/lib/python3.10/dist-packages (from spacy<3.6.0,>=3.5.0->pt-core-news-lg==3.5.0) (3.0.8)\n",
            "Requirement already satisfied: thinc<8.2.0,>=8.1.8 in /usr/local/lib/python3.10/dist-packages (from spacy<3.6.0,>=3.5.0->pt-core-news-lg==3.5.0) (8.1.10)\n",
            "Requirement already satisfied: wasabi<1.2.0,>=0.9.1 in /usr/local/lib/python3.10/dist-packages (from spacy<3.6.0,>=3.5.0->pt-core-news-lg==3.5.0) (1.1.2)\n",
            "Requirement already satisfied: srsly<3.0.0,>=2.4.3 in /usr/local/lib/python3.10/dist-packages (from spacy<3.6.0,>=3.5.0->pt-core-news-lg==3.5.0) (2.4.6)\n",
            "Requirement already satisfied: catalogue<2.1.0,>=2.0.6 in /usr/local/lib/python3.10/dist-packages (from spacy<3.6.0,>=3.5.0->pt-core-news-lg==3.5.0) (2.0.8)\n",
            "Requirement already satisfied: typer<0.10.0,>=0.3.0 in /usr/local/lib/python3.10/dist-packages (from spacy<3.6.0,>=3.5.0->pt-core-news-lg==3.5.0) (0.9.0)\n",
            "Requirement already satisfied: pathy>=0.10.0 in /usr/local/lib/python3.10/dist-packages (from spacy<3.6.0,>=3.5.0->pt-core-news-lg==3.5.0) (0.10.2)\n",
            "Requirement already satisfied: smart-open<7.0.0,>=5.2.1 in /usr/local/lib/python3.10/dist-packages (from spacy<3.6.0,>=3.5.0->pt-core-news-lg==3.5.0) (6.3.0)\n",
            "Requirement already satisfied: tqdm<5.0.0,>=4.38.0 in /usr/local/lib/python3.10/dist-packages (from spacy<3.6.0,>=3.5.0->pt-core-news-lg==3.5.0) (4.65.0)\n",
            "Requirement already satisfied: numpy>=1.15.0 in /usr/local/lib/python3.10/dist-packages (from spacy<3.6.0,>=3.5.0->pt-core-news-lg==3.5.0) (1.25.1)\n",
            "Requirement already satisfied: requests<3.0.0,>=2.13.0 in /usr/local/lib/python3.10/dist-packages (from spacy<3.6.0,>=3.5.0->pt-core-news-lg==3.5.0) (2.27.1)\n",
            "Requirement already satisfied: pydantic!=1.8,!=1.8.1,<1.11.0,>=1.7.4 in /usr/local/lib/python3.10/dist-packages (from spacy<3.6.0,>=3.5.0->pt-core-news-lg==3.5.0) (1.10.11)\n",
            "Requirement already satisfied: jinja2 in /usr/local/lib/python3.10/dist-packages (from spacy<3.6.0,>=3.5.0->pt-core-news-lg==3.5.0) (3.1.2)\n",
            "Requirement already satisfied: setuptools in /usr/local/lib/python3.10/dist-packages (from spacy<3.6.0,>=3.5.0->pt-core-news-lg==3.5.0) (67.7.2)\n",
            "Requirement already satisfied: packaging>=20.0 in /usr/local/lib/python3.10/dist-packages (from spacy<3.6.0,>=3.5.0->pt-core-news-lg==3.5.0) (23.1)\n",
            "Requirement already satisfied: langcodes<4.0.0,>=3.2.0 in /usr/local/lib/python3.10/dist-packages (from spacy<3.6.0,>=3.5.0->pt-core-news-lg==3.5.0) (3.3.0)\n",
            "Requirement already satisfied: typing-extensions>=4.2.0 in /usr/local/lib/python3.10/dist-packages (from pydantic!=1.8,!=1.8.1,<1.11.0,>=1.7.4->spacy<3.6.0,>=3.5.0->pt-core-news-lg==3.5.0) (4.7.1)\n",
            "Requirement already satisfied: urllib3<1.27,>=1.21.1 in /usr/local/lib/python3.10/dist-packages (from requests<3.0.0,>=2.13.0->spacy<3.6.0,>=3.5.0->pt-core-news-lg==3.5.0) (1.26.16)\n",
            "Requirement already satisfied: certifi>=2017.4.17 in /usr/local/lib/python3.10/dist-packages (from requests<3.0.0,>=2.13.0->spacy<3.6.0,>=3.5.0->pt-core-news-lg==3.5.0) (2023.5.7)\n",
            "Requirement already satisfied: charset-normalizer~=2.0.0 in /usr/local/lib/python3.10/dist-packages (from requests<3.0.0,>=2.13.0->spacy<3.6.0,>=3.5.0->pt-core-news-lg==3.5.0) (2.0.12)\n",
            "Requirement already satisfied: idna<4,>=2.5 in /usr/local/lib/python3.10/dist-packages (from requests<3.0.0,>=2.13.0->spacy<3.6.0,>=3.5.0->pt-core-news-lg==3.5.0) (3.4)\n",
            "Requirement already satisfied: blis<0.8.0,>=0.7.8 in /usr/local/lib/python3.10/dist-packages (from thinc<8.2.0,>=8.1.8->spacy<3.6.0,>=3.5.0->pt-core-news-lg==3.5.0) (0.7.9)\n",
            "Requirement already satisfied: confection<1.0.0,>=0.0.1 in /usr/local/lib/python3.10/dist-packages (from thinc<8.2.0,>=8.1.8->spacy<3.6.0,>=3.5.0->pt-core-news-lg==3.5.0) (0.1.0)\n",
            "Requirement already satisfied: click<9.0.0,>=7.1.1 in /usr/local/lib/python3.10/dist-packages (from typer<0.10.0,>=0.3.0->spacy<3.6.0,>=3.5.0->pt-core-news-lg==3.5.0) (8.1.4)\n",
            "Requirement already satisfied: MarkupSafe>=2.0 in /usr/local/lib/python3.10/dist-packages (from jinja2->spacy<3.6.0,>=3.5.0->pt-core-news-lg==3.5.0) (2.1.3)\n",
            "\u001b[38;5;2m✔ Download and installation successful\u001b[0m\n",
            "You can now load the package via spacy.load('pt_core_news_lg')\n"
          ]
        }
      ]
    },
    {
      "cell_type": "code",
      "execution_count": 27,
      "metadata": {
        "colab": {
          "base_uri": "https://localhost:8080/",
          "height": 409
        },
        "id": "5jepx6VdvWDE",
        "outputId": "920486d6-4472-4d4e-aece-e0f93b40f429"
      },
      "outputs": [
        {
          "output_type": "stream",
          "name": "stderr",
          "text": [
            "/usr/local/lib/python3.10/dist-packages/ipykernel/ipkernel.py:283: DeprecationWarning: `should_run_async` will not call `transform_cell` automatically in the future. Please pass the result to `transformed_cell` argument and any exception that happen during thetransform in `preprocessing_exc_tuple` in IPython 7.17 and above.\n",
            "  and should_run_async(code)\n"
          ]
        },
        {
          "output_type": "execute_result",
          "data": {
            "text/plain": [
              "                Disciplina      Autor  \\\n",
              "0  Estatística Descritiva  professor   \n",
              "1  Estatística Descritiva  professor   \n",
              "2  Estatística Descritiva     aluno1   \n",
              "3  Estatística Descritiva     aluno2   \n",
              "4  Estatística Descritiva  professor   \n",
              "\n",
              "                                            Postagem  \\\n",
              "0  Mais uma vez sejam bem vindos a disciplina de ...   \n",
              "1  Como estão os estudos? Já começaram a ver o ma...   \n",
              "2  Bom dia. Sim. Pra ser mais preciso comecei a a...   \n",
              "3  Iniciei hoje meus estudos nessa matéria !!! A ...   \n",
              "4  Expliquem com suas palavras os conceitos: 1 - ...   \n",
              "\n",
              "  Sentimento (0 - negativo; 5 - neutro; 10 - positivo)  \\\n",
              "0                                                  5     \n",
              "1                                                  5     \n",
              "2                                                  5     \n",
              "3                                                  8     \n",
              "4                                                  5     \n",
              "\n",
              "  Classe (pergunta, resposta, neutro)                  Assunto da postagem  \\\n",
              "0                              Neutro                                  NaN   \n",
              "1                            Pergunta                                  NaN   \n",
              "2                              Neutro                                  NaN   \n",
              "3                            resposta  Introdução à Estatística descritiva   \n",
              "4                            Pergunta  Introdução à Estatística descritiva   \n",
              "\n",
              "                     Unnamed: 6          Unnamed: 7            Unnamed: 8  \n",
              "0                           NaN                 NaN                   NaN  \n",
              "1                           NaN                 NaN                   NaN  \n",
              "2                           NaN                 NaN                   NaN  \n",
              "3                           NaN                 NaN                   NaN  \n",
              "4  Medidas de tendência central  Medidas de Posição  Medidas de dispersão  "
            ],
            "text/html": [
              "\n",
              "\n",
              "  <div id=\"df-475310ff-d0ff-4079-8650-b13973049fd0\">\n",
              "    <div class=\"colab-df-container\">\n",
              "      <div>\n",
              "<style scoped>\n",
              "    .dataframe tbody tr th:only-of-type {\n",
              "        vertical-align: middle;\n",
              "    }\n",
              "\n",
              "    .dataframe tbody tr th {\n",
              "        vertical-align: top;\n",
              "    }\n",
              "\n",
              "    .dataframe thead th {\n",
              "        text-align: right;\n",
              "    }\n",
              "</style>\n",
              "<table border=\"1\" class=\"dataframe\">\n",
              "  <thead>\n",
              "    <tr style=\"text-align: right;\">\n",
              "      <th></th>\n",
              "      <th>Disciplina</th>\n",
              "      <th>Autor</th>\n",
              "      <th>Postagem</th>\n",
              "      <th>Sentimento (0 - negativo; 5 - neutro; 10 - positivo)</th>\n",
              "      <th>Classe (pergunta, resposta, neutro)</th>\n",
              "      <th>Assunto da postagem</th>\n",
              "      <th>Unnamed: 6</th>\n",
              "      <th>Unnamed: 7</th>\n",
              "      <th>Unnamed: 8</th>\n",
              "    </tr>\n",
              "  </thead>\n",
              "  <tbody>\n",
              "    <tr>\n",
              "      <th>0</th>\n",
              "      <td>Estatística Descritiva</td>\n",
              "      <td>professor</td>\n",
              "      <td>Mais uma vez sejam bem vindos a disciplina de ...</td>\n",
              "      <td>5</td>\n",
              "      <td>Neutro</td>\n",
              "      <td>NaN</td>\n",
              "      <td>NaN</td>\n",
              "      <td>NaN</td>\n",
              "      <td>NaN</td>\n",
              "    </tr>\n",
              "    <tr>\n",
              "      <th>1</th>\n",
              "      <td>Estatística Descritiva</td>\n",
              "      <td>professor</td>\n",
              "      <td>Como estão os estudos? Já começaram a ver o ma...</td>\n",
              "      <td>5</td>\n",
              "      <td>Pergunta</td>\n",
              "      <td>NaN</td>\n",
              "      <td>NaN</td>\n",
              "      <td>NaN</td>\n",
              "      <td>NaN</td>\n",
              "    </tr>\n",
              "    <tr>\n",
              "      <th>2</th>\n",
              "      <td>Estatística Descritiva</td>\n",
              "      <td>aluno1</td>\n",
              "      <td>Bom dia. Sim. Pra ser mais preciso comecei a a...</td>\n",
              "      <td>5</td>\n",
              "      <td>Neutro</td>\n",
              "      <td>NaN</td>\n",
              "      <td>NaN</td>\n",
              "      <td>NaN</td>\n",
              "      <td>NaN</td>\n",
              "    </tr>\n",
              "    <tr>\n",
              "      <th>3</th>\n",
              "      <td>Estatística Descritiva</td>\n",
              "      <td>aluno2</td>\n",
              "      <td>Iniciei hoje meus estudos nessa matéria !!! A ...</td>\n",
              "      <td>8</td>\n",
              "      <td>resposta</td>\n",
              "      <td>Introdução à Estatística descritiva</td>\n",
              "      <td>NaN</td>\n",
              "      <td>NaN</td>\n",
              "      <td>NaN</td>\n",
              "    </tr>\n",
              "    <tr>\n",
              "      <th>4</th>\n",
              "      <td>Estatística Descritiva</td>\n",
              "      <td>professor</td>\n",
              "      <td>Expliquem com suas palavras os conceitos: 1 - ...</td>\n",
              "      <td>5</td>\n",
              "      <td>Pergunta</td>\n",
              "      <td>Introdução à Estatística descritiva</td>\n",
              "      <td>Medidas de tendência central</td>\n",
              "      <td>Medidas de Posição</td>\n",
              "      <td>Medidas de dispersão</td>\n",
              "    </tr>\n",
              "  </tbody>\n",
              "</table>\n",
              "</div>\n",
              "      <button class=\"colab-df-convert\" onclick=\"convertToInteractive('df-475310ff-d0ff-4079-8650-b13973049fd0')\"\n",
              "              title=\"Convert this dataframe to an interactive table.\"\n",
              "              style=\"display:none;\">\n",
              "\n",
              "  <svg xmlns=\"http://www.w3.org/2000/svg\" height=\"24px\"viewBox=\"0 0 24 24\"\n",
              "       width=\"24px\">\n",
              "    <path d=\"M0 0h24v24H0V0z\" fill=\"none\"/>\n",
              "    <path d=\"M18.56 5.44l.94 2.06.94-2.06 2.06-.94-2.06-.94-.94-2.06-.94 2.06-2.06.94zm-11 1L8.5 8.5l.94-2.06 2.06-.94-2.06-.94L8.5 2.5l-.94 2.06-2.06.94zm10 10l.94 2.06.94-2.06 2.06-.94-2.06-.94-.94-2.06-.94 2.06-2.06.94z\"/><path d=\"M17.41 7.96l-1.37-1.37c-.4-.4-.92-.59-1.43-.59-.52 0-1.04.2-1.43.59L10.3 9.45l-7.72 7.72c-.78.78-.78 2.05 0 2.83L4 21.41c.39.39.9.59 1.41.59.51 0 1.02-.2 1.41-.59l7.78-7.78 2.81-2.81c.8-.78.8-2.07 0-2.86zM5.41 20L4 18.59l7.72-7.72 1.47 1.35L5.41 20z\"/>\n",
              "  </svg>\n",
              "      </button>\n",
              "\n",
              "\n",
              "\n",
              "    <div id=\"df-73eacd7e-41c4-4ecf-858f-f46811aad366\">\n",
              "      <button class=\"colab-df-quickchart\" onclick=\"quickchart('df-73eacd7e-41c4-4ecf-858f-f46811aad366')\"\n",
              "              title=\"Suggest charts.\"\n",
              "              style=\"display:none;\">\n",
              "\n",
              "<svg xmlns=\"http://www.w3.org/2000/svg\" height=\"24px\"viewBox=\"0 0 24 24\"\n",
              "     width=\"24px\">\n",
              "    <g>\n",
              "        <path d=\"M19 3H5c-1.1 0-2 .9-2 2v14c0 1.1.9 2 2 2h14c1.1 0 2-.9 2-2V5c0-1.1-.9-2-2-2zM9 17H7v-7h2v7zm4 0h-2V7h2v10zm4 0h-2v-4h2v4z\"/>\n",
              "    </g>\n",
              "</svg>\n",
              "      </button>\n",
              "    </div>\n",
              "\n",
              "<style>\n",
              "  .colab-df-quickchart {\n",
              "    background-color: #E8F0FE;\n",
              "    border: none;\n",
              "    border-radius: 50%;\n",
              "    cursor: pointer;\n",
              "    display: none;\n",
              "    fill: #1967D2;\n",
              "    height: 32px;\n",
              "    padding: 0 0 0 0;\n",
              "    width: 32px;\n",
              "  }\n",
              "\n",
              "  .colab-df-quickchart:hover {\n",
              "    background-color: #E2EBFA;\n",
              "    box-shadow: 0px 1px 2px rgba(60, 64, 67, 0.3), 0px 1px 3px 1px rgba(60, 64, 67, 0.15);\n",
              "    fill: #174EA6;\n",
              "  }\n",
              "\n",
              "  [theme=dark] .colab-df-quickchart {\n",
              "    background-color: #3B4455;\n",
              "    fill: #D2E3FC;\n",
              "  }\n",
              "\n",
              "  [theme=dark] .colab-df-quickchart:hover {\n",
              "    background-color: #434B5C;\n",
              "    box-shadow: 0px 1px 3px 1px rgba(0, 0, 0, 0.15);\n",
              "    filter: drop-shadow(0px 1px 2px rgba(0, 0, 0, 0.3));\n",
              "    fill: #FFFFFF;\n",
              "  }\n",
              "</style>\n",
              "\n",
              "    <script>\n",
              "      async function quickchart(key) {\n",
              "        const containerElement = document.querySelector('#' + key);\n",
              "        const charts = await google.colab.kernel.invokeFunction(\n",
              "            'suggestCharts', [key], {});\n",
              "      }\n",
              "    </script>\n",
              "\n",
              "      <script>\n",
              "\n",
              "function displayQuickchartButton(domScope) {\n",
              "  let quickchartButtonEl =\n",
              "    domScope.querySelector('#df-73eacd7e-41c4-4ecf-858f-f46811aad366 button.colab-df-quickchart');\n",
              "  quickchartButtonEl.style.display =\n",
              "    google.colab.kernel.accessAllowed ? 'block' : 'none';\n",
              "}\n",
              "\n",
              "        displayQuickchartButton(document);\n",
              "      </script>\n",
              "      <style>\n",
              "    .colab-df-container {\n",
              "      display:flex;\n",
              "      flex-wrap:wrap;\n",
              "      gap: 12px;\n",
              "    }\n",
              "\n",
              "    .colab-df-convert {\n",
              "      background-color: #E8F0FE;\n",
              "      border: none;\n",
              "      border-radius: 50%;\n",
              "      cursor: pointer;\n",
              "      display: none;\n",
              "      fill: #1967D2;\n",
              "      height: 32px;\n",
              "      padding: 0 0 0 0;\n",
              "      width: 32px;\n",
              "    }\n",
              "\n",
              "    .colab-df-convert:hover {\n",
              "      background-color: #E2EBFA;\n",
              "      box-shadow: 0px 1px 2px rgba(60, 64, 67, 0.3), 0px 1px 3px 1px rgba(60, 64, 67, 0.15);\n",
              "      fill: #174EA6;\n",
              "    }\n",
              "\n",
              "    [theme=dark] .colab-df-convert {\n",
              "      background-color: #3B4455;\n",
              "      fill: #D2E3FC;\n",
              "    }\n",
              "\n",
              "    [theme=dark] .colab-df-convert:hover {\n",
              "      background-color: #434B5C;\n",
              "      box-shadow: 0px 1px 3px 1px rgba(0, 0, 0, 0.15);\n",
              "      filter: drop-shadow(0px 1px 2px rgba(0, 0, 0, 0.3));\n",
              "      fill: #FFFFFF;\n",
              "    }\n",
              "  </style>\n",
              "\n",
              "      <script>\n",
              "        const buttonEl =\n",
              "          document.querySelector('#df-475310ff-d0ff-4079-8650-b13973049fd0 button.colab-df-convert');\n",
              "        buttonEl.style.display =\n",
              "          google.colab.kernel.accessAllowed ? 'block' : 'none';\n",
              "\n",
              "        async function convertToInteractive(key) {\n",
              "          const element = document.querySelector('#df-475310ff-d0ff-4079-8650-b13973049fd0');\n",
              "          const dataTable =\n",
              "            await google.colab.kernel.invokeFunction('convertToInteractive',\n",
              "                                                     [key], {});\n",
              "          if (!dataTable) return;\n",
              "\n",
              "          const docLinkHtml = 'Like what you see? Visit the ' +\n",
              "            '<a target=\"_blank\" href=https://colab.research.google.com/notebooks/data_table.ipynb>data table notebook</a>'\n",
              "            + ' to learn more about interactive tables.';\n",
              "          element.innerHTML = '';\n",
              "          dataTable['output_type'] = 'display_data';\n",
              "          await google.colab.output.renderOutput(dataTable, element);\n",
              "          const docLink = document.createElement('div');\n",
              "          docLink.innerHTML = docLinkHtml;\n",
              "          element.appendChild(docLink);\n",
              "        }\n",
              "      </script>\n",
              "    </div>\n",
              "  </div>\n"
            ]
          },
          "metadata": {},
          "execution_count": 27
        }
      ],
      "source": [
        "import pandas as pd\n",
        "\n",
        "df = pd.read_csv(\"forum.csv\")\n",
        "df.head()"
      ]
    },
    {
      "cell_type": "markdown",
      "source": [
        "# Pré Processamento"
      ],
      "metadata": {
        "id": "a_mB0PHyw0aD"
      }
    },
    {
      "cell_type": "code",
      "source": [
        "import pt_core_news_lg\n",
        "nlp = pt_core_news_lg.load()"
      ],
      "metadata": {
        "colab": {
          "base_uri": "https://localhost:8080/"
        },
        "id": "cLB4bdUoxWuF",
        "outputId": "a96d6579-eabb-4182-ca4a-b622ee4c8f9c"
      },
      "execution_count": 28,
      "outputs": [
        {
          "output_type": "stream",
          "name": "stderr",
          "text": [
            "/usr/local/lib/python3.10/dist-packages/ipykernel/ipkernel.py:283: DeprecationWarning: `should_run_async` will not call `transform_cell` automatically in the future. Please pass the result to `transformed_cell` argument and any exception that happen during thetransform in `preprocessing_exc_tuple` in IPython 7.17 and above.\n",
            "  and should_run_async(code)\n"
          ]
        }
      ]
    },
    {
      "cell_type": "code",
      "source": [
        "def preprocess(text):\n",
        "  text = text.lower()\n",
        "\n",
        "  res = []\n",
        "  for token in nlp(text):\n",
        "    if token.is_stop or token.is_punct:\n",
        "      continue\n",
        "    elif token.like_num or token.is_currency:\n",
        "      continue\n",
        "    elif len(token.text) < 4:\n",
        "      continue\n",
        "\n",
        "    res.append(token.text)\n",
        "\n",
        "  return ' '.join(res)"
      ],
      "metadata": {
        "colab": {
          "base_uri": "https://localhost:8080/"
        },
        "id": "9YbRK5mGjQu2",
        "outputId": "db168680-c33f-49c0-b2a3-da6843945794"
      },
      "execution_count": 29,
      "outputs": [
        {
          "output_type": "stream",
          "name": "stderr",
          "text": [
            "/usr/local/lib/python3.10/dist-packages/ipykernel/ipkernel.py:283: DeprecationWarning: `should_run_async` will not call `transform_cell` automatically in the future. Please pass the result to `transformed_cell` argument and any exception that happen during thetransform in `preprocessing_exc_tuple` in IPython 7.17 and above.\n",
            "  and should_run_async(code)\n"
          ]
        }
      ]
    },
    {
      "cell_type": "code",
      "source": [
        "df['Postagem'] = df['Postagem'].apply(preprocess)\n",
        "df['Postagem']"
      ],
      "metadata": {
        "colab": {
          "base_uri": "https://localhost:8080/"
        },
        "id": "J36TBzC5wr7l",
        "outputId": "8d3acd92-7bc4-498c-9d39-da226b1f3b82"
      },
      "execution_count": 30,
      "outputs": [
        {
          "output_type": "stream",
          "name": "stderr",
          "text": [
            "/usr/local/lib/python3.10/dist-packages/ipykernel/ipkernel.py:283: DeprecationWarning: `should_run_async` will not call `transform_cell` automatically in the future. Please pass the result to `transformed_cell` argument and any exception that happen during thetransform in `preprocessing_exc_tuple` in IPython 7.17 and above.\n",
            "  and should_run_async(code)\n"
          ]
        },
        {
          "output_type": "execute_result",
          "data": {
            "text/plain": [
              "0      sejam vindos disciplina análise dados vamos co...\n",
              "1                             estudos começaram material\n",
              "2                   preciso comecei assistir vídeo aulas\n",
              "3      iniciei hoje estudos matéria estatística conju...\n",
              "4      expliquem palavras conceitos distribuição freq...\n",
              "                             ...                        \n",
              "128    aluno podemos método amostragem definido taman...\n",
              "129    método amostragem conveniente permite selecion...\n",
              "130    população conjunto indivíduos objetos apresent...\n",
              "131    teorema central limite importante resultado es...\n",
              "132    pesquisa tendenciosa representaria contraste e...\n",
              "Name: Postagem, Length: 133, dtype: object"
            ]
          },
          "metadata": {},
          "execution_count": 30
        }
      ]
    },
    {
      "cell_type": "code",
      "source": [
        "import re\n",
        "\n",
        "df['Postagem'] = df['Postagem'].apply(lambda text: re.sub(r\"aluno\\d{1,}\", \"aluno\", text)) # Retirando dígitos após a palavra 'aluno'\n",
        "\n",
        "df['Postagem'] = df['Postagem'].apply(lambda text: re.sub(r\"(?:https?:\\/\\/)+.+\", \"\", text)) # Retirando links"
      ],
      "metadata": {
        "colab": {
          "base_uri": "https://localhost:8080/"
        },
        "id": "1Zn2cOgQBUs7",
        "outputId": "f9cef99b-2360-439e-b809-889b70721e0f"
      },
      "execution_count": 31,
      "outputs": [
        {
          "output_type": "stream",
          "name": "stderr",
          "text": [
            "/usr/local/lib/python3.10/dist-packages/ipykernel/ipkernel.py:283: DeprecationWarning: `should_run_async` will not call `transform_cell` automatically in the future. Please pass the result to `transformed_cell` argument and any exception that happen during thetransform in `preprocessing_exc_tuple` in IPython 7.17 and above.\n",
            "  and should_run_async(code)\n"
          ]
        }
      ]
    },
    {
      "cell_type": "markdown",
      "source": [
        "# Gensim LDA"
      ],
      "metadata": {
        "id": "7SiJypUYQQrd"
      }
    },
    {
      "cell_type": "code",
      "source": [
        "from gensim.corpora import Dictionary\n",
        "from gensim.models import Phrases\n",
        "\n",
        "docs = df['Postagem'].apply(lambda text: text.split(' ')).values\n",
        "\n",
        "# Add bigrams and trigrams to docs (only ones that appear 12 times or more).\n",
        "bigram = Phrases(docs, min_count=12)\n",
        "\n",
        "for idx in range(len(docs)):\n",
        "  for token in bigram[docs[idx]]:\n",
        "    if '_' in token:\n",
        "            # Token is a bigram, add to document.\n",
        "            docs[idx].append(token)\n",
        "\n",
        "# Create a dictionary representation of the documents.\n",
        "# docs = [' '.join(tokens) for tokens in tokens_nltk]\n",
        "dictionary = Dictionary(docs)\n",
        "\n",
        "\n",
        "# Bag-of-words representation of the documents.\n",
        "corpus = [dictionary.doc2bow(doc) for doc in docs]\n",
        "\n",
        "# Filter out words that occur less than 20 documents, or more than 50% of the documents.\n",
        "# Que argumentos são adequados para o caso?\n",
        "# dictionary.filter_extremes(no_below=20, no_above=0.5)\n"
      ],
      "metadata": {
        "colab": {
          "base_uri": "https://localhost:8080/"
        },
        "id": "5ww3yYj1QVZh",
        "outputId": "0bf325e5-0e36-4330-a9de-82618b041408"
      },
      "execution_count": 32,
      "outputs": [
        {
          "output_type": "stream",
          "name": "stderr",
          "text": [
            "/usr/local/lib/python3.10/dist-packages/ipykernel/ipkernel.py:283: DeprecationWarning: `should_run_async` will not call `transform_cell` automatically in the future. Please pass the result to `transformed_cell` argument and any exception that happen during thetransform in `preprocessing_exc_tuple` in IPython 7.17 and above.\n",
            "  and should_run_async(code)\n"
          ]
        }
      ]
    },
    {
      "cell_type": "code",
      "source": [
        "# Train LDA model.\n",
        "from gensim.models import LdaModel\n",
        "\n",
        "# Set training parameters.\n",
        "num_topics = 4\n",
        "chunksize = 2000\n",
        "passes = 20\n",
        "iterations = 400\n",
        "eval_every = None  # Don't evaluate model perplexity, takes too much time.\n",
        "\n",
        "# Make a index to word dictionary.\n",
        "temp = dictionary[0]  # This is only to \"load\" the dictionary.\n",
        "id2word = dictionary.id2token\n",
        "\n",
        "model = LdaModel(\n",
        "    corpus=corpus,\n",
        "    id2word=id2word,\n",
        "    chunksize=chunksize,\n",
        "    alpha='auto',\n",
        "    eta='auto',\n",
        "    iterations=iterations,\n",
        "    num_topics=num_topics,\n",
        "    passes=passes,\n",
        "    eval_every=eval_every\n",
        ")"
      ],
      "metadata": {
        "colab": {
          "base_uri": "https://localhost:8080/"
        },
        "id": "LN63gDaKSh64",
        "outputId": "083bad5a-8940-4414-a739-ce9d14f18542"
      },
      "execution_count": 33,
      "outputs": [
        {
          "output_type": "stream",
          "name": "stderr",
          "text": [
            "/usr/local/lib/python3.10/dist-packages/ipykernel/ipkernel.py:283: DeprecationWarning: `should_run_async` will not call `transform_cell` automatically in the future. Please pass the result to `transformed_cell` argument and any exception that happen during thetransform in `preprocessing_exc_tuple` in IPython 7.17 and above.\n",
            "  and should_run_async(code)\n"
          ]
        }
      ]
    },
    {
      "cell_type": "code",
      "source": [
        "model.show_topics()"
      ],
      "metadata": {
        "colab": {
          "base_uri": "https://localhost:8080/"
        },
        "id": "6TJV_ltBVBvb",
        "outputId": "a5000181-ecff-41b3-ff26-2943bd189711"
      },
      "execution_count": 34,
      "outputs": [
        {
          "output_type": "stream",
          "name": "stderr",
          "text": [
            "/usr/local/lib/python3.10/dist-packages/ipykernel/ipkernel.py:283: DeprecationWarning: `should_run_async` will not call `transform_cell` automatically in the future. Please pass the result to `transformed_cell` argument and any exception that happen during thetransform in `preprocessing_exc_tuple` in IPython 7.17 and above.\n",
            "  and should_run_async(code)\n"
          ]
        },
        {
          "output_type": "execute_result",
          "data": {
            "text/plain": [
              "[(0,\n",
              "  '0.024*\"amostra\" + 0.017*\"população\" + 0.013*\"valores\" + 0.012*\"média\" + 0.009*\"resultados\" + 0.008*\"hipótese\" + 0.008*\"amostragem\" + 0.008*\"aleatória\" + 0.008*\"será\" + 0.007*\"estimativa\"'),\n",
              " (1,\n",
              "  '0.021*\"variável\" + 0.019*\"regressão\" + 0.016*\"valores\" + 0.015*\"parâmetro\" + 0.013*\"amostra\" + 0.013*\"estimativa\" + 0.012*\"variáveis\" + 0.012*\"populacional\" + 0.012*\"média\" + 0.011*\"estatística\"'),\n",
              " (2,\n",
              "  '0.023*\"dados\" + 0.016*\"medidas\" + 0.015*\"população\" + 0.014*\"amostra\" + 0.013*\"distribuição\" + 0.010*\"variáveis\" + 0.009*\"conjunto\" + 0.009*\"frequência\" + 0.008*\"amostragem\" + 0.008*\"central\"'),\n",
              " (3,\n",
              "  '0.017*\"amostra\" + 0.015*\"dados\" + 0.015*\"população\" + 0.015*\"distribuição\" + 0.013*\"medidas\" + 0.012*\"amostragem\" + 0.010*\"variáveis\" + 0.010*\"valores\" + 0.009*\"central\" + 0.009*\"linear\"')]"
            ]
          },
          "metadata": {},
          "execution_count": 34
        }
      ]
    },
    {
      "cell_type": "code",
      "source": [
        "import pyLDAvis.gensim_models\n",
        "import pyLDAvis\n",
        "\n",
        "pyLDAvis.enable_notebook()\n",
        "\n",
        "panel = pyLDAvis.gensim_models.prepare(model, corpus, dictionary)\n",
        "panel"
      ],
      "metadata": {
        "colab": {
          "base_uri": "https://localhost:8080/",
          "height": 916
        },
        "id": "XtYarSYnVC1E",
        "outputId": "8baa7c7c-cf96-4b9e-c562-5240278e948d"
      },
      "execution_count": 35,
      "outputs": [
        {
          "output_type": "stream",
          "name": "stderr",
          "text": [
            "/usr/local/lib/python3.10/dist-packages/ipykernel/ipkernel.py:283: DeprecationWarning: `should_run_async` will not call `transform_cell` automatically in the future. Please pass the result to `transformed_cell` argument and any exception that happen during thetransform in `preprocessing_exc_tuple` in IPython 7.17 and above.\n",
            "  and should_run_async(code)\n"
          ]
        },
        {
          "output_type": "execute_result",
          "data": {
            "text/plain": [
              "PreparedData(topic_coordinates=              x         y  topics  cluster       Freq\n",
              "topic                                                \n",
              "2     -0.094139 -0.049369       1        1  35.135035\n",
              "3     -0.071237  0.006852       2        1  28.501028\n",
              "1      0.124921 -0.069606       3        1  19.033559\n",
              "0      0.040454  0.112123       4        1  17.330378, topic_info=             Term       Freq      Total Category  logprob  loglift\n",
              "449     regressão  27.000000  27.000000  Default  30.0000  30.0000\n",
              "403      variável  24.000000  24.000000  Default  29.0000  29.0000\n",
              "710     parâmetro  12.000000  12.000000  Default  28.0000  28.0000\n",
              "711  populacional  10.000000  10.000000  Default  27.0000  27.0000\n",
              "688    estimativa  18.000000  18.000000  Default  26.0000  26.0000\n",
              "..            ...        ...        ...      ...      ...      ...\n",
              "943     contínuas   2.886306   8.121558   Topic4  -5.5588   0.7182\n",
              "7           dados   3.048584  62.502916   Topic4  -5.5041  -1.2678\n",
              "70   distribuição   2.889905  44.376200   Topic4  -5.5575  -0.9788\n",
              "315     elementos   2.889241  18.553336   Topic4  -5.5578  -0.1069\n",
              "693       pontual   2.889162  11.874671   Topic4  -5.5578   0.3393\n",
              "\n",
              "[288 rows x 6 columns], token_table=      Topic      Freq            Term\n",
              "term                                 \n",
              "519       1  0.753517          -preço\n",
              "335       4  0.719087        acredito\n",
              "732       3  0.932957       afirmação\n",
              "822       4  0.719087       aleatoria\n",
              "1000      2  0.754015  aleatoriamente\n",
              "...     ...       ...             ...\n",
              "403       4  0.082302        variável\n",
              "805       3  0.932957      verdadeiro\n",
              "564       1  0.945902          visual\n",
              "718       2  0.871407           ótimo\n",
              "712       3  0.941909           único\n",
              "\n",
              "[388 rows x 3 columns], R=30, lambda_step=0.01, plot_opts={'xlab': 'PC1', 'ylab': 'PC2'}, topic_order=[3, 4, 2, 1])"
            ],
            "text/html": [
              "\n",
              "<link rel=\"stylesheet\" type=\"text/css\" href=\"https://cdn.jsdelivr.net/gh/bmabey/pyLDAvis@3.4.0/pyLDAvis/js/ldavis.v1.0.0.css\">\n",
              "\n",
              "\n",
              "<div id=\"ldavis_el70841383864437819526102592254\" style=\"background-color:white;\"></div>\n",
              "<script type=\"text/javascript\">\n",
              "\n",
              "var ldavis_el70841383864437819526102592254_data = {\"mdsDat\": {\"x\": [-0.09413872332550502, -0.07123657408326416, 0.12492092143062582, 0.04045437597814332], \"y\": [-0.04936879111950609, 0.006851967286115743, -0.0696062072643934, 0.11212303109778382], \"topics\": [1, 2, 3, 4], \"cluster\": [1, 1, 1, 1], \"Freq\": [35.13503500183723, 28.501027903706472, 19.033559342744276, 17.33037775171202]}, \"tinfo\": {\"Term\": [\"regress\\u00e3o\", \"vari\\u00e1vel\", \"par\\u00e2metro\", \"populacional\", \"estimativa\", \"hip\\u00f3tese\", \"pontual\", \"amostral\", \"medidas\", \"base\", \"resultados\", \"linear\", \"estat\\u00edstica\", \"teste\", \"dependente\", \"popula\\u00e7\\u00e3o\", \"aleat\\u00f3ria\", \"regress\\u00e3o_linear\", \"amostra\", \"frequ\\u00eancia\", \"equa\\u00e7\\u00e3o\", \"correla\\u00e7\\u00e3o\", \"intervalar\", \"valores\", \"ser\\u00e1\", \"independente\", \"quantidade\", \"m\\u00e9dia\", \"tabela\", \"reta\", \"tabela\", \"for\\u00e7a\", \"paulo\", \"sucesso\", \"casos\", \"-pre\\u00e7o\", \"entrada\", \"porcentagem\", \"perguntas\", \"question\\u00e1rio\", \"dificuldade\", \"organizar\", \"descritiva\", \"fracasso\", \"bernoulli\", \"binomial\", \"pertence\", \"dif\\u00edcil\", \"calculada\", \"tendenciosa\", \"representatividade\", \"dar\\u00e3o\", \"matem\\u00e1ticos\", \"usando-se\", \"observarmos\", \"id\\u00e9ia\", \"graficamente\", \"visual\", \"assunto\", \"informar\", \"sejam\", \"material\", \"classe\", \"representar\", \"dados\", \"medidas\", \"quantidade\", \"diagrama\", \"frequ\\u00eancia\", \"importante\", \"relacionamento\", \"disciplina\", \"tend\\u00eancia\", \"medidas_tend\\u00eancia\", \"distribui\\u00e7\\u00e3o\", \"conjunto\", \"varia\\u00e7\\u00e3o\", \"normal\", \"obter\", \"central\", \"popula\\u00e7\\u00e3o\", \"informa\\u00e7\\u00f5es\", \"pesquisa\", \"amostra\", \"medida\", \"vari\\u00e1veis\", \"elementos\", \"amostragem\", \"correla\\u00e7\\u00e3o\", \"valores\", \"simples\", \"m\\u00e9dia\", \"distribui\\u00e7\\u00e3o_frequ\\u00eancia\", \"seja\", \"resultados\", \"modelos\", \"m\\u00ednimos\", \"quadrados\", \"numero\", \"serem\", \"f\\u00f3rum\", \"crit\\u00e9rio\", \"chance\", \"selecionado\", \"aproxima\", \"objetivos\", \"representa\\u00e7\\u00e3o\", \"populacao\", \"aleatoriamente\", \"envolve\", \"medias\", \"determina\", \"associa\\u00e7\\u00e3o\", \"pesquisados\", \"aula\", \"gr\\u00e1fica\", \"presente\", \"\\u00f3timo\", \"considerar\", \"apresenta\", \"maneiras\", \"usando\", \"sofre\", \"recomendado\", \"influ\\u00eancia\", \"conhecer\", \"existem\", \"linear\", \"consiste\", \"discretas\", \"amostras\", \"regress\\u00e3o_linear\", \"cont\\u00ednuas\", \"par\\u00e2metros\", \"grupos\", \"dado\", \"distribui\\u00e7\\u00e3o\", \"algum\", \"aleat\\u00f3rias\", \"central\", \"medidas\", \"amostragem\", \"popula\\u00e7\\u00e3o\", \"amostra\", \"dados\", \"distribui\\u00e7\\u00e3o_frequ\\u00eancia\", \"vari\\u00e1veis\", \"medida\", \"regress\\u00e3o\", \"conjunto\", \"pessoas\", \"frequ\\u00eancia\", \"valores\", \"elementos\", \"varia\\u00e7\\u00e3o\", \"tend\\u00eancia\", \"distribui\\u00e7\\u00e3o_normal\", \"m\\u00e9dia\", \"quantidade\", \"moda\", \"normal\", \"correla\\u00e7\\u00e3o\", \"par\\u00e2metro\", \"populacional\", \"teste\", \"dependente\", \"independente\", \"\\u00fanico\", \"matem\\u00e1tica\", \"aproximar\", \"preditos\", \"depende\", \"hip\\u00f3teses\", \"base\", \"chamada\", \"amostral\", \"estimador\", \"verdadeiro\", \"aproxima\\u00e7\\u00e3o\", \"diminui\\u00e7\\u00f5es\", \"palavra\", \"aumentos\", \"funcional\", \"regi\\u00e3o\", \"afirma\\u00e7\\u00e3o\", \"realiza\\u00e7\\u00e3o\", \"signific\\u00e2ncia\", \"obten\\u00e7\\u00e3o\", \"maneira\", \"alfa\", \"correspondem\", \"delas\", \"pontual\", \"vari\\u00e1vel\", \"intervalar\", \"conhecidos\", \"reta\", \"regress\\u00e3o\", \"equa\\u00e7\\u00e3o\", \"estimativa\", \"estat\\u00edstica\", \"hip\\u00f3tese\", \"estima\\u00e7\\u00e3o\", \"usado\", \"probabil\\u00edstica\", \"melhor\", \"an\\u00e1lise\", \"amostrais\", \"correla\\u00e7\\u00e3o\", \"valores\", \"padr\\u00e3o\", \"m\\u00e9dia\", \"vari\\u00e1veis\", \"confian\\u00e7a\", \"regress\\u00e3o_linear\", \"linear\", \"amostra\", \"intervalo\", \"amostragem\", \"dados\", \"estrato\", \"mensur\\u00e1veis\", \"comprova\\u00e7\\u00e3o\", \"variavel\", \"aleatoria\", \"popula\\u00e7\\u00f5es\", \"acredito\", \"estratos\", \"brasileiro\", \"distinguir\", \"falando\", \"variancia\", \"extraida\", \"colhida\", \"eleitoreiras\", \"cigarros\", \"inteiros\", \"usualmente\", \"litro\", \"r\\u00e9gua\", \"fumados\", \"cont\\u00e1vel\", \"balan\\u00e7a\", \"rel\\u00f3gio\", \"contagens\", \"filhos\", \"instrumento\", \"arterial\", \"real\", \"assumem\", \"sentido\", \"domic\\u00edlios\", \"finito\", \"ser\\u00e1\", \"resultados\", \"hip\\u00f3tese\", \"altura\", \"aleat\\u00f3ria\", \"igual\", \"poss\\u00edveis\", \"amostra\", \"diferentes\", \"pesquisas\", \"curva\", \"infinito\", \"horas\", \"exemplos\", \"popula\\u00e7\\u00e3o\", \"cont\\u00ednua\", \"m\\u00e9dia\", \"estimativa\", \"valores\", \"estratificada\", \"aluno\", \"seja\", \"amostragem\", \"simples\", \"podemos\", \"caracter\\u00edsticas\", \"vari\\u00e1veis\", \"intervalo\", \"tirar\", \"conjunto\", \"cont\\u00ednuas\", \"dados\", \"distribui\\u00e7\\u00e3o\", \"elementos\", \"pontual\"], \"Freq\": [27.0, 24.0, 12.0, 10.0, 18.0, 13.0, 11.0, 12.0, 42.0, 10.0, 14.0, 18.0, 16.0, 6.0, 6.0, 55.0, 14.0, 12.0, 71.0, 21.0, 9.0, 22.0, 7.0, 46.0, 12.0, 4.0, 19.0, 36.0, 8.0, 6.0, 8.304670929062647, 5.0577831085674205, 4.253051423146299, 3.443285371719587, 3.4391540024678604, 3.43337998524493, 6.675533260113296, 2.6330524419790615, 2.633051734855527, 2.6330515580746434, 2.6330513812937597, 2.6330513812937597, 2.6330513812937597, 2.6330508509511086, 2.633050497389341, 2.633050497389341, 2.633026808750927, 2.6328024738095306, 2.6327969936021365, 2.632772951401955, 2.6324358302567674, 2.626840361726359, 2.6268401849454754, 2.6268400081645917, 2.6268400081645917, 2.6268396546028243, 2.6268389474792895, 2.6268389474792895, 5.063743806403522, 1.8228143855929098, 4.253333211874893, 7.494416962396963, 7.494417669520498, 5.871351716802204, 34.70419752405863, 24.4245645043931, 12.275038051657775, 7.992792679817912, 13.165620544746538, 5.063474038775018, 7.591410269163293, 5.063750170515335, 9.924678926054952, 8.304230391100504, 20.45768350082425, 14.248677821250686, 10.723522040240514, 9.114907217639962, 5.8739822163514415, 12.355364456710252, 22.077178833253868, 5.063425247251121, 9.924747517037822, 21.264633079212086, 7.4944438330912835, 14.69563222234878, 8.304974285059052, 12.3561592635633, 8.852595499686455, 11.894365167965125, 7.275099769602799, 9.529390506022734, 6.683772663540102, 7.493673068438415, 6.683742257228109, 5.62987652649277, 3.300389561555312, 3.3003789498018166, 2.5240520312633863, 2.5239636955856373, 2.523936449191526, 2.5239003118688106, 2.523875359907888, 2.5238788015576703, 2.523699262160686, 2.5210503390447996, 5.630905006169423, 4.854174554194001, 4.07724219209801, 1.7473922765105796, 1.7473922765105796, 1.7473918463043567, 1.7473915595002083, 1.7473904122836141, 1.7473895518711684, 1.7473889782628713, 1.747387687644203, 1.7473772192927814, 1.747358863827275, 1.747347678465482, 1.7473126883593606, 1.7472967707291167, 1.7473035106266075, 1.7472973443374138, 1.7472817135113186, 7.959376110812762, 3.3004661382629714, 11.066492945535453, 4.526357986024653, 6.4061274419318375, 4.853783926943694, 7.183083321968009, 4.852954489346126, 7.503448718358369, 4.8539284762345565, 4.854175127802298, 17.97669473955316, 3.3006370735354995, 3.3007856380844416, 11.067757178222204, 16.504679330487228, 14.9507251234009, 18.309356577007893, 21.54972950244038, 18.881787829856044, 6.407583833398108, 12.61907278714199, 6.407561462674521, 9.513396282853252, 9.51436109200893, 4.854175127802298, 7.960973036311816, 12.355231325953573, 7.183879490284347, 7.184290193825052, 6.40760677772999, 5.629807693497121, 8.189425733612268, 6.408340996350245, 5.630890092353699, 5.629809414322012, 5.631571539010622, 12.087770525416094, 9.982693948758726, 5.779188159716632, 5.777331816302512, 4.373065483593437, 3.6788773214858153, 2.974913285682704, 2.276428642408601, 2.271937754662948, 2.258842221036224, 4.374942512633715, 7.783653298345036, 4.378198583417871, 9.237110433125382, 1.577034501951053, 1.5770344061842652, 1.5770342146506897, 1.5770340231171143, 1.5770340231171143, 1.5770338315835386, 1.5770338315835386, 1.5770338315835386, 1.5770338315835386, 1.5770338315835386, 1.5770338315835386, 1.5770338315835386, 1.5770337358167508, 1.5770335442831753, 1.5770333527495999, 1.577032873915661, 8.565846541606824, 17.208046027766347, 5.0511690390944795, 4.16941779246919, 4.371508315624308, 15.9288453738767, 6.035650468161341, 10.64784255627749, 9.287030978119457, 6.480364615861355, 3.3461360004485634, 2.9777295953774234, 2.277987342646334, 2.9400273602341067, 5.0271572408635095, 2.240518012330872, 8.111503617997334, 12.81172990037113, 4.378933689280788, 9.782319183373282, 10.182382257809438, 4.37581552267102, 5.007725393490818, 6.06222268723011, 11.041282399671523, 4.983304096475346, 7.18466804916032, 5.868346656062691, 2.889160676769459, 2.8878797487226286, 2.209333185132245, 2.2093330107376845, 2.2093330107376845, 2.2093324875540032, 2.209328650873672, 1.5295051703113494, 1.529504995916789, 1.529504995916789, 1.5295048215222284, 1.5295044727331075, 1.5295044727331075, 1.529503949549426, 1.529503251971184, 1.5288696765329084, 1.5288696765329084, 1.5288696765329084, 1.5288696765329084, 1.5288696765329084, 1.5288696765329084, 1.5288695021383478, 1.5288695021383478, 1.5288695021383478, 1.5288695021383478, 1.5288695021383478, 1.5288695021383478, 1.5288695021383478, 1.5288695021383478, 1.5288695021383478, 2.8878811438791128, 2.8891603279803384, 2.887864925184987, 6.213323820664312, 6.963809186825951, 6.291538385889514, 3.5685640408355512, 6.2876312501562, 3.460309314986968, 2.2093303948192773, 17.85006176390772, 2.2093324875540032, 2.209331615581201, 2.209331615581201, 2.207623944044841, 2.2093293484519143, 3.5672784041355876, 13.089150254142655, 2.888562503426964, 8.65979489247635, 5.608464190719578, 9.608661744560894, 2.888985933419844, 3.568980146256891, 4.929331661405933, 6.28842509419557, 4.193479045237129, 3.5697115570436035, 3.56689822399371, 5.49845784590539, 3.5192996702306427, 2.8892974021048867, 4.0202400231006825, 2.8863056634196074, 3.048584336218109, 2.889904643964528, 2.8892407238727262, 2.889161548742262], \"Total\": [27.0, 24.0, 12.0, 10.0, 18.0, 13.0, 11.0, 12.0, 42.0, 10.0, 14.0, 18.0, 16.0, 6.0, 6.0, 55.0, 14.0, 12.0, 71.0, 21.0, 9.0, 22.0, 7.0, 46.0, 12.0, 4.0, 19.0, 36.0, 8.0, 6.0, 8.84404548060233, 5.602312671948226, 4.792813102533696, 3.9826555552254197, 3.982066623513945, 3.981331331809599, 7.998675722488481, 3.172421198990849, 3.1724207619046094, 3.172420911613922, 3.1724208978920556, 3.1724209196661857, 3.172421031901542, 3.172420577320069, 3.172420417311895, 3.1724204516788372, 3.1724197931764158, 3.172380654746775, 3.172379817794554, 3.1723756306358477, 3.1723213859168267, 3.1715778415908384, 3.171577763465136, 3.1715777696616625, 3.171577803991768, 3.1715775934196864, 3.1715773149199347, 3.171577488628809, 6.379627395726361, 2.362182668900394, 5.569366853200722, 10.266740764594774, 10.266746568806603, 7.966237417089418, 62.50291634619547, 42.70502234250034, 19.095518131409374, 11.832829313142755, 21.4721511277296, 6.983618656772645, 11.551632698867133, 7.156321664135993, 16.67784127338843, 13.503991513544142, 44.376199945667025, 27.95852425721811, 19.664708392286744, 16.47140452624976, 9.217062978321806, 25.170486660448223, 55.52533606343884, 7.663448285802856, 19.96750781798349, 71.70570674523171, 14.247204778368292, 42.9955451132056, 18.553335917577336, 40.77997753032009, 22.766040354227382, 46.66998813885073, 15.892203410424365, 36.160930315484634, 13.436916966771166, 20.895148475737372, 14.798274475866073, 6.178524970598647, 3.8485015452594737, 3.8485001931006866, 3.071845768675627, 3.0718284014865964, 3.071823547174613, 3.0718283556143233, 3.071817235700156, 3.0718271294873016, 3.0717945785146363, 3.071518955201351, 6.98862294548229, 6.211931091758531, 5.30493728888412, 2.295145265180976, 2.295145286980296, 2.295145137007839, 2.2951448979651117, 2.2951445004967335, 2.295144154146593, 2.295144079639044, 2.2951436586315985, 2.295139789919891, 2.2951313756131078, 2.2951467200342455, 2.2951372184093373, 2.2951359321702562, 2.2951491924677283, 2.295149368192737, 2.2951498288881287, 10.938972760968891, 4.528213037363603, 18.794986520298952, 6.7717826054828, 10.375778375312354, 7.701849276685341, 12.643005754762468, 8.121557504562048, 14.247602670888442, 8.25142348082008, 8.360821863070745, 44.376199945667025, 5.208193409897563, 5.208649160213751, 25.170486660448223, 42.70502234250034, 40.77997753032009, 55.52533606343884, 71.70570674523171, 62.50291634619547, 13.436916966771166, 42.9955451132056, 14.247204778368292, 27.858932688392038, 27.95852425721811, 9.212967080151744, 21.4721511277296, 46.66998813885073, 18.553335917577336, 19.664708392286744, 16.67784127338843, 12.55076623736796, 36.160930315484634, 19.095518131409374, 13.237467122143457, 16.47140452624976, 22.766040354227382, 12.658387332390676, 10.555783699300141, 6.3498095567031605, 6.349631680085363, 4.947788842824594, 4.246692905768344, 3.5462240824232687, 2.844834023686173, 2.8455681968408015, 2.844065958104211, 5.627768507319578, 10.054438926339229, 5.7244093115563786, 12.092589926831408, 2.143722529718681, 2.143722483041987, 2.1437224208592878, 2.1437223449236797, 2.1437223759625734, 2.1437222669405944, 2.1437223120733795, 2.1437223606559934, 2.1437223754297143, 2.1437223881191168, 2.143722395568948, 2.143722486855331, 2.14372247389843, 2.143722428279194, 2.14372232483777, 2.1437221362946492, 11.87467110572424, 24.300814689364046, 7.011298006983264, 5.790529692472989, 6.308392411190288, 27.858932688392038, 9.514438384487304, 18.319343387016847, 16.914738271342877, 13.168639994495699, 5.738892529163181, 5.035471315980374, 3.524421089814355, 5.136352571922354, 11.091287530389147, 3.5283728243346553, 22.766040354227382, 46.66998813885073, 9.517715023638276, 36.160930315484634, 42.9955451132056, 9.678724294543061, 12.643005754762468, 18.794986520298952, 71.70570674523171, 13.051425360638708, 40.77997753032009, 62.50291634619547, 3.461130860318714, 3.461375612326158, 2.781303882726298, 2.7813039015233194, 2.7813039293078425, 2.7813038061361786, 2.781303058934725, 2.1014750639338784, 2.1014749660209384, 2.10147497792976, 2.101474935090479, 2.1014749258315106, 2.1014749335679808, 2.101474770776208, 2.101474582040029, 2.1015959016480004, 2.1015959196352862, 2.101595958422301, 2.101595986350269, 2.1015960657683856, 2.1015960747407108, 2.101595914285139, 2.101595938648987, 2.101595978249706, 2.1015959870165593, 2.1015960114424344, 2.1015960216312233, 2.101596029367694, 2.1015960437288337, 2.101596114883666, 4.162206162083081, 4.23764083352488, 4.237883340754904, 12.369425410145267, 14.798274475866073, 13.168639994495699, 6.504266893089736, 14.278569842852228, 6.592301469941518, 3.551218912542614, 71.70570674523171, 3.5578118712664635, 3.5578111436799826, 3.557811731204023, 3.558134421944022, 3.587121585469204, 7.348287311241361, 55.52533606343884, 5.748588171630567, 36.160930315484634, 18.319343387016847, 46.66998813885073, 6.491917538163166, 9.67805385754911, 20.895148475737372, 40.77997753032009, 15.892203410424365, 10.92834671825222, 12.852336939872696, 42.9955451132056, 13.051425360638708, 7.371425387114174, 27.95852425721811, 8.121557504562048, 62.50291634619547, 44.376199945667025, 18.553335917577336, 11.87467110572424], \"Category\": [\"Default\", \"Default\", \"Default\", \"Default\", \"Default\", \"Default\", \"Default\", \"Default\", \"Default\", \"Default\", \"Default\", \"Default\", \"Default\", \"Default\", \"Default\", \"Default\", \"Default\", \"Default\", \"Default\", \"Default\", \"Default\", \"Default\", \"Default\", \"Default\", \"Default\", \"Default\", \"Default\", \"Default\", \"Default\", \"Default\", \"Topic1\", \"Topic1\", \"Topic1\", \"Topic1\", \"Topic1\", \"Topic1\", \"Topic1\", \"Topic1\", \"Topic1\", \"Topic1\", \"Topic1\", \"Topic1\", \"Topic1\", \"Topic1\", \"Topic1\", \"Topic1\", \"Topic1\", \"Topic1\", \"Topic1\", \"Topic1\", \"Topic1\", \"Topic1\", \"Topic1\", \"Topic1\", \"Topic1\", \"Topic1\", \"Topic1\", \"Topic1\", \"Topic1\", \"Topic1\", \"Topic1\", \"Topic1\", \"Topic1\", \"Topic1\", \"Topic1\", \"Topic1\", \"Topic1\", \"Topic1\", \"Topic1\", \"Topic1\", \"Topic1\", \"Topic1\", \"Topic1\", \"Topic1\", \"Topic1\", \"Topic1\", \"Topic1\", \"Topic1\", \"Topic1\", \"Topic1\", \"Topic1\", \"Topic1\", \"Topic1\", \"Topic1\", \"Topic1\", \"Topic1\", \"Topic1\", \"Topic1\", \"Topic1\", \"Topic1\", \"Topic1\", \"Topic1\", \"Topic1\", \"Topic1\", \"Topic1\", \"Topic2\", \"Topic2\", \"Topic2\", \"Topic2\", \"Topic2\", \"Topic2\", \"Topic2\", \"Topic2\", \"Topic2\", \"Topic2\", \"Topic2\", \"Topic2\", \"Topic2\", \"Topic2\", \"Topic2\", \"Topic2\", \"Topic2\", \"Topic2\", \"Topic2\", \"Topic2\", \"Topic2\", \"Topic2\", \"Topic2\", \"Topic2\", \"Topic2\", \"Topic2\", \"Topic2\", \"Topic2\", \"Topic2\", \"Topic2\", \"Topic2\", \"Topic2\", \"Topic2\", \"Topic2\", \"Topic2\", \"Topic2\", \"Topic2\", \"Topic2\", \"Topic2\", \"Topic2\", \"Topic2\", \"Topic2\", \"Topic2\", \"Topic2\", \"Topic2\", \"Topic2\", \"Topic2\", \"Topic2\", \"Topic2\", \"Topic2\", \"Topic2\", \"Topic2\", \"Topic2\", \"Topic2\", \"Topic2\", \"Topic2\", \"Topic2\", \"Topic2\", \"Topic2\", \"Topic2\", \"Topic2\", \"Topic2\", \"Topic2\", \"Topic2\", \"Topic2\", \"Topic2\", \"Topic2\", \"Topic3\", \"Topic3\", \"Topic3\", \"Topic3\", \"Topic3\", \"Topic3\", \"Topic3\", \"Topic3\", \"Topic3\", \"Topic3\", \"Topic3\", \"Topic3\", \"Topic3\", \"Topic3\", \"Topic3\", \"Topic3\", \"Topic3\", \"Topic3\", \"Topic3\", \"Topic3\", \"Topic3\", \"Topic3\", \"Topic3\", \"Topic3\", \"Topic3\", \"Topic3\", \"Topic3\", \"Topic3\", \"Topic3\", \"Topic3\", \"Topic3\", \"Topic3\", \"Topic3\", \"Topic3\", \"Topic3\", \"Topic3\", \"Topic3\", \"Topic3\", \"Topic3\", \"Topic3\", \"Topic3\", \"Topic3\", \"Topic3\", \"Topic3\", \"Topic3\", \"Topic3\", \"Topic3\", \"Topic3\", \"Topic3\", \"Topic3\", \"Topic3\", \"Topic3\", \"Topic3\", \"Topic3\", \"Topic3\", \"Topic3\", \"Topic3\", \"Topic3\", \"Topic4\", \"Topic4\", \"Topic4\", \"Topic4\", \"Topic4\", \"Topic4\", \"Topic4\", \"Topic4\", \"Topic4\", \"Topic4\", \"Topic4\", \"Topic4\", \"Topic4\", \"Topic4\", \"Topic4\", \"Topic4\", \"Topic4\", \"Topic4\", \"Topic4\", \"Topic4\", \"Topic4\", \"Topic4\", \"Topic4\", \"Topic4\", \"Topic4\", \"Topic4\", \"Topic4\", \"Topic4\", \"Topic4\", \"Topic4\", \"Topic4\", \"Topic4\", \"Topic4\", \"Topic4\", \"Topic4\", \"Topic4\", \"Topic4\", \"Topic4\", \"Topic4\", \"Topic4\", \"Topic4\", \"Topic4\", \"Topic4\", \"Topic4\", \"Topic4\", \"Topic4\", \"Topic4\", \"Topic4\", \"Topic4\", \"Topic4\", \"Topic4\", \"Topic4\", \"Topic4\", \"Topic4\", \"Topic4\", \"Topic4\", \"Topic4\", \"Topic4\", \"Topic4\", \"Topic4\", \"Topic4\", \"Topic4\", \"Topic4\", \"Topic4\", \"Topic4\", \"Topic4\", \"Topic4\", \"Topic4\"], \"logprob\": [30.0, 29.0, 28.0, 27.0, 26.0, 25.0, 24.0, 23.0, 22.0, 21.0, 20.0, 19.0, 18.0, 17.0, 16.0, 15.0, 14.0, 13.0, 12.0, 11.0, 10.0, 9.0, 8.0, 7.0, 6.0, 5.0, 4.0, 3.0, 2.0, 1.0, -5.2087, -5.7046, -5.8779, -6.0891, -6.0903, -6.092, -5.4271, -6.3574, -6.3574, -6.3574, -6.3574, -6.3574, -6.3574, -6.3574, -6.3574, -6.3574, -6.3574, -6.3575, -6.3575, -6.3575, -6.3576, -6.3597, -6.3597, -6.3597, -6.3597, -6.3597, -6.3597, -6.3597, -5.7034, -6.7251, -5.8778, -5.3113, -5.3113, -5.5554, -3.7786, -4.1299, -4.8179, -5.247, -4.7479, -5.7034, -5.2985, -5.7034, -5.0305, -5.2087, -4.3071, -4.6688, -4.9531, -5.1156, -5.555, -4.8114, -4.231, -5.7035, -5.0305, -4.2685, -5.3113, -4.638, -5.2086, -4.8113, -5.1448, -4.8494, -5.341, -5.0711, -5.4258, -5.3114, -5.4258, -5.3882, -5.9222, -5.9222, -6.1904, -6.1904, -6.1904, -6.1904, -6.1904, -6.1904, -6.1905, -6.1916, -5.388, -5.5364, -5.7108, -6.5581, -6.5581, -6.5581, -6.5581, -6.5581, -6.5581, -6.5581, -6.5581, -6.5581, -6.5581, -6.5581, -6.5582, -6.5582, -6.5582, -6.5582, -6.5582, -5.0419, -5.9222, -4.7123, -5.6063, -5.259, -5.5365, -5.1445, -5.5367, -5.1009, -5.5365, -5.5364, -4.2272, -5.9221, -5.9221, -4.7122, -4.3126, -4.4115, -4.2088, -4.0459, -4.178, -5.2588, -4.581, -5.2588, -4.8635, -4.8634, -5.5364, -5.0417, -4.6022, -5.1444, -5.1443, -5.2588, -5.3882, -5.0134, -5.2586, -5.388, -5.3882, -5.3879, -4.2203, -4.4117, -4.9582, -4.9586, -5.237, -5.4099, -5.6223, -5.8899, -5.8919, -5.8977, -5.2366, -4.6605, -5.2359, -4.4893, -6.257, -6.257, -6.257, -6.257, -6.257, -6.257, -6.257, -6.257, -6.257, -6.257, -6.257, -6.257, -6.257, -6.257, -6.257, -6.257, -4.5647, -3.8671, -5.0929, -5.2847, -5.2374, -3.9444, -4.9148, -4.3471, -4.4839, -4.8437, -5.5047, -5.6213, -5.8892, -5.6341, -5.0977, -5.9058, -4.6192, -4.1621, -5.2357, -4.4319, -4.3918, -5.2364, -5.1015, -4.9104, -4.3109, -5.1064, -4.7406, -4.9429, -5.5578, -5.5582, -5.8261, -5.8261, -5.8261, -5.8261, -5.8261, -6.1938, -6.1938, -6.1938, -6.1938, -6.1938, -6.1938, -6.1938, -6.1938, -6.1942, -6.1942, -6.1942, -6.1942, -6.1942, -6.1942, -6.1942, -6.1942, -6.1942, -6.1942, -6.1942, -6.1942, -6.1942, -6.1942, -6.1942, -5.5582, -5.5578, -5.5582, -4.7921, -4.678, -4.7796, -5.3466, -4.7802, -5.3774, -5.8261, -3.7368, -5.8261, -5.8261, -5.8261, -5.8268, -5.8261, -5.347, -4.047, -5.558, -4.4601, -4.8945, -4.3561, -5.5579, -5.3465, -5.0236, -4.7801, -5.1852, -5.3463, -5.3471, -4.9143, -5.3605, -5.5578, -5.2274, -5.5588, -5.5041, -5.5575, -5.5578, -5.5578], \"loglift\": [30.0, 29.0, 28.0, 27.0, 26.0, 25.0, 24.0, 23.0, 22.0, 21.0, 20.0, 19.0, 18.0, 17.0, 16.0, 15.0, 14.0, 13.0, 12.0, 11.0, 10.0, 9.0, 8.0, 7.0, 6.0, 5.0, 4.0, 3.0, 2.0, 1.0, 0.983, 0.9437, 0.9265, 0.9004, 0.8994, 0.8979, 0.8651, 0.8596, 0.8596, 0.8596, 0.8596, 0.8596, 0.8596, 0.8596, 0.8596, 0.8596, 0.8596, 0.8595, 0.8595, 0.8595, 0.8594, 0.8575, 0.8575, 0.8575, 0.8575, 0.8575, 0.8575, 0.8575, 0.815, 0.7868, 0.7764, 0.7312, 0.7312, 0.7408, 0.4576, 0.4872, 0.6041, 0.6536, 0.5568, 0.7245, 0.6262, 0.7001, 0.5269, 0.5598, 0.2716, 0.3719, 0.4396, 0.4543, 0.5954, 0.3344, 0.1237, 0.6316, 0.3469, -0.1696, 0.4036, -0.0276, 0.2422, -0.1481, 0.1014, -0.3211, 0.2646, -0.2876, 0.3476, 0.0205, 0.2511, 1.1622, 1.1016, 1.1016, 1.0588, 1.0588, 1.0588, 1.0588, 1.0588, 1.0588, 1.0587, 1.0577, 1.0392, 1.0086, 0.992, 0.9826, 0.9826, 0.9826, 0.9826, 0.9826, 0.9826, 0.9826, 0.9826, 0.9826, 0.9825, 0.9825, 0.9825, 0.9825, 0.9825, 0.9825, 0.9825, 0.9372, 0.939, 0.7256, 0.8524, 0.773, 0.7935, 0.6899, 0.7403, 0.614, 0.7246, 0.7115, 0.3516, 0.7991, 0.7991, 0.4336, 0.3046, 0.2518, 0.1458, 0.053, 0.0582, 0.5147, 0.0293, 0.4561, 0.1808, 0.1773, 0.6145, 0.263, -0.0738, 0.3064, 0.2483, 0.2986, 0.4535, -0.2299, 0.1634, 0.4004, 0.1817, -0.1417, 1.6128, 1.6031, 1.5648, 1.5645, 1.5355, 1.5154, 1.4833, 1.4361, 1.4338, 1.4286, 1.4071, 1.403, 1.3909, 1.3896, 1.352, 1.352, 1.352, 1.352, 1.352, 1.352, 1.352, 1.352, 1.352, 1.352, 1.352, 1.352, 1.352, 1.352, 1.352, 1.352, 1.3323, 1.3138, 1.3311, 1.3305, 1.2922, 1.0999, 1.2038, 1.1164, 1.0594, 0.9499, 1.1195, 1.1336, 1.2225, 1.101, 0.8677, 1.2048, 0.627, 0.3662, 0.8826, 0.3516, 0.2185, 0.8651, 0.7328, 0.5275, -0.212, 0.6962, -0.0773, -0.7067, 1.5721, 1.5716, 1.5225, 1.5225, 1.5225, 1.5225, 1.5225, 1.435, 1.435, 1.435, 1.435, 1.435, 1.435, 1.435, 1.435, 1.4345, 1.4345, 1.4345, 1.4345, 1.4345, 1.4345, 1.4345, 1.4345, 1.4345, 1.4345, 1.4345, 1.4345, 1.4345, 1.4345, 1.4345, 1.3872, 1.3697, 1.3692, 1.0642, 0.9989, 1.0141, 1.1524, 0.9325, 1.1082, 1.2781, 0.3621, 1.2763, 1.2763, 1.2763, 1.2754, 1.268, 1.03, 0.3077, 1.0645, 0.3234, 0.569, 0.1723, 0.9431, 0.7551, 0.3084, -0.1168, 0.4204, 0.6338, 0.4709, -0.3039, 0.4421, 0.8161, -0.1867, 0.7182, -1.2678, -0.9788, -0.1069, 0.3393]}, \"token.table\": {\"Topic\": [1, 4, 3, 4, 2, 4, 2, 3, 4, 2, 4, 3, 2, 4, 1, 2, 4, 1, 2, 4, 1, 2, 3, 4, 1, 2, 3, 4, 3, 4, 2, 3, 4, 1, 2, 4, 1, 2, 3, 4, 2, 2, 3, 3, 4, 2, 4, 1, 2, 2, 3, 4, 1, 2, 3, 1, 1, 4, 1, 1, 2, 4, 1, 1, 2, 3, 2, 3, 2, 4, 1, 2, 4, 4, 4, 1, 3, 4, 1, 2, 1, 3, 1, 2, 4, 2, 2, 3, 4, 4, 1, 2, 3, 4, 2, 4, 1, 2, 3, 3, 2, 2, 4, 1, 2, 3, 4, 1, 2, 3, 4, 1, 3, 3, 3, 1, 2, 1, 2, 3, 2, 4, 1, 1, 3, 1, 2, 2, 3, 4, 4, 1, 2, 3, 4, 1, 2, 1, 2, 3, 2, 4, 4, 1, 2, 4, 1, 2, 2, 1, 2, 3, 1, 2, 3, 4, 3, 1, 3, 4, 2, 3, 4, 2, 3, 4, 4, 4, 1, 2, 4, 2, 4, 4, 4, 4, 2, 4, 1, 1, 1, 2, 4, 3, 2, 1, 1, 2, 4, 2, 3, 4, 3, 4, 1, 4, 1, 1, 4, 1, 3, 4, 3, 2, 4, 2, 1, 1, 3, 4, 4, 4, 3, 4, 1, 2, 3, 4, 1, 2, 3, 4, 3, 2, 3, 1, 1, 2, 4, 2, 1, 2, 1, 2, 4, 1, 2, 1, 2, 3, 4, 1, 2, 4, 2, 1, 2, 3, 4, 2, 1, 2, 3, 4, 2, 2, 1, 3, 1, 3, 1, 1, 3, 4, 3, 3, 1, 2, 3, 4, 1, 1, 1, 1, 2, 3, 4, 2, 2, 4, 1, 2, 3, 4, 1, 2, 3, 4, 3, 4, 1, 2, 3, 1, 2, 3, 4, 4, 1, 2, 4, 3, 2, 3, 4, 2, 1, 2, 1, 4, 3, 2, 3, 1, 2, 3, 2, 3, 1, 3, 4, 1, 2, 1, 1, 2, 1, 2, 4, 3, 4, 4, 1, 2, 3, 4, 1, 2, 2, 3, 4, 2, 1, 2, 3, 4, 3, 1, 2, 3, 4, 2, 1, 1, 1, 1, 2, 3, 1, 2, 4, 1, 3, 4, 2, 1, 4, 1, 2, 3, 4, 4, 4, 1, 2, 3, 1, 2, 3, 4, 1, 2, 3, 4, 3, 1, 2, 3], \"Freq\": [0.7535167887261564, 0.7190874052991643, 0.9329566285835381, 0.7190871802700547, 0.7540145683496646, 0.18850364208741616, 0.28014010114622073, 0.21010507585966554, 0.42021015171933107, 0.5759650741914986, 0.38397671612766576, 0.9329566055832319, 0.5760154748283447, 0.3840103165522298, 0.15374522854565212, 0.30749045709130424, 0.6149809141826085, 0.30997967609571936, 0.30997967609571936, 0.41330623479429246, 0.2928637196842978, 0.3068096110978358, 0.1534048055489179, 0.25102604544368384, 0.2942620552225157, 0.3678275690281446, 0.1716528655464675, 0.14713102761125785, 0.56683352343219, 0.283416761716095, 0.16539054181952692, 0.7442574381878712, 0.08269527090976346, 0.25967789399025265, 0.6491947349756316, 0.12983894699512633, 0.27048257398253045, 0.18032171598835364, 0.45080428997088406, 0.09016085799417682, 0.8714039858724841, 0.9766278060984949, 0.7030287121666643, 0.9329566088124048, 0.9516576792361656, 0.8714046776624914, 0.9516576405122971, 0.7837448317670468, 0.15674896635340937, 0.8714049600704332, 0.9329566757984432, 0.9516577203159718, 0.09945855828715994, 0.09945855828715994, 0.7956684662972795, 0.9456501993332923, 0.9456501890890305, 0.9517125030458595, 0.9456623015858192, 0.3112274459277925, 0.38903430740974065, 0.3112274459277925, 0.7533776512640746, 0.4767488273818823, 0.4370197584333921, 0.07945813789698038, 0.1746905131296622, 0.6987620525186488, 0.9766206026629749, 0.9516577370709887, 0.6818128754895012, 0.19480367871128607, 0.09740183935564303, 0.9517125914679782, 0.7190871923133958, 0.413277605423189, 0.413277605423189, 0.10331940135579724, 0.27424878601985686, 0.7313300960529515, 0.1726957727718559, 0.6907830910874236, 0.500741736981543, 0.3576726692725307, 0.1430690677090123, 0.8714098117654515, 0.738358020523537, 0.2953432082094148, 0.951657698413868, 0.951657731348561, 0.17395575576887315, 0.17395575576887315, 0.17395575576887315, 0.5218672673066195, 0.6156454592843055, 0.36938727557058326, 0.39532566313530265, 0.2635504420902018, 0.35140058945360236, 0.932956650601357, 0.9766170673296104, 0.28107164615525715, 0.5621432923105143, 0.23921093317797879, 0.5980273329449469, 0.11960546658898939, 0.11960546658898939, 0.5599738707573193, 0.3039858155539733, 0.09599552070125474, 0.04799776035062737, 0.9459014250443948, 0.932956732656095, 0.7032185713910636, 0.9449366990558006, 0.9456500161335165, 0.871404586904418, 0.6760851346950791, 0.2535319255106547, 0.08451064183688489, 0.2810716350901469, 0.5621432701802938, 0.9456500560796891, 0.945662052096792, 0.9329566418598877, 0.6986829595793005, 0.2794731838317202, 0.5782698688202633, 0.09637831147004389, 0.28913493441013166, 0.9517124976526122, 0.450692038175586, 0.4056228343580274, 0.0676038057263379, 0.0676038057263379, 0.5209528359303444, 0.44653100222600944, 0.4780584616527978, 0.4780584616527978, 0.0796764102754663, 0.23598035777095283, 0.7079410733128585, 0.9517126769425298, 0.4311893039364873, 0.3772906409444264, 0.16169598897618273, 0.8751448668333086, 0.12502069526190124, 0.8714045382405443, 0.21020683714352228, 0.10510341857176114, 0.6306205114305669, 0.23648015924531574, 0.1773601194339868, 0.5320803583019604, 0.059120039811328934, 0.9329565614363621, 0.10917421862496587, 0.6004582024373123, 0.3275226558748976, 0.17424964745694854, 0.5227489423708456, 0.17424964745694854, 0.46211307866501716, 0.15403769288833907, 0.46211307866501716, 0.8667687299531196, 0.9517124587032115, 0.40825839722007334, 0.1360861324066911, 0.5443445296267644, 0.6625129991115982, 0.22083766637053273, 0.9517125177431015, 0.951712517053595, 0.9516576873531922, 0.23596685410926568, 0.7079005623277971, 0.8924885654875865, 0.9456501516372956, 0.6054353810509241, 0.372575619108261, 0.9516576586900766, 0.9329566561564715, 0.9766185960646488, 0.9459015821204201, 0.12119121050136837, 0.6059560525068418, 0.24238242100273674, 0.8714049883589613, 0.4556279162091084, 0.4556279162091084, 0.7107612892743416, 0.1776903223185854, 0.27877505018252613, 0.5575501003650523, 0.9459014990597514, 0.4550762755130211, 0.4550762755130211, 0.7159612008813009, 0.14319224017626017, 0.14319224017626017, 0.8084419378165054, 0.28104615548887557, 0.5620923109777511, 0.8714028055279022, 0.8466745719250445, 0.6524478033293309, 0.1304895606658662, 0.2609791213317324, 0.951657682739442, 0.951657728925874, 0.7131347141456535, 0.28525388565826143, 0.22985995146917704, 0.15323996764611802, 0.38309991911529506, 0.30647993529223605, 0.05320567795672428, 0.5852624575239671, 0.3192340677403457, 0.9516576987155816, 0.9329565857295575, 0.871407593392658, 0.8459702292557855, 0.9459014483448525, 0.6818132609464294, 0.19480378884183697, 0.09740189442091848, 0.8714045299639325, 0.4913244463663628, 0.4211352397425967, 0.5619947885172988, 0.39807964186642, 0.046832899043108236, 0.5924174339102787, 0.37026089619392416, 0.19469068487752497, 0.19469068487752497, 0.5840720546325749, 0.866707441202517, 0.4532589161232575, 0.4532589161232575, 0.07554315268720958, 0.9711055678421334, 0.27654155777396733, 0.22123324621917384, 0.27654155777396733, 0.24888740199657058, 0.7795241770645396, 0.5464014914852642, 0.3642676609901761, 0.06071127683169602, 0.06071127683169602, 0.9766115312792537, 0.9767154439726833, 0.9459014362580609, 0.9329565800906625, 0.6509665838360637, 0.3254832919180318, 0.9456500495891547, 0.3152017046685234, 0.4202689395580312, 0.2101344697790156, 0.9329566283516356, 0.9479880560530823, 0.1403744929023407, 0.5614979716093628, 0.21056173935351105, 0.1403744929023407, 0.8345829295712409, 0.9456500966154647, 0.9456503853786076, 0.5008136263752266, 0.2504068131876133, 0.150244087912568, 0.10016272527504533, 0.8714048285705515, 0.2810716925704103, 0.5621433851408206, 0.32562799518334845, 0.5427133253055808, 0.10854266506111615, 0.10854266506111615, 0.2745154484337035, 0.18301029895580231, 0.2745154484337035, 0.36602059791160463, 0.7579157283490159, 0.2526385761163386, 0.16098053652377375, 0.8049026826188688, 0.9473479454361129, 0.3962155217730613, 0.3241763359961411, 0.03601959288846012, 0.23412735377499078, 0.7190872121152506, 0.9456499663267612, 0.28159345414276826, 0.5631869082855365, 0.702847326667635, 0.871405148204288, 0.5674690818812879, 0.28373454094064393, 0.779524450947978, 0.6284197117574793, 0.3142098558787397, 0.945650051989411, 0.9516576727330657, 0.932956623061059, 0.871402980440813, 0.9329566350131211, 0.07179025924540672, 0.3589512962270336, 0.5743220739632537, 0.5536658082563305, 0.39547557732595034, 0.6925427953387541, 0.34627139766937703, 0.9516577023837288, 0.7531786571071326, 0.2510595523690442, 0.9456797200050951, 0.14308970562597567, 0.8585382337558541, 0.47302812307043135, 0.06757544615291877, 0.47302812307043135, 0.6340759640926121, 0.31703798204630607, 0.95165766275298, 0.33500599472303944, 0.19143199698459398, 0.19143199698459398, 0.23928999623074246, 0.7182144946514333, 0.17955362366285832, 0.9766174571486091, 0.24025720040247234, 0.720771601207417, 0.9766170527455781, 0.32337799593498046, 0.16168899796749023, 0.08084449898374511, 0.48506699390247066, 0.9329566198188624, 0.44046755627406614, 0.18877180983174263, 0.06292393661058088, 0.2516957464423235, 0.8714030471586094, 0.7532662462019513, 0.9045634169958106, 0.9456635497476388, 0.599597983700459, 0.35975879022027546, 0.9449102286329383, 0.13565897333073165, 0.406976919992195, 0.406976919992195, 0.19859114216904372, 0.5957734265071312, 0.19859114216904372, 0.8714080817465226, 0.9459014464967807, 0.9516577113620971, 0.257124556455812, 0.257124556455812, 0.27855160282712965, 0.21427046371317668, 0.9517125212467814, 0.7190871874535539, 0.5593777329703309, 0.35596764825384697, 0.10170504235824199, 0.34887335328591795, 0.30235690618112887, 0.23258223552394527, 0.11629111776197264, 0.08230176747429616, 0.12345265121144423, 0.6995650235315173, 0.08230176747429616, 0.932956581750245, 0.9459015303129206, 0.8714066170539475, 0.9419094078045395], \"Term\": [\"-pre\\u00e7o\", \"acredito\", \"afirma\\u00e7\\u00e3o\", \"aleatoria\", \"aleatoriamente\", \"aleatoriamente\", \"aleat\\u00f3ria\", \"aleat\\u00f3ria\", \"aleat\\u00f3ria\", \"aleat\\u00f3rias\", \"aleat\\u00f3rias\", \"alfa\", \"algum\", \"algum\", \"altura\", \"altura\", \"altura\", \"aluno\", \"aluno\", \"aluno\", \"amostra\", \"amostra\", \"amostra\", \"amostra\", \"amostragem\", \"amostragem\", \"amostragem\", \"amostragem\", \"amostrais\", \"amostrais\", \"amostral\", \"amostral\", \"amostral\", \"amostras\", \"amostras\", \"amostras\", \"an\\u00e1lise\", \"an\\u00e1lise\", \"an\\u00e1lise\", \"an\\u00e1lise\", \"apresenta\", \"aproxima\", \"aproximar\", \"aproxima\\u00e7\\u00e3o\", \"arterial\", \"associa\\u00e7\\u00e3o\", \"assumem\", \"assunto\", \"assunto\", \"aula\", \"aumentos\", \"balan\\u00e7a\", \"base\", \"base\", \"base\", \"bernoulli\", \"binomial\", \"brasileiro\", \"calculada\", \"caracter\\u00edsticas\", \"caracter\\u00edsticas\", \"caracter\\u00edsticas\", \"casos\", \"central\", \"central\", \"central\", \"chamada\", \"chamada\", \"chance\", \"cigarros\", \"classe\", \"classe\", \"classe\", \"colhida\", \"comprova\\u00e7\\u00e3o\", \"confian\\u00e7a\", \"confian\\u00e7a\", \"confian\\u00e7a\", \"conhecer\", \"conhecer\", \"conhecidos\", \"conhecidos\", \"conjunto\", \"conjunto\", \"conjunto\", \"considerar\", \"consiste\", \"consiste\", \"contagens\", \"cont\\u00e1vel\", \"cont\\u00ednua\", \"cont\\u00ednua\", \"cont\\u00ednua\", \"cont\\u00ednua\", \"cont\\u00ednuas\", \"cont\\u00ednuas\", \"correla\\u00e7\\u00e3o\", \"correla\\u00e7\\u00e3o\", \"correla\\u00e7\\u00e3o\", \"correspondem\", \"crit\\u00e9rio\", \"curva\", \"curva\", \"dado\", \"dado\", \"dado\", \"dado\", \"dados\", \"dados\", \"dados\", \"dados\", \"dar\\u00e3o\", \"delas\", \"depende\", \"dependente\", \"descritiva\", \"determina\", \"diagrama\", \"diagrama\", \"diagrama\", \"diferentes\", \"diferentes\", \"dificuldade\", \"dif\\u00edcil\", \"diminui\\u00e7\\u00f5es\", \"disciplina\", \"disciplina\", \"discretas\", \"discretas\", \"discretas\", \"distinguir\", \"distribui\\u00e7\\u00e3o\", \"distribui\\u00e7\\u00e3o\", \"distribui\\u00e7\\u00e3o\", \"distribui\\u00e7\\u00e3o\", \"distribui\\u00e7\\u00e3o_frequ\\u00eancia\", \"distribui\\u00e7\\u00e3o_frequ\\u00eancia\", \"distribui\\u00e7\\u00e3o_normal\", \"distribui\\u00e7\\u00e3o_normal\", \"distribui\\u00e7\\u00e3o_normal\", \"domic\\u00edlios\", \"domic\\u00edlios\", \"eleitoreiras\", \"elementos\", \"elementos\", \"elementos\", \"entrada\", \"entrada\", \"envolve\", \"equa\\u00e7\\u00e3o\", \"equa\\u00e7\\u00e3o\", \"equa\\u00e7\\u00e3o\", \"estat\\u00edstica\", \"estat\\u00edstica\", \"estat\\u00edstica\", \"estat\\u00edstica\", \"estimador\", \"estimativa\", \"estimativa\", \"estimativa\", \"estima\\u00e7\\u00e3o\", \"estima\\u00e7\\u00e3o\", \"estima\\u00e7\\u00e3o\", \"estratificada\", \"estratificada\", \"estratificada\", \"estrato\", \"estratos\", \"exemplos\", \"exemplos\", \"exemplos\", \"existem\", \"existem\", \"extraida\", \"falando\", \"filhos\", \"finito\", \"finito\", \"for\\u00e7a\", \"fracasso\", \"frequ\\u00eancia\", \"frequ\\u00eancia\", \"fumados\", \"funcional\", \"f\\u00f3rum\", \"graficamente\", \"grupos\", \"grupos\", \"grupos\", \"gr\\u00e1fica\", \"hip\\u00f3tese\", \"hip\\u00f3tese\", \"hip\\u00f3teses\", \"hip\\u00f3teses\", \"horas\", \"horas\", \"id\\u00e9ia\", \"igual\", \"igual\", \"importante\", \"importante\", \"importante\", \"independente\", \"infinito\", \"infinito\", \"influ\\u00eancia\", \"informar\", \"informa\\u00e7\\u00f5es\", \"informa\\u00e7\\u00f5es\", \"informa\\u00e7\\u00f5es\", \"instrumento\", \"inteiros\", \"intervalar\", \"intervalar\", \"intervalo\", \"intervalo\", \"intervalo\", \"intervalo\", \"linear\", \"linear\", \"linear\", \"litro\", \"maneira\", \"maneiras\", \"matem\\u00e1tica\", \"matem\\u00e1ticos\", \"material\", \"material\", \"material\", \"medias\", \"medida\", \"medida\", \"medidas\", \"medidas\", \"medidas\", \"medidas_tend\\u00eancia\", \"medidas_tend\\u00eancia\", \"melhor\", \"melhor\", \"melhor\", \"mensur\\u00e1veis\", \"moda\", \"moda\", \"moda\", \"modelos\", \"m\\u00e9dia\", \"m\\u00e9dia\", \"m\\u00e9dia\", \"m\\u00e9dia\", \"m\\u00ednimos\", \"normal\", \"normal\", \"normal\", \"normal\", \"numero\", \"objetivos\", \"observarmos\", \"obten\\u00e7\\u00e3o\", \"obter\", \"obter\", \"organizar\", \"padr\\u00e3o\", \"padr\\u00e3o\", \"padr\\u00e3o\", \"palavra\", \"par\\u00e2metro\", \"par\\u00e2metros\", \"par\\u00e2metros\", \"par\\u00e2metros\", \"par\\u00e2metros\", \"paulo\", \"perguntas\", \"pertence\", \"pesquisa\", \"pesquisa\", \"pesquisa\", \"pesquisa\", \"pesquisados\", \"pesquisas\", \"pesquisas\", \"pessoas\", \"pessoas\", \"pessoas\", \"pessoas\", \"podemos\", \"podemos\", \"podemos\", \"podemos\", \"pontual\", \"pontual\", \"populacao\", \"populacao\", \"populacional\", \"popula\\u00e7\\u00e3o\", \"popula\\u00e7\\u00e3o\", \"popula\\u00e7\\u00e3o\", \"popula\\u00e7\\u00e3o\", \"popula\\u00e7\\u00f5es\", \"porcentagem\", \"poss\\u00edveis\", \"poss\\u00edveis\", \"preditos\", \"presente\", \"probabil\\u00edstica\", \"probabil\\u00edstica\", \"quadrados\", \"quantidade\", \"quantidade\", \"question\\u00e1rio\", \"real\", \"realiza\\u00e7\\u00e3o\", \"recomendado\", \"regi\\u00e3o\", \"regress\\u00e3o\", \"regress\\u00e3o\", \"regress\\u00e3o\", \"regress\\u00e3o_linear\", \"regress\\u00e3o_linear\", \"relacionamento\", \"relacionamento\", \"rel\\u00f3gio\", \"representar\", \"representar\", \"representatividade\", \"representa\\u00e7\\u00e3o\", \"representa\\u00e7\\u00e3o\", \"resultados\", \"resultados\", \"resultados\", \"reta\", \"reta\", \"r\\u00e9gua\", \"seja\", \"seja\", \"seja\", \"seja\", \"sejam\", \"sejam\", \"selecionado\", \"sentido\", \"sentido\", \"serem\", \"ser\\u00e1\", \"ser\\u00e1\", \"ser\\u00e1\", \"ser\\u00e1\", \"signific\\u00e2ncia\", \"simples\", \"simples\", \"simples\", \"simples\", \"sofre\", \"sucesso\", \"tabela\", \"tendenciosa\", \"tend\\u00eancia\", \"tend\\u00eancia\", \"teste\", \"tirar\", \"tirar\", \"tirar\", \"usado\", \"usado\", \"usado\", \"usando\", \"usando-se\", \"usualmente\", \"valores\", \"valores\", \"valores\", \"valores\", \"variancia\", \"variavel\", \"varia\\u00e7\\u00e3o\", \"varia\\u00e7\\u00e3o\", \"varia\\u00e7\\u00e3o\", \"vari\\u00e1veis\", \"vari\\u00e1veis\", \"vari\\u00e1veis\", \"vari\\u00e1veis\", \"vari\\u00e1vel\", \"vari\\u00e1vel\", \"vari\\u00e1vel\", \"vari\\u00e1vel\", \"verdadeiro\", \"visual\", \"\\u00f3timo\", \"\\u00fanico\"]}, \"R\": 30, \"lambda.step\": 0.01, \"plot.opts\": {\"xlab\": \"PC1\", \"ylab\": \"PC2\"}, \"topic.order\": [3, 4, 2, 1]};\n",
              "\n",
              "function LDAvis_load_lib(url, callback){\n",
              "  var s = document.createElement('script');\n",
              "  s.src = url;\n",
              "  s.async = true;\n",
              "  s.onreadystatechange = s.onload = callback;\n",
              "  s.onerror = function(){console.warn(\"failed to load library \" + url);};\n",
              "  document.getElementsByTagName(\"head\")[0].appendChild(s);\n",
              "}\n",
              "\n",
              "if(typeof(LDAvis) !== \"undefined\"){\n",
              "   // already loaded: just create the visualization\n",
              "   !function(LDAvis){\n",
              "       new LDAvis(\"#\" + \"ldavis_el70841383864437819526102592254\", ldavis_el70841383864437819526102592254_data);\n",
              "   }(LDAvis);\n",
              "}else if(typeof define === \"function\" && define.amd){\n",
              "   // require.js is available: use it to load d3/LDAvis\n",
              "   require.config({paths: {d3: \"https://d3js.org/d3.v5\"}});\n",
              "   require([\"d3\"], function(d3){\n",
              "      window.d3 = d3;\n",
              "      LDAvis_load_lib(\"https://cdn.jsdelivr.net/gh/bmabey/pyLDAvis@3.4.0/pyLDAvis/js/ldavis.v3.0.0.js\", function(){\n",
              "        new LDAvis(\"#\" + \"ldavis_el70841383864437819526102592254\", ldavis_el70841383864437819526102592254_data);\n",
              "      });\n",
              "    });\n",
              "}else{\n",
              "    // require.js not available: dynamically load d3 & LDAvis\n",
              "    LDAvis_load_lib(\"https://d3js.org/d3.v5.js\", function(){\n",
              "         LDAvis_load_lib(\"https://cdn.jsdelivr.net/gh/bmabey/pyLDAvis@3.4.0/pyLDAvis/js/ldavis.v3.0.0.js\", function(){\n",
              "                 new LDAvis(\"#\" + \"ldavis_el70841383864437819526102592254\", ldavis_el70841383864437819526102592254_data);\n",
              "            })\n",
              "         });\n",
              "}\n",
              "</script>"
            ]
          },
          "metadata": {},
          "execution_count": 35
        }
      ]
    }
  ]
}