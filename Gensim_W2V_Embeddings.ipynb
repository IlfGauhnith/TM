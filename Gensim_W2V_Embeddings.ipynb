{
  "nbformat": 4,
  "nbformat_minor": 0,
  "metadata": {
    "colab": {
      "provenance": [],
      "include_colab_link": true
    },
    "kernelspec": {
      "name": "python3",
      "display_name": "Python 3"
    }
  },
  "cells": [
    {
      "cell_type": "markdown",
      "metadata": {
        "id": "view-in-github",
        "colab_type": "text"
      },
      "source": [
        "<a href=\"https://colab.research.google.com/github/IlfGauhnith/TM/blob/main/Gensim_W2V_Embeddings.ipynb\" target=\"_parent\"><img src=\"https://colab.research.google.com/assets/colab-badge.svg\" alt=\"Open In Colab\"/></a>"
      ]
    },
    {
      "cell_type": "markdown",
      "metadata": {
        "id": "PtkkVXY3z_wY"
      },
      "source": [
        "# Treinando uma representação de Embeddings de texto com Gensim\n",
        "\n",
        "O [Word2vec](https://en.wikipedia.org/wiki/Word2vec) é uma técnica muito popular de Processamento de Linguagem Natural que usa uma rede neural para aprender as representações vetoriais de palavras chamadas \"embeddings\" em um texto específico.\n",
        "\n",
        "Neste tutorial, usaremos a excelente implementação do word2vec do pacote [gensim](https://radimrehurek.com/gensim/index.html) para criar nosso modelo word2vec. Usaremos o método de redução de dimensionalidade PCA no sklearn para visualizar os vetores de embeddings aprendidos."
      ]
    },
    {
      "cell_type": "code",
      "metadata": {
        "id": "v0EeYiui0txC"
      },
      "source": [
        "from gensim.models import Word2Vec\n",
        "import multiprocessing"
      ],
      "execution_count": null,
      "outputs": []
    },
    {
      "cell_type": "markdown",
      "metadata": {
        "id": "YYbRd85eFWpY"
      },
      "source": [
        "**Corpus**"
      ]
    },
    {
      "cell_type": "code",
      "metadata": {
        "id": "JC1qG0Am17pW"
      },
      "source": [
        "sentences = [\n",
        "      ['van', 'gogh', 'nasceu', 'numa', 'família', 'de', 'classe', 'média', 'alta'],\n",
        "      ['começou', 'a', 'desenhar', 'ainda', 'criança', 'sendo', 'descrito', 'como', 'alguém', 'sério', ',', 'quieto', 'e', 'pensativo'],\n",
        "      ['vincent', 'willem', 'van', 'gogh', 'gostava', 'de', 'desenhar', 'em', 'zundert'],\n",
        "      ['vincent', 'era', 'um', 'nome', 'comum', 'na', 'família', 'van', 'gogh'],\n",
        "      ['era', 'o', 'filho', 'mais', 'velho', 'sobrevivente', 'de', 'anna', 'cornelia', 'carbentus', 'e', 'theodorus', '.']\n",
        "\n",
        "]"
      ],
      "execution_count": null,
      "outputs": []
    },
    {
      "cell_type": "markdown",
      "metadata": {
        "id": "Cb_jOaERFZeb"
      },
      "source": [
        "## Treinando o Modelo"
      ]
    },
    {
      "cell_type": "code",
      "metadata": {
        "id": "QBtVutmA1_Km"
      },
      "source": [
        "model = Word2Vec(sentences,\n",
        "                 sg=1, #0 para CBOW\n",
        "                 vector_size=300,\n",
        "                 workers=multiprocessing.cpu_count(),\n",
        "                 epochs=5,\n",
        "                 negative=5,\n",
        "                 min_count=1)"
      ],
      "execution_count": null,
      "outputs": []
    },
    {
      "cell_type": "markdown",
      "metadata": {
        "id": "Lf7Hj1oqJGUx"
      },
      "source": [
        "**Vetor da palavra \"vincent\"**"
      ]
    },
    {
      "cell_type": "code",
      "metadata": {
        "id": "Fh_VBUstJFqA",
        "colab": {
          "base_uri": "https://localhost:8080/"
        },
        "outputId": "66de7beb-e70f-41c2-84c7-65fdd40daf47"
      },
      "source": [
        "model.wv['vincent'][0:5]"
      ],
      "execution_count": null,
      "outputs": [
        {
          "output_type": "execute_result",
          "data": {
            "text/plain": [
              "array([ 0.00325309, -0.00325579, -0.00217741,  0.00091561,  0.00214418],\n",
              "      dtype=float32)"
            ]
          },
          "metadata": {},
          "execution_count": 26
        }
      ]
    },
    {
      "cell_type": "markdown",
      "metadata": {
        "id": "eN5zjQ9nG1IS"
      },
      "source": [
        "**Armazenando todos vetores do Modelo**"
      ]
    },
    {
      "cell_type": "code",
      "metadata": {
        "id": "zpXOm2w1GoJ9"
      },
      "source": [
        "vocab = list(model.wv.key_to_index)\n",
        "x = model.wv[vocab]"
      ],
      "execution_count": null,
      "outputs": []
    },
    {
      "cell_type": "markdown",
      "metadata": {
        "id": "OeRgTbgAHY23"
      },
      "source": [
        "## Visualização\n",
        "**Redução da Dimensionalidade**"
      ]
    },
    {
      "cell_type": "code",
      "metadata": {
        "id": "HFxE4VEhHJDs"
      },
      "source": [
        "from sklearn.decomposition import PCA\n",
        "\n",
        "pca = PCA(n_components=2)\n",
        "\n",
        "dim = pca.fit_transform(x)"
      ],
      "execution_count": null,
      "outputs": []
    },
    {
      "cell_type": "markdown",
      "metadata": {
        "id": "WpPlzF2PKATa"
      },
      "source": [
        "**Plot do Modelo**"
      ]
    },
    {
      "cell_type": "code",
      "metadata": {
        "id": "sTBESLSxHv5e",
        "colab": {
          "base_uri": "https://localhost:8080/",
          "height": 1000
        },
        "outputId": "467f862f-ceba-4b04-f37e-a3a07e97c8c4"
      },
      "source": [
        "from matplotlib import pyplot as plt\n",
        "\n",
        "plt.figure(figsize=(15,15))\n",
        "plt.scatter(dim[:, 0], dim[:, 1])\n",
        "\n",
        "words = list(vocab)\n",
        "for i, word in enumerate(words):\n",
        "\tplt.annotate(word, xy=(dim[i, 0], dim[i, 1]))\n",
        "plt.show()"
      ],
      "execution_count": null,
      "outputs": [
        {
          "output_type": "display_data",
          "data": {
            "text/plain": [
              "<Figure size 1500x1500 with 1 Axes>"
            ],
            "image/png": "[encoded data removed]"
          },
          "metadata": {}
        }
      ]
    },
    {
      "cell_type": "markdown",
      "metadata": {
        "id": "-nxZltY5Fj4w"
      },
      "source": [
        "**Salvando os embeddings gerados**"
      ]
    },
    {
      "cell_type": "code",
      "metadata": {
        "id": "lLVWSVaG2TtP"
      },
      "source": [
        "model.save('model.bin') # Salvando o modelo\n",
        "\n",
        "model.wv.save_word2vec_format(\"model_skpg_300d.txt\") # Salvando os vetores"
      ],
      "execution_count": null,
      "outputs": []
    },
    {
      "cell_type": "markdown",
      "metadata": {
        "id": "eSuTBYegFof5"
      },
      "source": [
        "**Carregando Modelo .bin**"
      ]
    },
    {
      "cell_type": "code",
      "metadata": {
        "id": "QTCTGzBO2YDu",
        "colab": {
          "base_uri": "https://localhost:8080/"
        },
        "outputId": "59be8d28-2f51-4fb6-d07f-469b3ca24a66"
      },
      "source": [
        "model_bin = Word2Vec.load('model.bin')\n",
        "\n",
        "model_bin.wv['gogh'][0:5]"
      ],
      "execution_count": null,
      "outputs": [
        {
          "output_type": "execute_result",
          "data": {
            "text/plain": [
              "array([-2.7457548e-03,  3.1016585e-03, -6.7233981e-05, -6.5685116e-04,\n",
              "        1.5323762e-03], dtype=float32)"
            ]
          },
          "metadata": {},
          "execution_count": 48
        }
      ]
    },
    {
      "cell_type": "markdown",
      "metadata": {
        "id": "e9-nJS_KIxvA"
      },
      "source": [
        "**Carregando Modelo .txt**"
      ]
    },
    {
      "cell_type": "code",
      "metadata": {
        "id": "wWXRsHNPItfU",
        "colab": {
          "base_uri": "https://localhost:8080/"
        },
        "outputId": "40a734d3-1ed9-4974-9c36-fa4a35416bb8"
      },
      "source": [
        "from gensim.models import KeyedVectors\n",
        "\n",
        "model_txt = KeyedVectors.load_word2vec_format('model_skpg_300d.txt')\n",
        "\n",
        "model_txt['gogh'][0:5]"
      ],
      "execution_count": null,
      "outputs": [
        {
          "output_type": "execute_result",
          "data": {
            "text/plain": [
              "array([-2.7457548e-03,  3.1016585e-03, -6.7233981e-05, -6.5685116e-04,\n",
              "        1.5323762e-03], dtype=float32)"
            ]
          },
          "metadata": {},
          "execution_count": 49
        }
      ]
    },
    {
      "cell_type": "code",
      "metadata": {
        "id": "__OocQBx_loq",
        "colab": {
          "base_uri": "https://localhost:8080/"
        },
        "outputId": "d4f5408d-21ee-4e59-ddc3-6df116cc6207"
      },
      "source": [
        "model_txt.most_similar('gogh')"
      ],
      "execution_count": null,
      "outputs": [
        {
          "output_type": "execute_result",
          "data": {
            "text/plain": [
              "[('em', 0.11313171684741974),\n",
              " ('nasceu', 0.11211325973272324),\n",
              " ('ainda', 0.09804779291152954),\n",
              " ('descrito', 0.08316386491060257),\n",
              " ('começou', 0.0536402128636837),\n",
              " ('alguém', 0.05221336707472801),\n",
              " ('sobrevivente', 0.05052947998046875),\n",
              " ('pensativo', 0.05023965239524841),\n",
              " ('cornelia', 0.04099147394299507),\n",
              " ('família', 0.03994220495223999)]"
            ]
          },
          "metadata": {},
          "execution_count": 50
        }
      ]
    },
    {
      "cell_type": "markdown",
      "metadata": {
        "id": "X0NQ2-9nED9I"
      },
      "source": [
        "## Visualizando no tensorboard\n",
        "\n",
        "Execute a celula abaixo, e carregue os arquivos gerados no http://projector.tensorflow.org/"
      ]
    },
    {
      "cell_type": "code",
      "metadata": {
        "id": "zjPTYqquDMgw"
      },
      "source": [
        "import io\n",
        "\n",
        "# Vector file, `\\t` seperated the vectors and `\\n` seperate the words\n",
        "\"\"\"\n",
        "0.1\\t0.2\\t0.5\\t0.9\n",
        "0.2\\t0.1\\t5.0\\t0.2\n",
        "0.4\\t0.1\\t7.0\\t0.8\n",
        "\"\"\"\n",
        "out_v = io.open('vecs.tsv', 'w', encoding='utf-8')\n",
        "\n",
        "# Meta data file, `\\n` seperated word\n",
        "\"\"\"\n",
        "token1\n",
        "token2\n",
        "token3\n",
        "\"\"\"\n",
        "out_m = io.open('meta.tsv', 'w', encoding='utf-8')\n",
        "\n",
        "# Write meta file and vector file\n",
        "for index in range(len(model_txt.index_to_key)):\n",
        "    word = model_txt.index_to_key[index]\n",
        "    vec = model_txt.vectors[index]\n",
        "    out_m.write(word + \"\\n\")\n",
        "    out_v.write(''.join([str(x) for x in vec]) + \"\\n\")\n",
        "out_v.close()\n",
        "out_m.close()"
      ],
      "execution_count": null,
      "outputs": []
    },
    {
      "cell_type": "markdown",
      "metadata": {
        "id": "8Zky8ewHdJ0k"
      },
      "source": [
        "# Exemplo: Embeddings de textos de Machado de Assis\n",
        "Vamos utilizar o Word2Vec para produzir uma representação vetorial e visualização das palavras de textos de um corpus do livro de Memórias Póstumas de Brás Cubas, no corpus do NLTK"
      ]
    },
    {
      "cell_type": "code",
      "metadata": {
        "id": "M6FRtWFddV3x",
        "outputId": "a50d9653-1f17-4066-f63e-577496f5e05f",
        "colab": {
          "base_uri": "https://localhost:8080/",
          "height": 445
        }
      },
      "source": [
        "import nltk\n",
        "nltk.download('punkt')\n",
        "nltk.download('machado')\n",
        "\n",
        "from nltk.corpus.machado import machado\n",
        "\n",
        "print(machado.readme())"
      ],
      "execution_count": null,
      "outputs": [
        {
          "output_type": "stream",
          "name": "stderr",
          "text": [
            "[nltk_data] Downloading package punkt to /root/nltk_data...\n",
            "[nltk_data]   Unzipping tokenizers/punkt.zip.\n",
            "[nltk_data] Downloading package machado to /root/nltk_data...\n"
          ]
        },
        {
          "output_type": "error",
          "ename": "ModuleNotFoundError",
          "evalue": "ignored",
          "traceback": [
            "\u001b[0;31m---------------------------------------------------------------------------\u001b[0m",
            "\u001b[0;31mModuleNotFoundError\u001b[0m                       Traceback (most recent call last)",
            "\u001b[0;32m<ipython-input-56-d291668f6c5b>\u001b[0m in \u001b[0;36m<cell line: 5>\u001b[0;34m()\u001b[0m\n\u001b[1;32m      3\u001b[0m \u001b[0mnltk\u001b[0m\u001b[0;34m.\u001b[0m\u001b[0mdownload\u001b[0m\u001b[0;34m(\u001b[0m\u001b[0;34m'machado'\u001b[0m\u001b[0;34m)\u001b[0m\u001b[0;34m\u001b[0m\u001b[0;34m\u001b[0m\u001b[0m\n\u001b[1;32m      4\u001b[0m \u001b[0;34m\u001b[0m\u001b[0m\n\u001b[0;32m----> 5\u001b[0;31m \u001b[0;32mfrom\u001b[0m \u001b[0mnltk\u001b[0m\u001b[0;34m.\u001b[0m\u001b[0mcorpus\u001b[0m\u001b[0;34m.\u001b[0m\u001b[0mmachado\u001b[0m \u001b[0;32mimport\u001b[0m \u001b[0mmachado\u001b[0m\u001b[0;34m\u001b[0m\u001b[0;34m\u001b[0m\u001b[0m\n\u001b[0m\u001b[1;32m      6\u001b[0m \u001b[0;34m\u001b[0m\u001b[0m\n\u001b[1;32m      7\u001b[0m \u001b[0mprint\u001b[0m\u001b[0;34m(\u001b[0m\u001b[0mmachado\u001b[0m\u001b[0;34m.\u001b[0m\u001b[0mreadme\u001b[0m\u001b[0;34m(\u001b[0m\u001b[0;34m)\u001b[0m\u001b[0;34m)\u001b[0m\u001b[0;34m\u001b[0m\u001b[0;34m\u001b[0m\u001b[0m\n",
            "\u001b[0;31mModuleNotFoundError\u001b[0m: No module named 'nltk.corpus.machado'",
            "",
            "\u001b[0;31m---------------------------------------------------------------------------\u001b[0;32m\nNOTE: If your import is failing due to a missing package, you can\nmanually install dependencies using either !pip or !apt.\n\nTo view examples of installing some common dependencies, click the\n\"Open Examples\" button below.\n\u001b[0;31m---------------------------------------------------------------------------\u001b[0m\n"
          ],
          "errorDetails": {
            "actions": [
              {
                "action": "open_url",
                "actionText": "Open Examples",
                "url": "/notebooks/snippets/importing_libraries.ipynb"
              }
            ]
          }
        }
      ]
    },
    {
      "cell_type": "code",
      "metadata": {
        "id": "0OukKXNZd4wG"
      },
      "source": [
        "import numpy as np\n",
        "import os\n",
        "from nltk.corpus import machado\n",
        "import unicodedata\n",
        "\n",
        "# Remove acentos e coloca palavras em minúsculas\n",
        "def strip_accents_and_lower(s):\n",
        "    return ''.join(c for c in unicodedata.normalize('NFD', s) if unicodedata.category(c) != 'Mn').lower()\n",
        "\n",
        "machado_sents = map(lambda sent: list(map(strip_accents_and_lower, sent)), machado.sents())\n",
        "\n",
        "# 'Executa' o mapeamento da lista\n",
        "%time machado_sents = list(machado_sents)"
      ],
      "execution_count": null,
      "outputs": []
    },
    {
      "cell_type": "markdown",
      "metadata": {
        "id": "w8v14G7Sgfb0"
      },
      "source": [
        "Utilize as sentenças da variável `machado_sents` para treinar e visualizar o embedding produzido"
      ]
    },
    {
      "cell_type": "code",
      "metadata": {
        "id": "hF5abpxPd9aw"
      },
      "source": [
        "model_machado = Word2Vec(machado_sents,\n",
        "                 sg=1, #0 para CBOW\n",
        "                 size=300,\n",
        "                 workers=multiprocessing.cpu_count(),\n",
        "                 iter=5,\n",
        "                 negative=5,\n",
        "                 min_count=1)"
      ],
      "execution_count": null,
      "outputs": []
    },
    {
      "cell_type": "markdown",
      "metadata": {
        "id": "sB22bK3NgxYS"
      },
      "source": [
        "Exiba as palavras mais próximas da lista abaixo"
      ]
    },
    {
      "cell_type": "code",
      "metadata": {
        "id": "DCDllE-ug1kf"
      },
      "source": [
        "# Exibe algumas palavras próximas daquelas contidas nesta lista\n",
        "test_words = ['seja', 'foi', 'amou', 'aquele', 'foram', 'homem', 'rua', 'marcela']\n",
        "\n",
        "# Embedding de uma palavra\n",
        "def word_embedding(word):\n",
        "    return model_machado.wv[word]\n",
        "\n",
        "# Pega apenas as palavras a partir do resultado da função 'most_similar'\n",
        "def strip_score(result):\n",
        "    return [w for w, s in result]\n",
        "\n",
        "# Lista as palavras mais próximas\n",
        "def closest_words(word, num=5):\n",
        "    word_score_pair = model_machado.wv.most_similar(word, topn=num)\n",
        "    return strip_score(word_score_pair)\n",
        "\n",
        "for w in test_words:\n",
        "    print(w, closest_words(w))"
      ],
      "execution_count": null,
      "outputs": []
    },
    {
      "cell_type": "code",
      "metadata": {
        "id": "nHF2oiMfNMs0"
      },
      "source": [],
      "execution_count": null,
      "outputs": []
    }
  ]
}