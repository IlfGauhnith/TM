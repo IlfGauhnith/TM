{
  "cells": [
    {
      "cell_type": "markdown",
      "metadata": {
        "id": "freIdhjgnLzQ"
      },
      "source": [
        "## Adaptando dataset ao Flair\n",
        "O Flair recebe o dataset dividido em train, test e dev para treinar o modelo. Portanto inicialmente tratarei o dataset para adequá-lo ao Flair.\n",
        "As células abaixo embaralham, dividem e salvam o dataset em arquivos txt.\n",
        "\n",
        "A implementação busca o dataset montando o Google Drive. Para mudar o caminho do arquivo em seu drive atualize a variável DATASET_GDRIVE_PATH."
      ]
    },
    {
      "cell_type": "code",
      "execution_count": 1,
      "metadata": {},
      "outputs": [
        {
          "name": "stdout",
          "output_type": "stream",
          "text": [
            "Requirement already satisfied: pandas in c:\\users\\lucas\\onedrive\\área de trabalho\\tm\\.venv\\lib\\site-packages (2.0.3)Note: you may need to restart the kernel to use updated packages.\n",
            "\n",
            "Requirement already satisfied: numpy in c:\\users\\lucas\\onedrive\\área de trabalho\\tm\\.venv\\lib\\site-packages (1.25.1)\n",
            "Requirement already satisfied: python-dateutil>=2.8.2 in c:\\users\\lucas\\onedrive\\área de trabalho\\tm\\.venv\\lib\\site-packages (from pandas) (2.8.2)\n",
            "Requirement already satisfied: pytz>=2020.1 in c:\\users\\lucas\\onedrive\\área de trabalho\\tm\\.venv\\lib\\site-packages (from pandas) (2023.3)\n",
            "Requirement already satisfied: tzdata>=2022.1 in c:\\users\\lucas\\onedrive\\área de trabalho\\tm\\.venv\\lib\\site-packages (from pandas) (2023.3)\n",
            "Requirement already satisfied: six>=1.5 in c:\\users\\lucas\\onedrive\\área de trabalho\\tm\\.venv\\lib\\site-packages (from python-dateutil>=2.8.2->pandas) (1.16.0)\n"
          ]
        }
      ],
      "source": [
        "pip install pandas numpy"
      ]
    },
    {
      "cell_type": "code",
      "execution_count": 2,
      "metadata": {
        "id": "iAoTKycgoXi-"
      },
      "outputs": [],
      "source": [
        "import pandas as pd\n",
        "import numpy as np\n",
        "import random"
      ]
    },
    {
      "cell_type": "code",
      "execution_count": 3,
      "metadata": {
        "colab": {
          "base_uri": "https://localhost:8080/"
        },
        "id": "ZelmWLi7pl9Y",
        "outputId": "94653b04-4361-48a3-8612-38c7058919e8"
      },
      "outputs": [],
      "source": [
        "df = pd.read_csv('./ner_dataset.csv', encoding='Latin-1')\n",
        "df = df.fillna(method='ffill') # Preenche as colunas NA com a informação da célula acima\n",
        "df = df.set_index('Sentence #', append=True)"
      ]
    },
    {
      "cell_type": "code",
      "execution_count": 4,
      "metadata": {
        "id": "iUhj7PlMf6Et"
      },
      "outputs": [],
      "source": [
        "# Embaralha o dataset mantendendo a estrutura das sentenças intactas. \n",
        "def shuffle_preserving_sentences(df):\n",
        "  sentence_groupby = df.groupby('Sentence #') # Agrupa por sentença\n",
        "\n",
        "  sentences_shuffled = list(sentence_groupby.groups.keys()) # Lista das chaves de cada grupo \n",
        "  random.shuffle(sentences_shuffled) # Embaralha as chaves\n",
        "\n",
        "  # Cria e preenche uma lista com os dataframes de cada sentença. \n",
        "  shuffled_dfs = []\n",
        "  for sentence_n in sentences_shuffled:\n",
        "    shuffled_dfs.append(sentence_groupby.get_group(sentence_n))\n",
        "\n",
        "  return shuffled_dfs"
      ]
    },
    {
      "cell_type": "code",
      "execution_count": 5,
      "metadata": {
        "id": "NcGZrchpno49"
      },
      "outputs": [],
      "source": [
        "def write_sentences_to_file(groupby, file):\n",
        "  for _, group in groupby:\n",
        "    group.to_csv(file, index=False, header=False, sep=' ', encoding='Latin-1', lineterminator='\\n')\n",
        "    file.write('\\n')\n"
      ]
    },
    {
      "cell_type": "code",
      "execution_count": 6,
      "metadata": {
        "id": "8TucbVespaz-"
      },
      "outputs": [],
      "source": [
        "def split_dataset(df, train_ratio, test_ratio):\n",
        "  sentences_dfs = shuffle_preserving_sentences(df)\n",
        "\n",
        "  total_size = len(sentences_dfs)\n",
        "  train_size = int(total_size * train_ratio)\n",
        "  test_size = int(total_size * test_ratio)\n",
        "\n",
        "  train_data = pd.concat(sentences_dfs[:train_size])\n",
        "  test_data = pd.concat(sentences_dfs[train_size:train_size + test_size])\n",
        "  dev_data = pd.concat(sentences_dfs[train_size + test_size:])\n",
        "\n",
        "  return train_data, test_data, dev_data\n"
      ]
    },
    {
      "cell_type": "code",
      "execution_count": 7,
      "metadata": {
        "id": "_WJRziuwmySm"
      },
      "outputs": [],
      "source": [
        "train_ratio = 0.8\n",
        "test_ratio = 0.1\n",
        "train_df, test_df, dev_df = split_dataset(df, train_ratio, test_ratio)\n",
        "\n",
        "with open('./train.txt', 'w', encoding='Latin-1') as f:\n",
        "  train_df_groupby = train_df.groupby('Sentence #')\n",
        "  write_sentences_to_file(train_df_groupby, f)\n",
        "\n",
        "with open('./test.txt', 'w', encoding='Latin-1') as f:\n",
        "  test_df_groupby = test_df.groupby('Sentence #')\n",
        "  write_sentences_to_file(test_df_groupby, f)\n",
        "\n",
        "with open('./dev.txt', 'w', encoding='Latin-1') as f:\n",
        "  dev_df_groupby = dev_df.groupby('Sentence #')\n",
        "  write_sentences_to_file(dev_df_groupby, f)"
      ]
    },
    {
      "cell_type": "markdown",
      "metadata": {
        "id": "_oaGdQmSvWx9"
      },
      "source": [
        "## Carregando dataset"
      ]
    },
    {
      "cell_type": "code",
      "execution_count": 8,
      "metadata": {
        "id": "2Vrf0fyew5qG"
      },
      "outputs": [
        {
          "name": "stdout",
          "output_type": "stream",
          "text": [
            "Requirement already satisfied: flair in c:\\users\\lucas\\onedrive\\área de trabalho\\tm\\.venv\\lib\\site-packages (0.12.2)\n",
            "Requirement already satisfied: python-dateutil>=2.6.1 in c:\\users\\lucas\\onedrive\\área de trabalho\\tm\\.venv\\lib\\site-packages (from flair) (2.8.2)\n",
            "Requirement already satisfied: torch!=1.8,>=1.5.0 in c:\\users\\lucas\\onedrive\\área de trabalho\\tm\\.venv\\lib\\site-packages (from flair) (2.0.1+cu118)\n",
            "Requirement already satisfied: gensim>=3.8.0 in c:\\users\\lucas\\onedrive\\área de trabalho\\tm\\.venv\\lib\\site-packages (from flair) (4.3.1)\n",
            "Requirement already satisfied: tqdm>=4.26.0 in c:\\users\\lucas\\onedrive\\área de trabalho\\tm\\.venv\\lib\\site-packages (from flair) (4.65.0)\n",
            "Requirement already satisfied: segtok>=1.5.7 in c:\\users\\lucas\\onedrive\\área de trabalho\\tm\\.venv\\lib\\site-packages (from flair) (1.5.11)\n",
            "Requirement already satisfied: matplotlib>=2.2.3 in c:\\users\\lucas\\onedrive\\área de trabalho\\tm\\.venv\\lib\\site-packages (from flair) (3.7.2)\n",
            "Requirement already satisfied: mpld3==0.3 in c:\\users\\lucas\\onedrive\\área de trabalho\\tm\\.venv\\lib\\site-packages (from flair) (0.3)\n",
            "Requirement already satisfied: scikit-learn>=0.21.3 in c:\\users\\lucas\\onedrive\\área de trabalho\\tm\\.venv\\lib\\site-packages (from flair) (1.3.0)\n",
            "Requirement already satisfied: sqlitedict>=1.6.0 in c:\\users\\lucas\\onedrive\\área de trabalho\\tm\\.venv\\lib\\site-packages (from flair) (2.1.0)\n",
            "Requirement already satisfied: deprecated>=1.2.4 in c:\\users\\lucas\\onedrive\\área de trabalho\\tm\\.venv\\lib\\site-packages (from flair) (1.2.14)\n",
            "Requirement already satisfied: hyperopt>=0.2.7 in c:\\users\\lucas\\onedrive\\área de trabalho\\tm\\.venv\\lib\\site-packages (from flair) (0.2.7)\n",
            "Requirement already satisfied: boto3 in c:\\users\\lucas\\onedrive\\área de trabalho\\tm\\.venv\\lib\\site-packages (from flair) (1.28.15)\n",
            "Requirement already satisfied: transformers[sentencepiece]>=4.18.0 in c:\\users\\lucas\\onedrive\\área de trabalho\\tm\\.venv\\lib\\site-packages (from flair) (4.31.0)\n",
            "Requirement already satisfied: bpemb>=0.3.2 in c:\\users\\lucas\\onedrive\\área de trabalho\\tm\\.venv\\lib\\site-packages (from flair) (0.3.4)\n",
            "Requirement already satisfied: regex in c:\\users\\lucas\\onedrive\\área de trabalho\\tm\\.venv\\lib\\site-packages (from flair) (2023.6.3)\n",
            "Requirement already satisfied: tabulate in c:\\users\\lucas\\onedrive\\área de trabalho\\tm\\.venv\\lib\\site-packages (from flair) (0.9.0)\n",
            "Requirement already satisfied: langdetect in c:\\users\\lucas\\onedrive\\área de trabalho\\tm\\.venv\\lib\\site-packages (from flair) (1.0.9)\n",
            "Requirement already satisfied: lxml in c:\\users\\lucas\\onedrive\\área de trabalho\\tm\\.venv\\lib\\site-packages (from flair) (4.9.3)\n",
            "Requirement already satisfied: ftfy in c:\\users\\lucas\\onedrive\\área de trabalho\\tm\\.venv\\lib\\site-packages (from flair) (6.1.1)\n",
            "Requirement already satisfied: janome in c:\\users\\lucas\\onedrive\\área de trabalho\\tm\\.venv\\lib\\site-packages (from flair) (0.5.0)\n",
            "Requirement already satisfied: gdown==4.4.0 in c:\\users\\lucas\\onedrive\\área de trabalho\\tm\\.venv\\lib\\site-packages (from flair) (4.4.0)\n",
            "Requirement already satisfied: huggingface-hub>=0.10.0 in c:\\users\\lucas\\onedrive\\área de trabalho\\tm\\.venv\\lib\\site-packages (from flair) (0.16.4)\n",
            "Requirement already satisfied: conllu>=4.0 in c:\\users\\lucas\\onedrive\\área de trabalho\\tm\\.venv\\lib\\site-packages (from flair) (4.5.3)\n",
            "Requirement already satisfied: more-itertools in c:\\users\\lucas\\onedrive\\área de trabalho\\tm\\.venv\\lib\\site-packages (from flair) (10.0.0)\n",
            "Requirement already satisfied: wikipedia-api in c:\\users\\lucas\\onedrive\\área de trabalho\\tm\\.venv\\lib\\site-packages (from flair) (0.6.0)\n",
            "Requirement already satisfied: pptree in c:\\users\\lucas\\onedrive\\área de trabalho\\tm\\.venv\\lib\\site-packages (from flair) (3.1)\n",
            "Requirement already satisfied: pytorch-revgrad in c:\\users\\lucas\\onedrive\\área de trabalho\\tm\\.venv\\lib\\site-packages (from flair) (0.2.0)\n",
            "Requirement already satisfied: transformer-smaller-training-vocab>=0.2.1 in c:\\users\\lucas\\onedrive\\área de trabalho\\tm\\.venv\\lib\\site-packages (from flair) (0.2.4)\n",
            "Requirement already satisfied: filelock in c:\\users\\lucas\\onedrive\\área de trabalho\\tm\\.venv\\lib\\site-packages (from gdown==4.4.0->flair) (3.9.0)\n",
            "Requirement already satisfied: requests[socks] in c:\\users\\lucas\\onedrive\\área de trabalho\\tm\\.venv\\lib\\site-packages (from gdown==4.4.0->flair) (2.28.1)\n",
            "Requirement already satisfied: six in c:\\users\\lucas\\onedrive\\área de trabalho\\tm\\.venv\\lib\\site-packages (from gdown==4.4.0->flair) (1.16.0)\n",
            "Requirement already satisfied: beautifulsoup4 in c:\\users\\lucas\\onedrive\\área de trabalho\\tm\\.venv\\lib\\site-packages (from gdown==4.4.0->flair) (4.12.2)\n",
            "Requirement already satisfied: numpy in c:\\users\\lucas\\onedrive\\área de trabalho\\tm\\.venv\\lib\\site-packages (from bpemb>=0.3.2->flair) (1.25.1)\n",
            "Requirement already satisfied: sentencepiece in c:\\users\\lucas\\onedrive\\área de trabalho\\tm\\.venv\\lib\\site-packages (from bpemb>=0.3.2->flair) (0.1.99)\n",
            "Requirement already satisfied: wrapt<2,>=1.10 in c:\\users\\lucas\\onedrive\\área de trabalho\\tm\\.venv\\lib\\site-packages (from deprecated>=1.2.4->flair) (1.15.0)\n",
            "Requirement already satisfied: scipy>=1.7.0 in c:\\users\\lucas\\onedrive\\área de trabalho\\tm\\.venv\\lib\\site-packages (from gensim>=3.8.0->flair) (1.11.1)\n",
            "Requirement already satisfied: smart-open>=1.8.1 in c:\\users\\lucas\\onedrive\\área de trabalho\\tm\\.venv\\lib\\site-packages (from gensim>=3.8.0->flair) (6.3.0)\n",
            "Requirement already satisfied: fsspec in c:\\users\\lucas\\onedrive\\área de trabalho\\tm\\.venv\\lib\\site-packages (from huggingface-hub>=0.10.0->flair) (2023.6.0)\n",
            "Requirement already satisfied: pyyaml>=5.1 in c:\\users\\lucas\\onedrive\\área de trabalho\\tm\\.venv\\lib\\site-packages (from huggingface-hub>=0.10.0->flair) (6.0.1)\n",
            "Requirement already satisfied: typing-extensions>=3.7.4.3 in c:\\users\\lucas\\onedrive\\área de trabalho\\tm\\.venv\\lib\\site-packages (from huggingface-hub>=0.10.0->flair) (4.7.1)\n",
            "Requirement already satisfied: packaging>=20.9 in c:\\users\\lucas\\onedrive\\área de trabalho\\tm\\.venv\\lib\\site-packages (from huggingface-hub>=0.10.0->flair) (23.1)\n",
            "Requirement already satisfied: networkx>=2.2 in c:\\users\\lucas\\onedrive\\área de trabalho\\tm\\.venv\\lib\\site-packages (from hyperopt>=0.2.7->flair) (3.0)\n",
            "Requirement already satisfied: future in c:\\users\\lucas\\onedrive\\área de trabalho\\tm\\.venv\\lib\\site-packages (from hyperopt>=0.2.7->flair) (0.18.3)\n",
            "Requirement already satisfied: cloudpickle in c:\\users\\lucas\\onedrive\\área de trabalho\\tm\\.venv\\lib\\site-packages (from hyperopt>=0.2.7->flair) (2.2.1)\n",
            "Requirement already satisfied: py4j in c:\\users\\lucas\\onedrive\\área de trabalho\\tm\\.venv\\lib\\site-packages (from hyperopt>=0.2.7->flair) (0.10.9.7)\n",
            "Requirement already satisfied: contourpy>=1.0.1 in c:\\users\\lucas\\onedrive\\área de trabalho\\tm\\.venv\\lib\\site-packages (from matplotlib>=2.2.3->flair) (1.1.0)\n",
            "Requirement already satisfied: cycler>=0.10 in c:\\users\\lucas\\onedrive\\área de trabalho\\tm\\.venv\\lib\\site-packages (from matplotlib>=2.2.3->flair) (0.11.0)\n",
            "Requirement already satisfied: fonttools>=4.22.0 in c:\\users\\lucas\\onedrive\\área de trabalho\\tm\\.venv\\lib\\site-packages (from matplotlib>=2.2.3->flair) (4.41.1)\n",
            "Requirement already satisfied: kiwisolver>=1.0.1 in c:\\users\\lucas\\onedrive\\área de trabalho\\tm\\.venv\\lib\\site-packages (from matplotlib>=2.2.3->flair) (1.4.4)\n",
            "Requirement already satisfied: pillow>=6.2.0 in c:\\users\\lucas\\onedrive\\área de trabalho\\tm\\.venv\\lib\\site-packages (from matplotlib>=2.2.3->flair) (9.3.0)\n",
            "Requirement already satisfied: pyparsing<3.1,>=2.3.1 in c:\\users\\lucas\\onedrive\\área de trabalho\\tm\\.venv\\lib\\site-packages (from matplotlib>=2.2.3->flair) (3.0.9)\n",
            "Requirement already satisfied: importlib-resources>=3.2.0 in c:\\users\\lucas\\onedrive\\área de trabalho\\tm\\.venv\\lib\\site-packages (from matplotlib>=2.2.3->flair) (6.0.0)\n",
            "Requirement already satisfied: joblib>=1.1.1 in c:\\users\\lucas\\onedrive\\área de trabalho\\tm\\.venv\\lib\\site-packages (from scikit-learn>=0.21.3->flair) (1.3.1)\n",
            "Requirement already satisfied: threadpoolctl>=2.0.0 in c:\\users\\lucas\\onedrive\\área de trabalho\\tm\\.venv\\lib\\site-packages (from scikit-learn>=0.21.3->flair) (3.2.0)\n",
            "Requirement already satisfied: sympy in c:\\users\\lucas\\onedrive\\área de trabalho\\tm\\.venv\\lib\\site-packages (from torch!=1.8,>=1.5.0->flair) (1.11.1)\n",
            "Requirement already satisfied: jinja2 in c:\\users\\lucas\\onedrive\\área de trabalho\\tm\\.venv\\lib\\site-packages (from torch!=1.8,>=1.5.0->flair) (3.1.2)\n",
            "Requirement already satisfied: colorama in c:\\users\\lucas\\onedrive\\área de trabalho\\tm\\.venv\\lib\\site-packages (from tqdm>=4.26.0->flair) (0.4.6)\n",
            "Requirement already satisfied: datasets<3.0.0,>=2.0.0 in c:\\users\\lucas\\onedrive\\área de trabalho\\tm\\.venv\\lib\\site-packages (from transformer-smaller-training-vocab>=0.2.1->flair) (2.14.1)\n",
            "Requirement already satisfied: tokenizers!=0.11.3,<0.14,>=0.11.1 in c:\\users\\lucas\\onedrive\\área de trabalho\\tm\\.venv\\lib\\site-packages (from transformers[sentencepiece]>=4.18.0->flair) (0.13.3)\n",
            "Requirement already satisfied: safetensors>=0.3.1 in c:\\users\\lucas\\onedrive\\área de trabalho\\tm\\.venv\\lib\\site-packages (from transformers[sentencepiece]>=4.18.0->flair) (0.3.1)\n",
            "Requirement already satisfied: protobuf in c:\\users\\lucas\\onedrive\\área de trabalho\\tm\\.venv\\lib\\site-packages (from transformers[sentencepiece]>=4.18.0->flair) (4.23.4)\n",
            "Requirement already satisfied: botocore<1.32.0,>=1.31.15 in c:\\users\\lucas\\onedrive\\área de trabalho\\tm\\.venv\\lib\\site-packages (from boto3->flair) (1.31.15)\n",
            "Requirement already satisfied: jmespath<2.0.0,>=0.7.1 in c:\\users\\lucas\\onedrive\\área de trabalho\\tm\\.venv\\lib\\site-packages (from boto3->flair) (1.0.1)\n",
            "Requirement already satisfied: s3transfer<0.7.0,>=0.6.0 in c:\\users\\lucas\\onedrive\\área de trabalho\\tm\\.venv\\lib\\site-packages (from boto3->flair) (0.6.1)\n",
            "Requirement already satisfied: wcwidth>=0.2.5 in c:\\users\\lucas\\onedrive\\área de trabalho\\tm\\.venv\\lib\\site-packages (from ftfy->flair) (0.2.6)\n",
            "Requirement already satisfied: urllib3<1.27,>=1.25.4 in c:\\users\\lucas\\onedrive\\área de trabalho\\tm\\.venv\\lib\\site-packages (from botocore<1.32.0,>=1.31.15->boto3->flair) (1.26.13)\n",
            "Requirement already satisfied: pyarrow>=8.0.0 in c:\\users\\lucas\\onedrive\\área de trabalho\\tm\\.venv\\lib\\site-packages (from datasets<3.0.0,>=2.0.0->transformer-smaller-training-vocab>=0.2.1->flair) (12.0.1)\n",
            "Requirement already satisfied: dill<0.3.8,>=0.3.0 in c:\\users\\lucas\\onedrive\\área de trabalho\\tm\\.venv\\lib\\site-packages (from datasets<3.0.0,>=2.0.0->transformer-smaller-training-vocab>=0.2.1->flair) (0.3.7)\n",
            "Requirement already satisfied: pandas in c:\\users\\lucas\\onedrive\\área de trabalho\\tm\\.venv\\lib\\site-packages (from datasets<3.0.0,>=2.0.0->transformer-smaller-training-vocab>=0.2.1->flair) (2.0.3)\n",
            "Requirement already satisfied: xxhash in c:\\users\\lucas\\onedrive\\área de trabalho\\tm\\.venv\\lib\\site-packages (from datasets<3.0.0,>=2.0.0->transformer-smaller-training-vocab>=0.2.1->flair) (3.3.0)\n",
            "Requirement already satisfied: multiprocess in c:\\users\\lucas\\onedrive\\área de trabalho\\tm\\.venv\\lib\\site-packages (from datasets<3.0.0,>=2.0.0->transformer-smaller-training-vocab>=0.2.1->flair) (0.70.15)\n",
            "Requirement already satisfied: aiohttp in c:\\users\\lucas\\onedrive\\área de trabalho\\tm\\.venv\\lib\\site-packages (from datasets<3.0.0,>=2.0.0->transformer-smaller-training-vocab>=0.2.1->flair) (3.8.5)\n",
            "Requirement already satisfied: zipp>=3.1.0 in c:\\users\\lucas\\onedrive\\área de trabalho\\tm\\.venv\\lib\\site-packages (from importlib-resources>=3.2.0->matplotlib>=2.2.3->flair) (3.16.2)\n",
            "Requirement already satisfied: charset-normalizer<3,>=2 in c:\\users\\lucas\\onedrive\\área de trabalho\\tm\\.venv\\lib\\site-packages (from requests[socks]->gdown==4.4.0->flair) (2.1.1)\n",
            "Requirement already satisfied: idna<4,>=2.5 in c:\\users\\lucas\\onedrive\\área de trabalho\\tm\\.venv\\lib\\site-packages (from requests[socks]->gdown==4.4.0->flair) (3.4)\n",
            "Requirement already satisfied: certifi>=2017.4.17 in c:\\users\\lucas\\onedrive\\área de trabalho\\tm\\.venv\\lib\\site-packages (from requests[socks]->gdown==4.4.0->flair) (2022.12.7)\n",
            "Requirement already satisfied: accelerate>=0.20.3 in c:\\users\\lucas\\onedrive\\área de trabalho\\tm\\.venv\\lib\\site-packages (from transformers[sentencepiece]>=4.18.0->flair) (0.21.0)\n",
            "Requirement already satisfied: soupsieve>1.2 in c:\\users\\lucas\\onedrive\\área de trabalho\\tm\\.venv\\lib\\site-packages (from beautifulsoup4->gdown==4.4.0->flair) (2.4.1)\n",
            "Requirement already satisfied: MarkupSafe>=2.0 in c:\\users\\lucas\\onedrive\\área de trabalho\\tm\\.venv\\lib\\site-packages (from jinja2->torch!=1.8,>=1.5.0->flair) (2.1.2)\n",
            "Requirement already satisfied: PySocks!=1.5.7,>=1.5.6 in c:\\users\\lucas\\onedrive\\área de trabalho\\tm\\.venv\\lib\\site-packages (from requests[socks]->gdown==4.4.0->flair) (1.7.1)\n",
            "Requirement already satisfied: mpmath>=0.19 in c:\\users\\lucas\\onedrive\\área de trabalho\\tm\\.venv\\lib\\site-packages (from sympy->torch!=1.8,>=1.5.0->flair) (1.2.1)\n",
            "Requirement already satisfied: psutil in c:\\users\\lucas\\onedrive\\área de trabalho\\tm\\.venv\\lib\\site-packages (from accelerate>=0.20.3->transformers[sentencepiece]>=4.18.0->flair) (5.9.5)\n",
            "Requirement already satisfied: attrs>=17.3.0 in c:\\users\\lucas\\onedrive\\área de trabalho\\tm\\.venv\\lib\\site-packages (from aiohttp->datasets<3.0.0,>=2.0.0->transformer-smaller-training-vocab>=0.2.1->flair) (23.1.0)\n",
            "Requirement already satisfied: multidict<7.0,>=4.5 in c:\\users\\lucas\\onedrive\\área de trabalho\\tm\\.venv\\lib\\site-packages (from aiohttp->datasets<3.0.0,>=2.0.0->transformer-smaller-training-vocab>=0.2.1->flair) (6.0.4)\n",
            "Requirement already satisfied: async-timeout<5.0,>=4.0.0a3 in c:\\users\\lucas\\onedrive\\área de trabalho\\tm\\.venv\\lib\\site-packages (from aiohttp->datasets<3.0.0,>=2.0.0->transformer-smaller-training-vocab>=0.2.1->flair) (4.0.2)\n",
            "Requirement already satisfied: yarl<2.0,>=1.0 in c:\\users\\lucas\\onedrive\\área de trabalho\\tm\\.venv\\lib\\site-packages (from aiohttp->datasets<3.0.0,>=2.0.0->transformer-smaller-training-vocab>=0.2.1->flair) (1.9.2)\n",
            "Requirement already satisfied: frozenlist>=1.1.1 in c:\\users\\lucas\\onedrive\\área de trabalho\\tm\\.venv\\lib\\site-packages (from aiohttp->datasets<3.0.0,>=2.0.0->transformer-smaller-training-vocab>=0.2.1->flair) (1.4.0)\n",
            "Requirement already satisfied: aiosignal>=1.1.2 in c:\\users\\lucas\\onedrive\\área de trabalho\\tm\\.venv\\lib\\site-packages (from aiohttp->datasets<3.0.0,>=2.0.0->transformer-smaller-training-vocab>=0.2.1->flair) (1.3.1)\n",
            "Requirement already satisfied: pytz>=2020.1 in c:\\users\\lucas\\onedrive\\área de trabalho\\tm\\.venv\\lib\\site-packages (from pandas->datasets<3.0.0,>=2.0.0->transformer-smaller-training-vocab>=0.2.1->flair) (2023.3)\n",
            "Requirement already satisfied: tzdata>=2022.1 in c:\\users\\lucas\\onedrive\\área de trabalho\\tm\\.venv\\lib\\site-packages (from pandas->datasets<3.0.0,>=2.0.0->transformer-smaller-training-vocab>=0.2.1->flair) (2023.3)\n",
            "Note: you may need to restart the kernel to use updated packages.\n"
          ]
        }
      ],
      "source": [
        "pip install flair"
      ]
    },
    {
      "cell_type": "code",
      "execution_count": 9,
      "metadata": {
        "id": "rr-57q9TCLc2"
      },
      "outputs": [
        {
          "name": "stderr",
          "output_type": "stream",
          "text": [
            "c:\\Users\\lucas\\OneDrive\\Área de Trabalho\\TM\\.venv\\lib\\site-packages\\tqdm\\auto.py:21: TqdmWarning: IProgress not found. Please update jupyter and ipywidgets. See https://ipywidgets.readthedocs.io/en/stable/user_install.html\n",
            "  from .autonotebook import tqdm as notebook_tqdm\n"
          ]
        }
      ],
      "source": [
        "from flair.data import Corpus\n",
        "from flair.datasets import ColumnCorpus"
      ]
    },
    {
      "cell_type": "code",
      "execution_count": 10,
      "metadata": {
        "colab": {
          "base_uri": "https://localhost:8080/"
        },
        "id": "ldGM4tXJvZ28",
        "outputId": "91c4917e-128a-4d7f-a3fc-18d338a8b496"
      },
      "outputs": [
        {
          "name": "stdout",
          "output_type": "stream",
          "text": [
            "2023-07-31 02:03:07,999 Reading data from .\n",
            "2023-07-31 02:03:08,000 Train: train.txt\n",
            "2023-07-31 02:03:08,000 Dev: dev.txt\n",
            "2023-07-31 02:03:08,000 Test: test.txt\n"
          ]
        }
      ],
      "source": [
        "columns = {0: 'text', 1: 'pos', 2: 'ner'}\n",
        "data_folder = './'\n",
        "\n",
        "corpus: Corpus = ColumnCorpus(data_folder, columns,\n",
        "                              train_file='train.txt',\n",
        "                              test_file='test.txt',\n",
        "                              dev_file='dev.txt',\n",
        "                              encoding='Latin-1')"
      ]
    },
    {
      "cell_type": "code",
      "execution_count": 11,
      "metadata": {
        "colab": {
          "base_uri": "https://localhost:8080/"
        },
        "id": "bzvpIJuhyyKO",
        "outputId": "e42d67d3-f654-42cd-8c3a-b668535e4f09"
      },
      "outputs": [
        {
          "name": "stdout",
          "output_type": "stream",
          "text": [
            "Train size: 38367\n",
            "Test size: 4795\n",
            "Dev size: 4797\n"
          ]
        }
      ],
      "source": [
        "print(\"Train size: \" + str(len(corpus.train)))\n",
        "print(\"Test size: \" + str(len(corpus.test)))\n",
        "print(\"Dev size: \" + str(len(corpus.dev)))"
      ]
    },
    {
      "cell_type": "code",
      "execution_count": 12,
      "metadata": {
        "colab": {
          "base_uri": "https://localhost:8080/"
        },
        "id": "0W2qweeDylzN",
        "outputId": "23a43294-6843-4ce7-8c65-ce3c3739a98a"
      },
      "outputs": [
        {
          "name": "stdout",
          "output_type": "stream",
          "text": [
            "Sentence[25]: \"Iranian officials say they expect to get access to sealed sensitive parts of the plant Wednesday , after an IAEA surveillance system begins functioning .\" → [\"Iranian\"/gpe, \"Wednesday\"/tim, \"IAEA\"/org]\n",
            "Sentence[25]: \"Iranian officials say they expect to get access to sealed sensitive parts of the plant Wednesday , after an IAEA surveillance system begins functioning .\" → [\"Iranian\"/JJ, \"officials\"/NNS, \"say\"/VBP, \"they\"/PRP, \"expect\"/VBP, \"to\"/TO, \"get\"/VB, \"access\"/NN, \"to\"/TO, \"sealed\"/JJ, \"sensitive\"/JJ, \"parts\"/NNS, \"of\"/IN, \"the\"/DT, \"plant\"/NN, \"Wednesday\"/NNP, \",\"/,, \"after\"/IN, \"an\"/DT, \"IAEA\"/NNP, \"surveillance\"/NN, \"system\"/NN, \"begins\"/VBZ, \"functioning\"/VBG, \".\"/.]\n"
          ]
        }
      ],
      "source": [
        "print(corpus.train[0].to_tagged_string('ner'))\n",
        "print(corpus.train[0].to_tagged_string('pos'))"
      ]
    },
    {
      "cell_type": "markdown",
      "metadata": {
        "id": "cshHSnqdBeb7"
      },
      "source": [
        "## Treinando modelo\n"
      ]
    },
    {
      "cell_type": "code",
      "execution_count": 13,
      "metadata": {},
      "outputs": [
        {
          "name": "stdout",
          "output_type": "stream",
          "text": [
            "Looking in indexes: https://download.pytorch.org/whl/cu118\n",
            "Requirement already satisfied: torch in c:\\users\\lucas\\onedrive\\área de trabalho\\tm\\.venv\\lib\\site-packages (2.0.1+cu118)\n",
            "Requirement already satisfied: torchvision in c:\\users\\lucas\\onedrive\\área de trabalho\\tm\\.venv\\lib\\site-packages (0.15.2+cu118)\n",
            "Requirement already satisfied: torchaudio in c:\\users\\lucas\\onedrive\\área de trabalho\\tm\\.venv\\lib\\site-packages (2.0.2+cu118)\n",
            "Requirement already satisfied: filelock in c:\\users\\lucas\\onedrive\\área de trabalho\\tm\\.venv\\lib\\site-packages (from torch) (3.9.0)\n",
            "Requirement already satisfied: typing-extensions in c:\\users\\lucas\\onedrive\\área de trabalho\\tm\\.venv\\lib\\site-packages (from torch) (4.7.1)\n",
            "Requirement already satisfied: sympy in c:\\users\\lucas\\onedrive\\área de trabalho\\tm\\.venv\\lib\\site-packages (from torch) (1.11.1)\n",
            "Requirement already satisfied: networkx in c:\\users\\lucas\\onedrive\\área de trabalho\\tm\\.venv\\lib\\site-packages (from torch) (3.0)\n",
            "Requirement already satisfied: jinja2 in c:\\users\\lucas\\onedrive\\área de trabalho\\tm\\.venv\\lib\\site-packages (from torch) (3.1.2)\n",
            "Requirement already satisfied: numpy in c:\\users\\lucas\\onedrive\\área de trabalho\\tm\\.venv\\lib\\site-packages (from torchvision) (1.25.1)\n",
            "Requirement already satisfied: requests in c:\\users\\lucas\\onedrive\\área de trabalho\\tm\\.venv\\lib\\site-packages (from torchvision) (2.28.1)\n",
            "Requirement already satisfied: pillow!=8.3.*,>=5.3.0 in c:\\users\\lucas\\onedrive\\área de trabalho\\tm\\.venv\\lib\\site-packages (from torchvision) (9.3.0)\n",
            "Requirement already satisfied: MarkupSafe>=2.0 in c:\\users\\lucas\\onedrive\\área de trabalho\\tm\\.venv\\lib\\site-packages (from jinja2->torch) (2.1.2)\n",
            "Requirement already satisfied: charset-normalizer<3,>=2 in c:\\users\\lucas\\onedrive\\área de trabalho\\tm\\.venv\\lib\\site-packages (from requests->torchvision) (2.1.1)\n",
            "Requirement already satisfied: idna<4,>=2.5 in c:\\users\\lucas\\onedrive\\área de trabalho\\tm\\.venv\\lib\\site-packages (from requests->torchvision) (3.4)\n",
            "Requirement already satisfied: urllib3<1.27,>=1.21.1 in c:\\users\\lucas\\onedrive\\área de trabalho\\tm\\.venv\\lib\\site-packages (from requests->torchvision) (1.26.13)\n",
            "Requirement already satisfied: certifi>=2017.4.17 in c:\\users\\lucas\\onedrive\\área de trabalho\\tm\\.venv\\lib\\site-packages (from requests->torchvision) (2022.12.7)\n",
            "Requirement already satisfied: mpmath>=0.19 in c:\\users\\lucas\\onedrive\\área de trabalho\\tm\\.venv\\lib\\site-packages (from sympy->torch) (1.2.1)\n",
            "Note: you may need to restart the kernel to use updated packages.\n"
          ]
        }
      ],
      "source": [
        "pip install torch torchvision torchaudio --index-url https://download.pytorch.org/whl/cu118"
      ]
    },
    {
      "cell_type": "code",
      "execution_count": 14,
      "metadata": {},
      "outputs": [
        {
          "name": "stdout",
          "output_type": "stream",
          "text": [
            "c:\\Users\\lucas\\OneDrive\\Área de Trabalho\\TM\\.venv\\Scripts\\python.exe\n",
            "c:\\Users\\lucas\\OneDrive\\Área de Trabalho\\TM\\.venv\\lib\\site-packages\\torch\\__init__.py\n",
            "\n",
            "CUDA\n",
            "11.8\n",
            "True\n",
            "NVIDIA GeForce RTX 3060 Ti\n"
          ]
        }
      ],
      "source": [
        "import sys\n",
        "import torch\n",
        "\n",
        "print(sys.executable)\n",
        "print(torch.__file__)\n",
        "\n",
        "print('\\nCUDA')\n",
        "print(torch.version.cuda)\n",
        "print(torch.cuda.is_available())\n",
        "print(torch.cuda.get_device_name(torch.cuda.current_device()))"
      ]
    },
    {
      "cell_type": "code",
      "execution_count": 15,
      "metadata": {
        "id": "Xx943sylBlCW"
      },
      "outputs": [],
      "source": [
        "from flair.embeddings import TransformerWordEmbeddings, WordEmbeddings, FlairEmbeddings, StackedEmbeddings\n",
        "from flair.models import SequenceTagger\n",
        "from flair.trainers import ModelTrainer"
      ]
    },
    {
      "cell_type": "code",
      "execution_count": 16,
      "metadata": {
        "colab": {
          "base_uri": "https://localhost:8080/"
        },
        "id": "UyFUXxT7CW4W",
        "outputId": "c39534a4-9498-4e70-b082-68ca08b8967c"
      },
      "outputs": [
        {
          "name": "stdout",
          "output_type": "stream",
          "text": [
            "2023-07-31 02:03:28,305 Computing label dictionary. Progress:\n"
          ]
        },
        {
          "name": "stderr",
          "output_type": "stream",
          "text": [
            "38367it [00:00, 64859.77it/s]"
          ]
        },
        {
          "name": "stdout",
          "output_type": "stream",
          "text": [
            "2023-07-31 02:03:28,914 Dictionary created for label 'ner' with 9 values: geo (seen 30064 times), tim (seen 16262 times), org (seen 16085 times), per (seen 13615 times), gpe (seen 12680 times), art (seen 325 times), eve (seen 253 times), nat (seen 166 times),  (seen 1 times)\n",
            "\n",
            "Labels Dictionary: Dictionary with 9 tags: geo, tim, org, per, gpe, art, eve, nat, \n"
          ]
        },
        {
          "name": "stderr",
          "output_type": "stream",
          "text": [
            "\n"
          ]
        }
      ],
      "source": [
        "label_type = 'ner' # named entity recognition\n",
        "\n",
        "label_dict = corpus.make_label_dictionary(label_type=label_type, add_unk=False)\n",
        "print(\"\\nLabels Dictionary: \" + str(label_dict))"
      ]
    },
    {
      "cell_type": "markdown",
      "metadata": {
        "id": "vjoLYHGfEHub"
      },
      "source": [
        "Modelo NER com transformers utilizando o RoBERTa."
      ]
    },
    {
      "cell_type": "code",
      "execution_count": 17,
      "metadata": {
        "colab": {
          "base_uri": "https://localhost:8080/",
          "height": 1000,
          "referenced_widgets": [
            "082c948b151d41db84502e5d8cbe564a",
            "8b00cc7b3e134c398122bc5c20d130ca",
            "5803c5de764c42b3a46ce50ee464e295",
            "d582fa630b024f9f8e26d9dfa1ecddda",
            "8461fbce88bb43d6a6a24eef9f94b53d",
            "7271be1148444dee80ca3151275cff3f",
            "3a9e11d44cb84bb09ecefcfaacca6c95",
            "76f4f1675eb64b929a7abd5d19a88ca1",
            "ad7a7ca10c04444b9cf6a6e47fdb1d0a",
            "0332d5b5363d419abda76e15c16d887c",
            "ffc46c323ee04732a9d42445b840a833",
            "55066b2e2fe943b5a5ad466df3711e88",
            "b14dffc75c7342ea8349d71ebd7778de",
            "8c2f075c54c949ab99cd2d7d6bb98856",
            "c2da3a28044a465592759377cfda6914",
            "381d1f7c55ed4179a84f8f0787a9f5d7",
            "55fdcac0c7734201ac9a94c7e309d0ce",
            "40bb9b480519416c87865afcc757ede8",
            "29c6f64e1e4c44c58e267f66f829c270",
            "a9f9effceb484e529c0a366701faf932",
            "c21d6b200f134ad79b1a428f26bd312c",
            "1b4c9094a49b4ae68900167ba5570dc7",
            "36af4c3e7a1f47b4b73bfd7ddc4f6d87",
            "6cbfb267e9f74dc0a59d77025883cba0",
            "8683f743d3c148aaabedbb0606b13413",
            "75210c2bc21440859da4c32e4ac2c97c",
            "b814acd83b2946a28fd0cac33cf044eb",
            "36eea14d18454698a61bf4cf8f430b0e",
            "950ed009cca24f0e9f9fcb81d6891fb8",
            "c9ae5a8034e94f9598c92e40e8c0ce4d",
            "34e9d45a701c4f5c895ef2f37adeec0f",
            "93bc826b6fec40ebab361caac76dc258",
            "2d89d01d718d4d438cfbe1eefad9951e",
            "11fac856b21848fbb5e325f83b29aeaa",
            "1f6f066eff0641b8b3f5bf11178cf49b",
            "8eb3f4089dda4b6fa9aff67716729544",
            "99d6ee40a85d4cc59562fb1eb2de8495",
            "81afa739dfee400ca014cf996e7e592a",
            "75478d9964404d7b82bc3f873f9cbeff",
            "609d3c83c61349afaf04abb695eb1b3c",
            "2c1ce96246fb44d39ec2c90d88cfacc7",
            "793a23bef2bc4a23a591292128aa5417",
            "067897f968d74f8483ab551f552bcbb8",
            "83fe33a749bf4d0d84e988ba5ae7415d"
          ]
        },
        "id": "tf86js8RCwgd",
        "outputId": "c24c9bd3-2988-4f86-eb92-8a7d3ebdf16b"
      },
      "outputs": [
        {
          "name": "stdout",
          "output_type": "stream",
          "text": [
            "2023-07-31 02:03:39,928 SequenceTagger predicts: Dictionary with 37 tags: O, S-geo, B-geo, E-geo, I-geo, S-tim, B-tim, E-tim, I-tim, S-org, B-org, E-org, I-org, S-per, B-per, E-per, I-per, S-gpe, B-gpe, E-gpe, I-gpe, S-art, B-art, E-art, I-art, S-eve, B-eve, E-eve, I-eve, S-nat, B-nat, E-nat, I-nat, S-, B-, E-, I-\n",
            "2023-07-31 02:03:39,936 ----------------------------------------------------------------------------------------------------\n",
            "2023-07-31 02:03:39,938 Model: \"SequenceTagger(\n",
            "  (embeddings): TransformerWordEmbeddings(\n",
            "    (model): XLMRobertaModel(\n",
            "      (embeddings): XLMRobertaEmbeddings(\n",
            "        (word_embeddings): Embedding(250003, 1024)\n",
            "        (position_embeddings): Embedding(514, 1024, padding_idx=1)\n",
            "        (token_type_embeddings): Embedding(1, 1024)\n",
            "        (LayerNorm): LayerNorm((1024,), eps=1e-05, elementwise_affine=True)\n",
            "        (dropout): Dropout(p=0.1, inplace=False)\n",
            "      )\n",
            "      (encoder): XLMRobertaEncoder(\n",
            "        (layer): ModuleList(\n",
            "          (0-23): 24 x XLMRobertaLayer(\n",
            "            (attention): XLMRobertaAttention(\n",
            "              (self): XLMRobertaSelfAttention(\n",
            "                (query): Linear(in_features=1024, out_features=1024, bias=True)\n",
            "                (key): Linear(in_features=1024, out_features=1024, bias=True)\n",
            "                (value): Linear(in_features=1024, out_features=1024, bias=True)\n",
            "                (dropout): Dropout(p=0.1, inplace=False)\n",
            "              )\n",
            "              (output): XLMRobertaSelfOutput(\n",
            "                (dense): Linear(in_features=1024, out_features=1024, bias=True)\n",
            "                (LayerNorm): LayerNorm((1024,), eps=1e-05, elementwise_affine=True)\n",
            "                (dropout): Dropout(p=0.1, inplace=False)\n",
            "              )\n",
            "            )\n",
            "            (intermediate): XLMRobertaIntermediate(\n",
            "              (dense): Linear(in_features=1024, out_features=4096, bias=True)\n",
            "              (intermediate_act_fn): GELUActivation()\n",
            "            )\n",
            "            (output): XLMRobertaOutput(\n",
            "              (dense): Linear(in_features=4096, out_features=1024, bias=True)\n",
            "              (LayerNorm): LayerNorm((1024,), eps=1e-05, elementwise_affine=True)\n",
            "              (dropout): Dropout(p=0.1, inplace=False)\n",
            "            )\n",
            "          )\n",
            "        )\n",
            "      )\n",
            "      (pooler): XLMRobertaPooler(\n",
            "        (dense): Linear(in_features=1024, out_features=1024, bias=True)\n",
            "        (activation): Tanh()\n",
            "      )\n",
            "    )\n",
            "  )\n",
            "  (locked_dropout): LockedDropout(p=0.5)\n",
            "  (linear): Linear(in_features=1024, out_features=37, bias=True)\n",
            "  (loss_function): CrossEntropyLoss()\n",
            ")\"\n",
            "2023-07-31 02:03:39,939 ----------------------------------------------------------------------------------------------------\n",
            "2023-07-31 02:03:39,940 Corpus: \"Corpus: 38367 train + 4797 dev + 4795 test sentences\"\n",
            "2023-07-31 02:03:39,940 ----------------------------------------------------------------------------------------------------\n",
            "2023-07-31 02:03:39,941 Parameters:\n",
            "2023-07-31 02:03:39,941  - learning_rate: \"0.000005\"\n",
            "2023-07-31 02:03:39,942  - mini_batch_size: \"4\"\n",
            "2023-07-31 02:03:39,942  - patience: \"3\"\n",
            "2023-07-31 02:03:39,943  - anneal_factor: \"0.5\"\n",
            "2023-07-31 02:03:39,943  - max_epochs: \"1\"\n",
            "2023-07-31 02:03:39,944  - shuffle: \"True\"\n",
            "2023-07-31 02:03:39,944  - train_with_dev: \"False\"\n",
            "2023-07-31 02:03:39,945  - batch_growth_annealing: \"False\"\n",
            "2023-07-31 02:03:39,945 ----------------------------------------------------------------------------------------------------\n",
            "2023-07-31 02:03:39,946 Model training base path: \"resources\\taggers\\sota-ner-flert\"\n",
            "2023-07-31 02:03:39,946 ----------------------------------------------------------------------------------------------------\n",
            "2023-07-31 02:03:39,947 Device: cuda:0\n",
            "2023-07-31 02:03:39,947 ----------------------------------------------------------------------------------------------------\n",
            "2023-07-31 02:03:39,947 Embeddings storage mode: none\n",
            "2023-07-31 02:03:39,948 ----------------------------------------------------------------------------------------------------\n",
            "2023-07-31 03:06:24,637 epoch 1 - iter 959/9592 - loss 1.06620058 - time (sec): 3764.69 - samples/sec: 22.33 - lr: 0.000005\n",
            "2023-07-31 04:09:51,722 epoch 1 - iter 1918/9592 - loss 0.66141724 - time (sec): 7571.77 - samples/sec: 22.36 - lr: 0.000004\n",
            "2023-07-31 05:13:20,451 epoch 1 - iter 2877/9592 - loss 0.51496094 - time (sec): 11380.50 - samples/sec: 22.16 - lr: 0.000004\n",
            "2023-07-31 06:15:40,718 epoch 1 - iter 3836/9592 - loss 0.43649345 - time (sec): 15120.77 - samples/sec: 22.29 - lr: 0.000003\n",
            "2023-07-31 07:18:01,938 epoch 1 - iter 4795/9592 - loss 0.38687153 - time (sec): 18861.99 - samples/sec: 22.29 - lr: 0.000003\n",
            "2023-07-31 08:20:22,646 epoch 1 - iter 5754/9592 - loss 0.35250901 - time (sec): 22602.70 - samples/sec: 22.31 - lr: 0.000002\n",
            "2023-07-31 09:22:26,020 epoch 1 - iter 6713/9592 - loss 0.32631355 - time (sec): 26326.07 - samples/sec: 22.34 - lr: 0.000002\n",
            "2023-07-31 10:30:07,206 epoch 1 - iter 7672/9592 - loss 0.30576581 - time (sec): 30387.26 - samples/sec: 22.11 - lr: 0.000001\n",
            "2023-07-31 11:39:04,352 epoch 1 - iter 8631/9592 - loss 0.28926054 - time (sec): 34524.40 - samples/sec: 21.88 - lr: 0.000001\n",
            "2023-07-31 12:43:46,613 epoch 1 - iter 9590/9592 - loss 0.27577773 - time (sec): 38406.66 - samples/sec: 21.84 - lr: 0.000000\n",
            "2023-07-31 12:43:54,761 ----------------------------------------------------------------------------------------------------\n",
            "2023-07-31 12:43:54,762 EPOCH 1 done: loss 0.2758 - lr 0.000000\n"
          ]
        },
        {
          "name": "stderr",
          "output_type": "stream",
          "text": [
            "100%|██████████| 1200/1200 [28:58<00:00,  1.45s/it]"
          ]
        },
        {
          "name": "stdout",
          "output_type": "stream",
          "text": [
            "2023-07-31 13:12:53,174 Evaluating as a multi-label problem: False\n"
          ]
        },
        {
          "name": "stderr",
          "output_type": "stream",
          "text": [
            "\n"
          ]
        },
        {
          "name": "stdout",
          "output_type": "stream",
          "text": [
            "2023-07-31 13:12:53,274 DEV : loss 0.15668772161006927 - f1-score (micro avg)  0.8163\n",
            "2023-07-31 13:12:59,911 ----------------------------------------------------------------------------------------------------\n",
            "2023-07-31 13:12:59,913 Testing using last state of model ...\n"
          ]
        },
        {
          "name": "stderr",
          "output_type": "stream",
          "text": [
            "100%|██████████| 1199/1199 [16:25<00:00,  1.22it/s]"
          ]
        },
        {
          "name": "stdout",
          "output_type": "stream",
          "text": [
            "2023-07-31 13:29:25,544 Evaluating as a multi-label problem: False\n"
          ]
        },
        {
          "name": "stderr",
          "output_type": "stream",
          "text": [
            "\n"
          ]
        },
        {
          "name": "stdout",
          "output_type": "stream",
          "text": [
            "2023-07-31 13:29:25,610 0.8091\t0.8138\t0.8115\t0.7284\n",
            "2023-07-31 13:29:25,611 \n",
            "Results:\n",
            "- F-score (micro) 0.8115\n",
            "- F-score (macro) 0.5049\n",
            "- Accuracy 0.7284\n",
            "\n",
            "By class:\n",
            "              precision    recall  f1-score   support\n",
            "\n",
            "         geo     0.8207    0.9003    0.8587      3813\n",
            "         tim     0.8281    0.8285    0.8283      1983\n",
            "         org     0.6970    0.6338    0.6639      2029\n",
            "         per     0.7691    0.7813    0.7751      1692\n",
            "         gpe     0.9333    0.8941    0.9133      1596\n",
            "         art     0.0000    0.0000    0.0000        36\n",
            "         eve     0.0000    0.0000    0.0000        32\n",
            "         nat     0.0000    0.0000    0.0000        14\n",
            "\n",
            "   micro avg     0.8091    0.8138    0.8115     11195\n",
            "   macro avg     0.5060    0.5048    0.5049     11195\n",
            "weighted avg     0.8018    0.8138    0.8069     11195\n",
            "\n",
            "2023-07-31 13:29:25,611 ----------------------------------------------------------------------------------------------------\n"
          ]
        },
        {
          "data": {
            "text/plain": [
              "{'test_score': 0.811489645958584,\n",
              " 'dev_score_history': [0.816324718003375],\n",
              " 'train_loss_history': [0.27575176944602453],\n",
              " 'dev_loss_history': [0.15668772161006927]}"
            ]
          },
          "execution_count": 17,
          "metadata": {},
          "output_type": "execute_result"
        }
      ],
      "source": [
        "embeddings = TransformerWordEmbeddings(model='xlm-roberta-large',\n",
        "                                       layers=\"-1\",\n",
        "                                       subtoken_pooling=\"first\",\n",
        "                                       fine_tune=True,\n",
        "                                       use_context=True,\n",
        "                                       )\n",
        "\n",
        "tagger = SequenceTagger(hidden_size=256,\n",
        "                        embeddings=embeddings,\n",
        "                        tag_dictionary=label_dict,\n",
        "                        tag_type='ner',\n",
        "                        use_crf=False,\n",
        "                        use_rnn=False,\n",
        "                        reproject_embeddings=False,\n",
        "                        )\n",
        "\n",
        "trainer = ModelTrainer(tagger, corpus)\n",
        "\n",
        "trainer.fine_tune('resources/taggers/sota-ner-flert',\n",
        "                  learning_rate=5.0e-6,\n",
        "                  mini_batch_size=4,\n",
        "                  max_epochs=1     \n",
        "                  )"
      ]
    }
  ],
  "metadata": {
    "colab": {
      "provenance": []
    },
    "kernelspec": {
      "display_name": "Python 3",
      "name": "python3"
    },
    "language_info": {
      "codemirror_mode": {
        "name": "ipython",
        "version": 3
      },
      "file_extension": ".py",
      "mimetype": "text/x-python",
      "name": "python",
      "nbconvert_exporter": "python",
      "pygments_lexer": "ipython3",
      "version": "3.9.13"
    },
    "widgets": {
      "application/vnd.jupyter.widget-state+json": {
        "0332d5b5363d419abda76e15c16d887c": {
          "model_module": "@jupyter-widgets/base",
          "model_module_version": "1.2.0",
          "model_name": "LayoutModel",
          "state": {
            "_model_module": "@jupyter-widgets/base",
            "_model_module_version": "1.2.0",
            "_model_name": "LayoutModel",
            "_view_count": null,
            "_view_module": "@jupyter-widgets/base",
            "_view_module_version": "1.2.0",
            "_view_name": "LayoutView",
            "align_content": null,
            "align_items": null,
            "align_self": null,
            "border": null,
            "bottom": null,
            "display": null,
            "flex": null,
            "flex_flow": null,
            "grid_area": null,
            "grid_auto_columns": null,
            "grid_auto_flow": null,
            "grid_auto_rows": null,
            "grid_column": null,
            "grid_gap": null,
            "grid_row": null,
            "grid_template_areas": null,
            "grid_template_columns": null,
            "grid_template_rows": null,
            "height": null,
            "justify_content": null,
            "justify_items": null,
            "left": null,
            "margin": null,
            "max_height": null,
            "max_width": null,
            "min_height": null,
            "min_width": null,
            "object_fit": null,
            "object_position": null,
            "order": null,
            "overflow": null,
            "overflow_x": null,
            "overflow_y": null,
            "padding": null,
            "right": null,
            "top": null,
            "visibility": null,
            "width": null
          }
        },
        "067897f968d74f8483ab551f552bcbb8": {
          "model_module": "@jupyter-widgets/base",
          "model_module_version": "1.2.0",
          "model_name": "LayoutModel",
          "state": {
            "_model_module": "@jupyter-widgets/base",
            "_model_module_version": "1.2.0",
            "_model_name": "LayoutModel",
            "_view_count": null,
            "_view_module": "@jupyter-widgets/base",
            "_view_module_version": "1.2.0",
            "_view_name": "LayoutView",
            "align_content": null,
            "align_items": null,
            "align_self": null,
            "border": null,
            "bottom": null,
            "display": null,
            "flex": null,
            "flex_flow": null,
            "grid_area": null,
            "grid_auto_columns": null,
            "grid_auto_flow": null,
            "grid_auto_rows": null,
            "grid_column": null,
            "grid_gap": null,
            "grid_row": null,
            "grid_template_areas": null,
            "grid_template_columns": null,
            "grid_template_rows": null,
            "height": null,
            "justify_content": null,
            "justify_items": null,
            "left": null,
            "margin": null,
            "max_height": null,
            "max_width": null,
            "min_height": null,
            "min_width": null,
            "object_fit": null,
            "object_position": null,
            "order": null,
            "overflow": null,
            "overflow_x": null,
            "overflow_y": null,
            "padding": null,
            "right": null,
            "top": null,
            "visibility": null,
            "width": null
          }
        },
        "082c948b151d41db84502e5d8cbe564a": {
          "model_module": "@jupyter-widgets/controls",
          "model_module_version": "1.5.0",
          "model_name": "HBoxModel",
          "state": {
            "_dom_classes": [],
            "_model_module": "@jupyter-widgets/controls",
            "_model_module_version": "1.5.0",
            "_model_name": "HBoxModel",
            "_view_count": null,
            "_view_module": "@jupyter-widgets/controls",
            "_view_module_version": "1.5.0",
            "_view_name": "HBoxView",
            "box_style": "",
            "children": [
              "IPY_MODEL_8b00cc7b3e134c398122bc5c20d130ca",
              "IPY_MODEL_5803c5de764c42b3a46ce50ee464e295",
              "IPY_MODEL_d582fa630b024f9f8e26d9dfa1ecddda"
            ],
            "layout": "IPY_MODEL_8461fbce88bb43d6a6a24eef9f94b53d"
          }
        },
        "11fac856b21848fbb5e325f83b29aeaa": {
          "model_module": "@jupyter-widgets/controls",
          "model_module_version": "1.5.0",
          "model_name": "HBoxModel",
          "state": {
            "_dom_classes": [],
            "_model_module": "@jupyter-widgets/controls",
            "_model_module_version": "1.5.0",
            "_model_name": "HBoxModel",
            "_view_count": null,
            "_view_module": "@jupyter-widgets/controls",
            "_view_module_version": "1.5.0",
            "_view_name": "HBoxView",
            "box_style": "",
            "children": [
              "IPY_MODEL_1f6f066eff0641b8b3f5bf11178cf49b",
              "IPY_MODEL_8eb3f4089dda4b6fa9aff67716729544",
              "IPY_MODEL_99d6ee40a85d4cc59562fb1eb2de8495"
            ],
            "layout": "IPY_MODEL_81afa739dfee400ca014cf996e7e592a"
          }
        },
        "1b4c9094a49b4ae68900167ba5570dc7": {
          "model_module": "@jupyter-widgets/controls",
          "model_module_version": "1.5.0",
          "model_name": "DescriptionStyleModel",
          "state": {
            "_model_module": "@jupyter-widgets/controls",
            "_model_module_version": "1.5.0",
            "_model_name": "DescriptionStyleModel",
            "_view_count": null,
            "_view_module": "@jupyter-widgets/base",
            "_view_module_version": "1.2.0",
            "_view_name": "StyleView",
            "description_width": ""
          }
        },
        "1f6f066eff0641b8b3f5bf11178cf49b": {
          "model_module": "@jupyter-widgets/controls",
          "model_module_version": "1.5.0",
          "model_name": "HTMLModel",
          "state": {
            "_dom_classes": [],
            "_model_module": "@jupyter-widgets/controls",
            "_model_module_version": "1.5.0",
            "_model_name": "HTMLModel",
            "_view_count": null,
            "_view_module": "@jupyter-widgets/controls",
            "_view_module_version": "1.5.0",
            "_view_name": "HTMLView",
            "description": "",
            "description_tooltip": null,
            "layout": "IPY_MODEL_75478d9964404d7b82bc3f873f9cbeff",
            "placeholder": "​",
            "style": "IPY_MODEL_609d3c83c61349afaf04abb695eb1b3c",
            "value": "Downloading model.safetensors: 100%"
          }
        },
        "29c6f64e1e4c44c58e267f66f829c270": {
          "model_module": "@jupyter-widgets/base",
          "model_module_version": "1.2.0",
          "model_name": "LayoutModel",
          "state": {
            "_model_module": "@jupyter-widgets/base",
            "_model_module_version": "1.2.0",
            "_model_name": "LayoutModel",
            "_view_count": null,
            "_view_module": "@jupyter-widgets/base",
            "_view_module_version": "1.2.0",
            "_view_name": "LayoutView",
            "align_content": null,
            "align_items": null,
            "align_self": null,
            "border": null,
            "bottom": null,
            "display": null,
            "flex": null,
            "flex_flow": null,
            "grid_area": null,
            "grid_auto_columns": null,
            "grid_auto_flow": null,
            "grid_auto_rows": null,
            "grid_column": null,
            "grid_gap": null,
            "grid_row": null,
            "grid_template_areas": null,
            "grid_template_columns": null,
            "grid_template_rows": null,
            "height": null,
            "justify_content": null,
            "justify_items": null,
            "left": null,
            "margin": null,
            "max_height": null,
            "max_width": null,
            "min_height": null,
            "min_width": null,
            "object_fit": null,
            "object_position": null,
            "order": null,
            "overflow": null,
            "overflow_x": null,
            "overflow_y": null,
            "padding": null,
            "right": null,
            "top": null,
            "visibility": null,
            "width": null
          }
        },
        "2c1ce96246fb44d39ec2c90d88cfacc7": {
          "model_module": "@jupyter-widgets/base",
          "model_module_version": "1.2.0",
          "model_name": "LayoutModel",
          "state": {
            "_model_module": "@jupyter-widgets/base",
            "_model_module_version": "1.2.0",
            "_model_name": "LayoutModel",
            "_view_count": null,
            "_view_module": "@jupyter-widgets/base",
            "_view_module_version": "1.2.0",
            "_view_name": "LayoutView",
            "align_content": null,
            "align_items": null,
            "align_self": null,
            "border": null,
            "bottom": null,
            "display": null,
            "flex": null,
            "flex_flow": null,
            "grid_area": null,
            "grid_auto_columns": null,
            "grid_auto_flow": null,
            "grid_auto_rows": null,
            "grid_column": null,
            "grid_gap": null,
            "grid_row": null,
            "grid_template_areas": null,
            "grid_template_columns": null,
            "grid_template_rows": null,
            "height": null,
            "justify_content": null,
            "justify_items": null,
            "left": null,
            "margin": null,
            "max_height": null,
            "max_width": null,
            "min_height": null,
            "min_width": null,
            "object_fit": null,
            "object_position": null,
            "order": null,
            "overflow": null,
            "overflow_x": null,
            "overflow_y": null,
            "padding": null,
            "right": null,
            "top": null,
            "visibility": null,
            "width": null
          }
        },
        "2d89d01d718d4d438cfbe1eefad9951e": {
          "model_module": "@jupyter-widgets/controls",
          "model_module_version": "1.5.0",
          "model_name": "DescriptionStyleModel",
          "state": {
            "_model_module": "@jupyter-widgets/controls",
            "_model_module_version": "1.5.0",
            "_model_name": "DescriptionStyleModel",
            "_view_count": null,
            "_view_module": "@jupyter-widgets/base",
            "_view_module_version": "1.2.0",
            "_view_name": "StyleView",
            "description_width": ""
          }
        },
        "34e9d45a701c4f5c895ef2f37adeec0f": {
          "model_module": "@jupyter-widgets/controls",
          "model_module_version": "1.5.0",
          "model_name": "ProgressStyleModel",
          "state": {
            "_model_module": "@jupyter-widgets/controls",
            "_model_module_version": "1.5.0",
            "_model_name": "ProgressStyleModel",
            "_view_count": null,
            "_view_module": "@jupyter-widgets/base",
            "_view_module_version": "1.2.0",
            "_view_name": "StyleView",
            "bar_color": null,
            "description_width": ""
          }
        },
        "36af4c3e7a1f47b4b73bfd7ddc4f6d87": {
          "model_module": "@jupyter-widgets/controls",
          "model_module_version": "1.5.0",
          "model_name": "HBoxModel",
          "state": {
            "_dom_classes": [],
            "_model_module": "@jupyter-widgets/controls",
            "_model_module_version": "1.5.0",
            "_model_name": "HBoxModel",
            "_view_count": null,
            "_view_module": "@jupyter-widgets/controls",
            "_view_module_version": "1.5.0",
            "_view_name": "HBoxView",
            "box_style": "",
            "children": [
              "IPY_MODEL_6cbfb267e9f74dc0a59d77025883cba0",
              "IPY_MODEL_8683f743d3c148aaabedbb0606b13413",
              "IPY_MODEL_75210c2bc21440859da4c32e4ac2c97c"
            ],
            "layout": "IPY_MODEL_b814acd83b2946a28fd0cac33cf044eb"
          }
        },
        "36eea14d18454698a61bf4cf8f430b0e": {
          "model_module": "@jupyter-widgets/base",
          "model_module_version": "1.2.0",
          "model_name": "LayoutModel",
          "state": {
            "_model_module": "@jupyter-widgets/base",
            "_model_module_version": "1.2.0",
            "_model_name": "LayoutModel",
            "_view_count": null,
            "_view_module": "@jupyter-widgets/base",
            "_view_module_version": "1.2.0",
            "_view_name": "LayoutView",
            "align_content": null,
            "align_items": null,
            "align_self": null,
            "border": null,
            "bottom": null,
            "display": null,
            "flex": null,
            "flex_flow": null,
            "grid_area": null,
            "grid_auto_columns": null,
            "grid_auto_flow": null,
            "grid_auto_rows": null,
            "grid_column": null,
            "grid_gap": null,
            "grid_row": null,
            "grid_template_areas": null,
            "grid_template_columns": null,
            "grid_template_rows": null,
            "height": null,
            "justify_content": null,
            "justify_items": null,
            "left": null,
            "margin": null,
            "max_height": null,
            "max_width": null,
            "min_height": null,
            "min_width": null,
            "object_fit": null,
            "object_position": null,
            "order": null,
            "overflow": null,
            "overflow_x": null,
            "overflow_y": null,
            "padding": null,
            "right": null,
            "top": null,
            "visibility": null,
            "width": null
          }
        },
        "381d1f7c55ed4179a84f8f0787a9f5d7": {
          "model_module": "@jupyter-widgets/base",
          "model_module_version": "1.2.0",
          "model_name": "LayoutModel",
          "state": {
            "_model_module": "@jupyter-widgets/base",
            "_model_module_version": "1.2.0",
            "_model_name": "LayoutModel",
            "_view_count": null,
            "_view_module": "@jupyter-widgets/base",
            "_view_module_version": "1.2.0",
            "_view_name": "LayoutView",
            "align_content": null,
            "align_items": null,
            "align_self": null,
            "border": null,
            "bottom": null,
            "display": null,
            "flex": null,
            "flex_flow": null,
            "grid_area": null,
            "grid_auto_columns": null,
            "grid_auto_flow": null,
            "grid_auto_rows": null,
            "grid_column": null,
            "grid_gap": null,
            "grid_row": null,
            "grid_template_areas": null,
            "grid_template_columns": null,
            "grid_template_rows": null,
            "height": null,
            "justify_content": null,
            "justify_items": null,
            "left": null,
            "margin": null,
            "max_height": null,
            "max_width": null,
            "min_height": null,
            "min_width": null,
            "object_fit": null,
            "object_position": null,
            "order": null,
            "overflow": null,
            "overflow_x": null,
            "overflow_y": null,
            "padding": null,
            "right": null,
            "top": null,
            "visibility": null,
            "width": null
          }
        },
        "3a9e11d44cb84bb09ecefcfaacca6c95": {
          "model_module": "@jupyter-widgets/controls",
          "model_module_version": "1.5.0",
          "model_name": "DescriptionStyleModel",
          "state": {
            "_model_module": "@jupyter-widgets/controls",
            "_model_module_version": "1.5.0",
            "_model_name": "DescriptionStyleModel",
            "_view_count": null,
            "_view_module": "@jupyter-widgets/base",
            "_view_module_version": "1.2.0",
            "_view_name": "StyleView",
            "description_width": ""
          }
        },
        "40bb9b480519416c87865afcc757ede8": {
          "model_module": "@jupyter-widgets/controls",
          "model_module_version": "1.5.0",
          "model_name": "DescriptionStyleModel",
          "state": {
            "_model_module": "@jupyter-widgets/controls",
            "_model_module_version": "1.5.0",
            "_model_name": "DescriptionStyleModel",
            "_view_count": null,
            "_view_module": "@jupyter-widgets/base",
            "_view_module_version": "1.2.0",
            "_view_name": "StyleView",
            "description_width": ""
          }
        },
        "55066b2e2fe943b5a5ad466df3711e88": {
          "model_module": "@jupyter-widgets/controls",
          "model_module_version": "1.5.0",
          "model_name": "HBoxModel",
          "state": {
            "_dom_classes": [],
            "_model_module": "@jupyter-widgets/controls",
            "_model_module_version": "1.5.0",
            "_model_name": "HBoxModel",
            "_view_count": null,
            "_view_module": "@jupyter-widgets/controls",
            "_view_module_version": "1.5.0",
            "_view_name": "HBoxView",
            "box_style": "",
            "children": [
              "IPY_MODEL_b14dffc75c7342ea8349d71ebd7778de",
              "IPY_MODEL_8c2f075c54c949ab99cd2d7d6bb98856",
              "IPY_MODEL_c2da3a28044a465592759377cfda6914"
            ],
            "layout": "IPY_MODEL_381d1f7c55ed4179a84f8f0787a9f5d7"
          }
        },
        "55fdcac0c7734201ac9a94c7e309d0ce": {
          "model_module": "@jupyter-widgets/base",
          "model_module_version": "1.2.0",
          "model_name": "LayoutModel",
          "state": {
            "_model_module": "@jupyter-widgets/base",
            "_model_module_version": "1.2.0",
            "_model_name": "LayoutModel",
            "_view_count": null,
            "_view_module": "@jupyter-widgets/base",
            "_view_module_version": "1.2.0",
            "_view_name": "LayoutView",
            "align_content": null,
            "align_items": null,
            "align_self": null,
            "border": null,
            "bottom": null,
            "display": null,
            "flex": null,
            "flex_flow": null,
            "grid_area": null,
            "grid_auto_columns": null,
            "grid_auto_flow": null,
            "grid_auto_rows": null,
            "grid_column": null,
            "grid_gap": null,
            "grid_row": null,
            "grid_template_areas": null,
            "grid_template_columns": null,
            "grid_template_rows": null,
            "height": null,
            "justify_content": null,
            "justify_items": null,
            "left": null,
            "margin": null,
            "max_height": null,
            "max_width": null,
            "min_height": null,
            "min_width": null,
            "object_fit": null,
            "object_position": null,
            "order": null,
            "overflow": null,
            "overflow_x": null,
            "overflow_y": null,
            "padding": null,
            "right": null,
            "top": null,
            "visibility": null,
            "width": null
          }
        },
        "5803c5de764c42b3a46ce50ee464e295": {
          "model_module": "@jupyter-widgets/controls",
          "model_module_version": "1.5.0",
          "model_name": "FloatProgressModel",
          "state": {
            "_dom_classes": [],
            "_model_module": "@jupyter-widgets/controls",
            "_model_module_version": "1.5.0",
            "_model_name": "FloatProgressModel",
            "_view_count": null,
            "_view_module": "@jupyter-widgets/controls",
            "_view_module_version": "1.5.0",
            "_view_name": "ProgressView",
            "bar_style": "success",
            "description": "",
            "description_tooltip": null,
            "layout": "IPY_MODEL_76f4f1675eb64b929a7abd5d19a88ca1",
            "max": 616,
            "min": 0,
            "orientation": "horizontal",
            "style": "IPY_MODEL_ad7a7ca10c04444b9cf6a6e47fdb1d0a",
            "value": 616
          }
        },
        "609d3c83c61349afaf04abb695eb1b3c": {
          "model_module": "@jupyter-widgets/controls",
          "model_module_version": "1.5.0",
          "model_name": "DescriptionStyleModel",
          "state": {
            "_model_module": "@jupyter-widgets/controls",
            "_model_module_version": "1.5.0",
            "_model_name": "DescriptionStyleModel",
            "_view_count": null,
            "_view_module": "@jupyter-widgets/base",
            "_view_module_version": "1.2.0",
            "_view_name": "StyleView",
            "description_width": ""
          }
        },
        "6cbfb267e9f74dc0a59d77025883cba0": {
          "model_module": "@jupyter-widgets/controls",
          "model_module_version": "1.5.0",
          "model_name": "HTMLModel",
          "state": {
            "_dom_classes": [],
            "_model_module": "@jupyter-widgets/controls",
            "_model_module_version": "1.5.0",
            "_model_name": "HTMLModel",
            "_view_count": null,
            "_view_module": "@jupyter-widgets/controls",
            "_view_module_version": "1.5.0",
            "_view_name": "HTMLView",
            "description": "",
            "description_tooltip": null,
            "layout": "IPY_MODEL_36eea14d18454698a61bf4cf8f430b0e",
            "placeholder": "​",
            "style": "IPY_MODEL_950ed009cca24f0e9f9fcb81d6891fb8",
            "value": "Downloading (…)/main/tokenizer.json: 100%"
          }
        },
        "7271be1148444dee80ca3151275cff3f": {
          "model_module": "@jupyter-widgets/base",
          "model_module_version": "1.2.0",
          "model_name": "LayoutModel",
          "state": {
            "_model_module": "@jupyter-widgets/base",
            "_model_module_version": "1.2.0",
            "_model_name": "LayoutModel",
            "_view_count": null,
            "_view_module": "@jupyter-widgets/base",
            "_view_module_version": "1.2.0",
            "_view_name": "LayoutView",
            "align_content": null,
            "align_items": null,
            "align_self": null,
            "border": null,
            "bottom": null,
            "display": null,
            "flex": null,
            "flex_flow": null,
            "grid_area": null,
            "grid_auto_columns": null,
            "grid_auto_flow": null,
            "grid_auto_rows": null,
            "grid_column": null,
            "grid_gap": null,
            "grid_row": null,
            "grid_template_areas": null,
            "grid_template_columns": null,
            "grid_template_rows": null,
            "height": null,
            "justify_content": null,
            "justify_items": null,
            "left": null,
            "margin": null,
            "max_height": null,
            "max_width": null,
            "min_height": null,
            "min_width": null,
            "object_fit": null,
            "object_position": null,
            "order": null,
            "overflow": null,
            "overflow_x": null,
            "overflow_y": null,
            "padding": null,
            "right": null,
            "top": null,
            "visibility": null,
            "width": null
          }
        },
        "75210c2bc21440859da4c32e4ac2c97c": {
          "model_module": "@jupyter-widgets/controls",
          "model_module_version": "1.5.0",
          "model_name": "HTMLModel",
          "state": {
            "_dom_classes": [],
            "_model_module": "@jupyter-widgets/controls",
            "_model_module_version": "1.5.0",
            "_model_name": "HTMLModel",
            "_view_count": null,
            "_view_module": "@jupyter-widgets/controls",
            "_view_module_version": "1.5.0",
            "_view_name": "HTMLView",
            "description": "",
            "description_tooltip": null,
            "layout": "IPY_MODEL_93bc826b6fec40ebab361caac76dc258",
            "placeholder": "​",
            "style": "IPY_MODEL_2d89d01d718d4d438cfbe1eefad9951e",
            "value": " 9.10M/9.10M [00:00&lt;00:00, 30.7MB/s]"
          }
        },
        "75478d9964404d7b82bc3f873f9cbeff": {
          "model_module": "@jupyter-widgets/base",
          "model_module_version": "1.2.0",
          "model_name": "LayoutModel",
          "state": {
            "_model_module": "@jupyter-widgets/base",
            "_model_module_version": "1.2.0",
            "_model_name": "LayoutModel",
            "_view_count": null,
            "_view_module": "@jupyter-widgets/base",
            "_view_module_version": "1.2.0",
            "_view_name": "LayoutView",
            "align_content": null,
            "align_items": null,
            "align_self": null,
            "border": null,
            "bottom": null,
            "display": null,
            "flex": null,
            "flex_flow": null,
            "grid_area": null,
            "grid_auto_columns": null,
            "grid_auto_flow": null,
            "grid_auto_rows": null,
            "grid_column": null,
            "grid_gap": null,
            "grid_row": null,
            "grid_template_areas": null,
            "grid_template_columns": null,
            "grid_template_rows": null,
            "height": null,
            "justify_content": null,
            "justify_items": null,
            "left": null,
            "margin": null,
            "max_height": null,
            "max_width": null,
            "min_height": null,
            "min_width": null,
            "object_fit": null,
            "object_position": null,
            "order": null,
            "overflow": null,
            "overflow_x": null,
            "overflow_y": null,
            "padding": null,
            "right": null,
            "top": null,
            "visibility": null,
            "width": null
          }
        },
        "76f4f1675eb64b929a7abd5d19a88ca1": {
          "model_module": "@jupyter-widgets/base",
          "model_module_version": "1.2.0",
          "model_name": "LayoutModel",
          "state": {
            "_model_module": "@jupyter-widgets/base",
            "_model_module_version": "1.2.0",
            "_model_name": "LayoutModel",
            "_view_count": null,
            "_view_module": "@jupyter-widgets/base",
            "_view_module_version": "1.2.0",
            "_view_name": "LayoutView",
            "align_content": null,
            "align_items": null,
            "align_self": null,
            "border": null,
            "bottom": null,
            "display": null,
            "flex": null,
            "flex_flow": null,
            "grid_area": null,
            "grid_auto_columns": null,
            "grid_auto_flow": null,
            "grid_auto_rows": null,
            "grid_column": null,
            "grid_gap": null,
            "grid_row": null,
            "grid_template_areas": null,
            "grid_template_columns": null,
            "grid_template_rows": null,
            "height": null,
            "justify_content": null,
            "justify_items": null,
            "left": null,
            "margin": null,
            "max_height": null,
            "max_width": null,
            "min_height": null,
            "min_width": null,
            "object_fit": null,
            "object_position": null,
            "order": null,
            "overflow": null,
            "overflow_x": null,
            "overflow_y": null,
            "padding": null,
            "right": null,
            "top": null,
            "visibility": null,
            "width": null
          }
        },
        "793a23bef2bc4a23a591292128aa5417": {
          "model_module": "@jupyter-widgets/controls",
          "model_module_version": "1.5.0",
          "model_name": "ProgressStyleModel",
          "state": {
            "_model_module": "@jupyter-widgets/controls",
            "_model_module_version": "1.5.0",
            "_model_name": "ProgressStyleModel",
            "_view_count": null,
            "_view_module": "@jupyter-widgets/base",
            "_view_module_version": "1.2.0",
            "_view_name": "StyleView",
            "bar_color": null,
            "description_width": ""
          }
        },
        "81afa739dfee400ca014cf996e7e592a": {
          "model_module": "@jupyter-widgets/base",
          "model_module_version": "1.2.0",
          "model_name": "LayoutModel",
          "state": {
            "_model_module": "@jupyter-widgets/base",
            "_model_module_version": "1.2.0",
            "_model_name": "LayoutModel",
            "_view_count": null,
            "_view_module": "@jupyter-widgets/base",
            "_view_module_version": "1.2.0",
            "_view_name": "LayoutView",
            "align_content": null,
            "align_items": null,
            "align_self": null,
            "border": null,
            "bottom": null,
            "display": null,
            "flex": null,
            "flex_flow": null,
            "grid_area": null,
            "grid_auto_columns": null,
            "grid_auto_flow": null,
            "grid_auto_rows": null,
            "grid_column": null,
            "grid_gap": null,
            "grid_row": null,
            "grid_template_areas": null,
            "grid_template_columns": null,
            "grid_template_rows": null,
            "height": null,
            "justify_content": null,
            "justify_items": null,
            "left": null,
            "margin": null,
            "max_height": null,
            "max_width": null,
            "min_height": null,
            "min_width": null,
            "object_fit": null,
            "object_position": null,
            "order": null,
            "overflow": null,
            "overflow_x": null,
            "overflow_y": null,
            "padding": null,
            "right": null,
            "top": null,
            "visibility": null,
            "width": null
          }
        },
        "83fe33a749bf4d0d84e988ba5ae7415d": {
          "model_module": "@jupyter-widgets/controls",
          "model_module_version": "1.5.0",
          "model_name": "DescriptionStyleModel",
          "state": {
            "_model_module": "@jupyter-widgets/controls",
            "_model_module_version": "1.5.0",
            "_model_name": "DescriptionStyleModel",
            "_view_count": null,
            "_view_module": "@jupyter-widgets/base",
            "_view_module_version": "1.2.0",
            "_view_name": "StyleView",
            "description_width": ""
          }
        },
        "8461fbce88bb43d6a6a24eef9f94b53d": {
          "model_module": "@jupyter-widgets/base",
          "model_module_version": "1.2.0",
          "model_name": "LayoutModel",
          "state": {
            "_model_module": "@jupyter-widgets/base",
            "_model_module_version": "1.2.0",
            "_model_name": "LayoutModel",
            "_view_count": null,
            "_view_module": "@jupyter-widgets/base",
            "_view_module_version": "1.2.0",
            "_view_name": "LayoutView",
            "align_content": null,
            "align_items": null,
            "align_self": null,
            "border": null,
            "bottom": null,
            "display": null,
            "flex": null,
            "flex_flow": null,
            "grid_area": null,
            "grid_auto_columns": null,
            "grid_auto_flow": null,
            "grid_auto_rows": null,
            "grid_column": null,
            "grid_gap": null,
            "grid_row": null,
            "grid_template_areas": null,
            "grid_template_columns": null,
            "grid_template_rows": null,
            "height": null,
            "justify_content": null,
            "justify_items": null,
            "left": null,
            "margin": null,
            "max_height": null,
            "max_width": null,
            "min_height": null,
            "min_width": null,
            "object_fit": null,
            "object_position": null,
            "order": null,
            "overflow": null,
            "overflow_x": null,
            "overflow_y": null,
            "padding": null,
            "right": null,
            "top": null,
            "visibility": null,
            "width": null
          }
        },
        "8683f743d3c148aaabedbb0606b13413": {
          "model_module": "@jupyter-widgets/controls",
          "model_module_version": "1.5.0",
          "model_name": "FloatProgressModel",
          "state": {
            "_dom_classes": [],
            "_model_module": "@jupyter-widgets/controls",
            "_model_module_version": "1.5.0",
            "_model_name": "FloatProgressModel",
            "_view_count": null,
            "_view_module": "@jupyter-widgets/controls",
            "_view_module_version": "1.5.0",
            "_view_name": "ProgressView",
            "bar_style": "success",
            "description": "",
            "description_tooltip": null,
            "layout": "IPY_MODEL_c9ae5a8034e94f9598c92e40e8c0ce4d",
            "max": 9096718,
            "min": 0,
            "orientation": "horizontal",
            "style": "IPY_MODEL_34e9d45a701c4f5c895ef2f37adeec0f",
            "value": 9096718
          }
        },
        "8b00cc7b3e134c398122bc5c20d130ca": {
          "model_module": "@jupyter-widgets/controls",
          "model_module_version": "1.5.0",
          "model_name": "HTMLModel",
          "state": {
            "_dom_classes": [],
            "_model_module": "@jupyter-widgets/controls",
            "_model_module_version": "1.5.0",
            "_model_name": "HTMLModel",
            "_view_count": null,
            "_view_module": "@jupyter-widgets/controls",
            "_view_module_version": "1.5.0",
            "_view_name": "HTMLView",
            "description": "",
            "description_tooltip": null,
            "layout": "IPY_MODEL_7271be1148444dee80ca3151275cff3f",
            "placeholder": "​",
            "style": "IPY_MODEL_3a9e11d44cb84bb09ecefcfaacca6c95",
            "value": "Downloading (…)lve/main/config.json: 100%"
          }
        },
        "8c2f075c54c949ab99cd2d7d6bb98856": {
          "model_module": "@jupyter-widgets/controls",
          "model_module_version": "1.5.0",
          "model_name": "FloatProgressModel",
          "state": {
            "_dom_classes": [],
            "_model_module": "@jupyter-widgets/controls",
            "_model_module_version": "1.5.0",
            "_model_name": "FloatProgressModel",
            "_view_count": null,
            "_view_module": "@jupyter-widgets/controls",
            "_view_module_version": "1.5.0",
            "_view_name": "ProgressView",
            "bar_style": "success",
            "description": "",
            "description_tooltip": null,
            "layout": "IPY_MODEL_29c6f64e1e4c44c58e267f66f829c270",
            "max": 5069051,
            "min": 0,
            "orientation": "horizontal",
            "style": "IPY_MODEL_a9f9effceb484e529c0a366701faf932",
            "value": 5069051
          }
        },
        "8eb3f4089dda4b6fa9aff67716729544": {
          "model_module": "@jupyter-widgets/controls",
          "model_module_version": "1.5.0",
          "model_name": "FloatProgressModel",
          "state": {
            "_dom_classes": [],
            "_model_module": "@jupyter-widgets/controls",
            "_model_module_version": "1.5.0",
            "_model_name": "FloatProgressModel",
            "_view_count": null,
            "_view_module": "@jupyter-widgets/controls",
            "_view_module_version": "1.5.0",
            "_view_name": "ProgressView",
            "bar_style": "success",
            "description": "",
            "description_tooltip": null,
            "layout": "IPY_MODEL_2c1ce96246fb44d39ec2c90d88cfacc7",
            "max": 2244817354,
            "min": 0,
            "orientation": "horizontal",
            "style": "IPY_MODEL_793a23bef2bc4a23a591292128aa5417",
            "value": 2244817354
          }
        },
        "93bc826b6fec40ebab361caac76dc258": {
          "model_module": "@jupyter-widgets/base",
          "model_module_version": "1.2.0",
          "model_name": "LayoutModel",
          "state": {
            "_model_module": "@jupyter-widgets/base",
            "_model_module_version": "1.2.0",
            "_model_name": "LayoutModel",
            "_view_count": null,
            "_view_module": "@jupyter-widgets/base",
            "_view_module_version": "1.2.0",
            "_view_name": "LayoutView",
            "align_content": null,
            "align_items": null,
            "align_self": null,
            "border": null,
            "bottom": null,
            "display": null,
            "flex": null,
            "flex_flow": null,
            "grid_area": null,
            "grid_auto_columns": null,
            "grid_auto_flow": null,
            "grid_auto_rows": null,
            "grid_column": null,
            "grid_gap": null,
            "grid_row": null,
            "grid_template_areas": null,
            "grid_template_columns": null,
            "grid_template_rows": null,
            "height": null,
            "justify_content": null,
            "justify_items": null,
            "left": null,
            "margin": null,
            "max_height": null,
            "max_width": null,
            "min_height": null,
            "min_width": null,
            "object_fit": null,
            "object_position": null,
            "order": null,
            "overflow": null,
            "overflow_x": null,
            "overflow_y": null,
            "padding": null,
            "right": null,
            "top": null,
            "visibility": null,
            "width": null
          }
        },
        "950ed009cca24f0e9f9fcb81d6891fb8": {
          "model_module": "@jupyter-widgets/controls",
          "model_module_version": "1.5.0",
          "model_name": "DescriptionStyleModel",
          "state": {
            "_model_module": "@jupyter-widgets/controls",
            "_model_module_version": "1.5.0",
            "_model_name": "DescriptionStyleModel",
            "_view_count": null,
            "_view_module": "@jupyter-widgets/base",
            "_view_module_version": "1.2.0",
            "_view_name": "StyleView",
            "description_width": ""
          }
        },
        "99d6ee40a85d4cc59562fb1eb2de8495": {
          "model_module": "@jupyter-widgets/controls",
          "model_module_version": "1.5.0",
          "model_name": "HTMLModel",
          "state": {
            "_dom_classes": [],
            "_model_module": "@jupyter-widgets/controls",
            "_model_module_version": "1.5.0",
            "_model_name": "HTMLModel",
            "_view_count": null,
            "_view_module": "@jupyter-widgets/controls",
            "_view_module_version": "1.5.0",
            "_view_name": "HTMLView",
            "description": "",
            "description_tooltip": null,
            "layout": "IPY_MODEL_067897f968d74f8483ab551f552bcbb8",
            "placeholder": "​",
            "style": "IPY_MODEL_83fe33a749bf4d0d84e988ba5ae7415d",
            "value": " 2.24G/2.24G [00:19&lt;00:00, 174MB/s]"
          }
        },
        "a9f9effceb484e529c0a366701faf932": {
          "model_module": "@jupyter-widgets/controls",
          "model_module_version": "1.5.0",
          "model_name": "ProgressStyleModel",
          "state": {
            "_model_module": "@jupyter-widgets/controls",
            "_model_module_version": "1.5.0",
            "_model_name": "ProgressStyleModel",
            "_view_count": null,
            "_view_module": "@jupyter-widgets/base",
            "_view_module_version": "1.2.0",
            "_view_name": "StyleView",
            "bar_color": null,
            "description_width": ""
          }
        },
        "ad7a7ca10c04444b9cf6a6e47fdb1d0a": {
          "model_module": "@jupyter-widgets/controls",
          "model_module_version": "1.5.0",
          "model_name": "ProgressStyleModel",
          "state": {
            "_model_module": "@jupyter-widgets/controls",
            "_model_module_version": "1.5.0",
            "_model_name": "ProgressStyleModel",
            "_view_count": null,
            "_view_module": "@jupyter-widgets/base",
            "_view_module_version": "1.2.0",
            "_view_name": "StyleView",
            "bar_color": null,
            "description_width": ""
          }
        },
        "b14dffc75c7342ea8349d71ebd7778de": {
          "model_module": "@jupyter-widgets/controls",
          "model_module_version": "1.5.0",
          "model_name": "HTMLModel",
          "state": {
            "_dom_classes": [],
            "_model_module": "@jupyter-widgets/controls",
            "_model_module_version": "1.5.0",
            "_model_name": "HTMLModel",
            "_view_count": null,
            "_view_module": "@jupyter-widgets/controls",
            "_view_module_version": "1.5.0",
            "_view_name": "HTMLView",
            "description": "",
            "description_tooltip": null,
            "layout": "IPY_MODEL_55fdcac0c7734201ac9a94c7e309d0ce",
            "placeholder": "​",
            "style": "IPY_MODEL_40bb9b480519416c87865afcc757ede8",
            "value": "Downloading (…)tencepiece.bpe.model: 100%"
          }
        },
        "b814acd83b2946a28fd0cac33cf044eb": {
          "model_module": "@jupyter-widgets/base",
          "model_module_version": "1.2.0",
          "model_name": "LayoutModel",
          "state": {
            "_model_module": "@jupyter-widgets/base",
            "_model_module_version": "1.2.0",
            "_model_name": "LayoutModel",
            "_view_count": null,
            "_view_module": "@jupyter-widgets/base",
            "_view_module_version": "1.2.0",
            "_view_name": "LayoutView",
            "align_content": null,
            "align_items": null,
            "align_self": null,
            "border": null,
            "bottom": null,
            "display": null,
            "flex": null,
            "flex_flow": null,
            "grid_area": null,
            "grid_auto_columns": null,
            "grid_auto_flow": null,
            "grid_auto_rows": null,
            "grid_column": null,
            "grid_gap": null,
            "grid_row": null,
            "grid_template_areas": null,
            "grid_template_columns": null,
            "grid_template_rows": null,
            "height": null,
            "justify_content": null,
            "justify_items": null,
            "left": null,
            "margin": null,
            "max_height": null,
            "max_width": null,
            "min_height": null,
            "min_width": null,
            "object_fit": null,
            "object_position": null,
            "order": null,
            "overflow": null,
            "overflow_x": null,
            "overflow_y": null,
            "padding": null,
            "right": null,
            "top": null,
            "visibility": null,
            "width": null
          }
        },
        "c21d6b200f134ad79b1a428f26bd312c": {
          "model_module": "@jupyter-widgets/base",
          "model_module_version": "1.2.0",
          "model_name": "LayoutModel",
          "state": {
            "_model_module": "@jupyter-widgets/base",
            "_model_module_version": "1.2.0",
            "_model_name": "LayoutModel",
            "_view_count": null,
            "_view_module": "@jupyter-widgets/base",
            "_view_module_version": "1.2.0",
            "_view_name": "LayoutView",
            "align_content": null,
            "align_items": null,
            "align_self": null,
            "border": null,
            "bottom": null,
            "display": null,
            "flex": null,
            "flex_flow": null,
            "grid_area": null,
            "grid_auto_columns": null,
            "grid_auto_flow": null,
            "grid_auto_rows": null,
            "grid_column": null,
            "grid_gap": null,
            "grid_row": null,
            "grid_template_areas": null,
            "grid_template_columns": null,
            "grid_template_rows": null,
            "height": null,
            "justify_content": null,
            "justify_items": null,
            "left": null,
            "margin": null,
            "max_height": null,
            "max_width": null,
            "min_height": null,
            "min_width": null,
            "object_fit": null,
            "object_position": null,
            "order": null,
            "overflow": null,
            "overflow_x": null,
            "overflow_y": null,
            "padding": null,
            "right": null,
            "top": null,
            "visibility": null,
            "width": null
          }
        },
        "c2da3a28044a465592759377cfda6914": {
          "model_module": "@jupyter-widgets/controls",
          "model_module_version": "1.5.0",
          "model_name": "HTMLModel",
          "state": {
            "_dom_classes": [],
            "_model_module": "@jupyter-widgets/controls",
            "_model_module_version": "1.5.0",
            "_model_name": "HTMLModel",
            "_view_count": null,
            "_view_module": "@jupyter-widgets/controls",
            "_view_module_version": "1.5.0",
            "_view_name": "HTMLView",
            "description": "",
            "description_tooltip": null,
            "layout": "IPY_MODEL_c21d6b200f134ad79b1a428f26bd312c",
            "placeholder": "​",
            "style": "IPY_MODEL_1b4c9094a49b4ae68900167ba5570dc7",
            "value": " 5.07M/5.07M [00:00&lt;00:00, 30.6MB/s]"
          }
        },
        "c9ae5a8034e94f9598c92e40e8c0ce4d": {
          "model_module": "@jupyter-widgets/base",
          "model_module_version": "1.2.0",
          "model_name": "LayoutModel",
          "state": {
            "_model_module": "@jupyter-widgets/base",
            "_model_module_version": "1.2.0",
            "_model_name": "LayoutModel",
            "_view_count": null,
            "_view_module": "@jupyter-widgets/base",
            "_view_module_version": "1.2.0",
            "_view_name": "LayoutView",
            "align_content": null,
            "align_items": null,
            "align_self": null,
            "border": null,
            "bottom": null,
            "display": null,
            "flex": null,
            "flex_flow": null,
            "grid_area": null,
            "grid_auto_columns": null,
            "grid_auto_flow": null,
            "grid_auto_rows": null,
            "grid_column": null,
            "grid_gap": null,
            "grid_row": null,
            "grid_template_areas": null,
            "grid_template_columns": null,
            "grid_template_rows": null,
            "height": null,
            "justify_content": null,
            "justify_items": null,
            "left": null,
            "margin": null,
            "max_height": null,
            "max_width": null,
            "min_height": null,
            "min_width": null,
            "object_fit": null,
            "object_position": null,
            "order": null,
            "overflow": null,
            "overflow_x": null,
            "overflow_y": null,
            "padding": null,
            "right": null,
            "top": null,
            "visibility": null,
            "width": null
          }
        },
        "d582fa630b024f9f8e26d9dfa1ecddda": {
          "model_module": "@jupyter-widgets/controls",
          "model_module_version": "1.5.0",
          "model_name": "HTMLModel",
          "state": {
            "_dom_classes": [],
            "_model_module": "@jupyter-widgets/controls",
            "_model_module_version": "1.5.0",
            "_model_name": "HTMLModel",
            "_view_count": null,
            "_view_module": "@jupyter-widgets/controls",
            "_view_module_version": "1.5.0",
            "_view_name": "HTMLView",
            "description": "",
            "description_tooltip": null,
            "layout": "IPY_MODEL_0332d5b5363d419abda76e15c16d887c",
            "placeholder": "​",
            "style": "IPY_MODEL_ffc46c323ee04732a9d42445b840a833",
            "value": " 616/616 [00:00&lt;00:00, 38.9kB/s]"
          }
        },
        "ffc46c323ee04732a9d42445b840a833": {
          "model_module": "@jupyter-widgets/controls",
          "model_module_version": "1.5.0",
          "model_name": "DescriptionStyleModel",
          "state": {
            "_model_module": "@jupyter-widgets/controls",
            "_model_module_version": "1.5.0",
            "_model_name": "DescriptionStyleModel",
            "_view_count": null,
            "_view_module": "@jupyter-widgets/base",
            "_view_module_version": "1.2.0",
            "_view_name": "StyleView",
            "description_width": ""
          }
        }
      }
    }
  },
  "nbformat": 4,
  "nbformat_minor": 0
}
